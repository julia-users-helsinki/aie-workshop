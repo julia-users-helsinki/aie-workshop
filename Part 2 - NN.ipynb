{
 "cells": [
  {
   "cell_type": "markdown",
   "metadata": {},
   "source": [
    "# AIE Workshop - Julia for Computational Modelling\n",
    "## Part 2: Neural networks with `Flux.jl`\n",
    "\n",
    "- **Speaker**: Fabricio Oliveira \n",
    "- **Contact**: fabricio.oliveira@aalto.fi | [gamma-opt.aalto.fi](https://gamma-opt.aalto.fi/)"
   ]
  },
  {
   "cell_type": "markdown",
   "metadata": {},
   "source": [
    "### Example 1: MNIST\n",
    "\n",
    "Let's start from a simple example and develop a simple fully connected neural network for predicting digits using the MNIST dataset."
   ]
  },
  {
   "cell_type": "code",
   "execution_count": 23,
   "metadata": {},
   "outputs": [],
   "source": [
    "using Flux \n",
    "using BSON          # for saving trained model\n",
    "using MLDatasets    # interface for common ML datasets; BSON is \n",
    "using MLUtils       # For data manipulation\n",
    "using Surrogates    # For sampling\n",
    "\n",
    "using LinearAlgebra, Random, Statistics, Plots, Images\n",
    "Random.seed!(1);"
   ]
  },
  {
   "cell_type": "markdown",
   "metadata": {},
   "source": [
    "This gives us an idea of the sizes of our preset train and test splits."
   ]
  },
  {
   "cell_type": "code",
   "execution_count": 24,
   "metadata": {},
   "outputs": [
    {
     "name": "stdout",
     "output_type": "stream",
     "text": [
      "summary(x_train_raw) = \"28×28×60000 Array{Float32, 3}\"\n",
      "summary(x_test_raw) = \"28×28×10000 Array{Float32, 3}\"\n"
     ]
    }
   ],
   "source": [
    "x_train_raw, y_train_raw = MNIST(split=:train)[:] \n",
    "x_test_raw, y_test_raw = MNIST(split=:test)[:]\n",
    "\n",
    "@show summary(x_train_raw)\n",
    "@show summary(x_test_raw);"
   ]
  },
  {
   "cell_type": "markdown",
   "metadata": {},
   "source": [
    "Let's have a look at some examples of our data"
   ]
  },
  {
   "cell_type": "code",
   "execution_count": 25,
   "metadata": {},
   "outputs": [
    {
     "name": "stdout",
     "output_type": "stream",
     "text": [
      "labels =  [5, 0, 4, 1, 9]\n"
     ]
    },
    {
     "data": {
      "text/html": [
       "<table><tbody><tr><td style='text-align:center;vertical-align:middle; margin: 0.5em;border:1px #90999f solid;border-collapse:collapse'><img style='max-width: 100px; max-height:100px;display:inline' src=\"data:image/png;base64,iVBORw0KGgoAAAANSUhEUgAAAHAAAABwCAAAAADji6uXAAAABGdBTUEAALGPC/xhBQAAAAFzUkdCAK7OHOkAAAAgY0hSTQAAeiYAAICEAAD6AAAAgOgAAHUwAADqYAAAOpgAABdwnLpRPAAAAiVJREFUaAW9wT2IFgQABuAHemnI4aJFISgJwkDIIiqIsMLcajiKIEEIshosmgSHhhoUIW/IcIgCISHa+psKsp8hEKSSSAlyECon61Q+jMDT4RuO7w6/n5Pe54myKIuyKIuyKIuyKIuyKIuyKIuyKIuyKIuyKIuyKIsZ3YQ5y17FLdiE3TiI5/EvDuAto6IsyqIsJrgDN+MRPIpb8YzV/sAhzOMSTuI7q0VZlEVZjHE/vsac8ZbwBgb4CH/hH/xmtSiLsiiLMc7iPOasdhyLeAL/4ajpRFmURVmM8Tf24Cn8hEOGfsZ2DLAZr5telEVZlMUEn+IYLmELXsQCBoZ+xcumF2VRFmUxhYuGLhjahY+xZHZRFmVRFjN4Ew/gMTyJr8wuyqIsymIGA7yEH/E+vsEJHMZV04myKIuymNEZvIAj2ImdWIcPcc5kURZlURZr8Al+xwK2YT/uxD78abwoi7IoizX6Bc/haRzBK7gb240XZVEWZXEDFnEUHyDYisfxreuLsiiLslije/EsHkQMncL3xouyKIuymNEmvIZ5bLDsCs5hyXhRFmVRFlPagB3YjY1GncA+fG6yKIuyKIsJ1mMz3sU9Rh3H2/gMS6YTZVEWZXEdt+E93Ie7jPoBC/gSl80myqIsymKFh7EHD+F2oy7jHezHwNpEWZRFWawwj3nLTuMLXMFBLLoxURZlURYr7MVe/58oi7Ioi7Ioi7Ioi7Ioi7IouwZsVVgTmd3ynQAAAABJRU5ErkJg\"></td><td style='text-align:center;vertical-align:middle; margin: 0.5em;border:1px #90999f solid;border-collapse:collapse'><img style='max-width: 100px; max-height:100px;display:inline' src=\"data:image/png;base64,iVBORw0KGgoAAAANSUhEUgAAAHAAAABwCAAAAADji6uXAAAABGdBTUEAALGPC/xhBQAAAAFzUkdCAK7OHOkAAAAgY0hSTQAAeiYAAICEAAD6AAAAgOgAAHUwAADqYAAAOpgAABdwnLpRPAAAAjJJREFUaAW9wT1oHAQABtB3+mGISDN0sIK46SaGFEUnxbEVFTtIkWYVRCgoAYcomRzUDlYQBREUhTo4WCwihcKB0EGtOneTQkAtgu1ih5zDDRlyf0nley/KoizKoizKoizKoizKoizKoizKoizKoixuw1G8inV8jg9wxWxRFmVRFge0ios4hBFO4VkcNluURVmUxQE8hq+xghFu4BYO4wn8jFsmi7Ioi7LYh7uxhi9wn11X8Q7O4Qe8ibdNFmVRFmWxDx/jpL3WcA+GeAoPmy7KoizKYkFHcRwDY0N8i3exjV/wN57GwHRRFmVRFgtYxUUcwgjf4SSexCY+wZ/4DTs4jjVcsVeURVmUxRwPYQMr+Avb+Aw3cQEX7LWM1/GSvaIsyqIsZljCeziGG1jHT1g23wMmi7Ioi7KYYQ3HjD2HodsXZVEWZTHDGQwwxNBi7sAOBiaLsiiLspjiGaxihPMWt4MRfjVZlEVZlMUUy7gLf+Ar8y1hy9glvGGyKIuyKIs5/sW22ZawiQ1cwxncNFmURVmUxRznzbaKDbyIb3DCbFEWZVEWUwwwwPM4bbLXsIkVfIl180VZlEVZTDHCCEdwFp/iOh7HKTyC+/E7vseHFhNlURZlMcedeAUn8A8etOsyLuEti4uyKIuymOIyfsSjxo7gXmPXcQ6n7V+URVmUxRTX8AJexqZd7+MjXHUwURZlURYzbGMLW/4/URZlURZlURZlURZlURZlURZlURZlUfYfqPxYlL4fzGQAAAAASUVORK5C\"></td><td style='text-align:center;vertical-align:middle; margin: 0.5em;border:1px #90999f solid;border-collapse:collapse'><img style='max-width: 100px; max-height:100px;display:inline' src=\"data:image/png;base64,iVBORw0KGgoAAAANSUhEUgAAAHAAAABwCAAAAADji6uXAAAABGdBTUEAALGPC/xhBQAAAAFzUkdCAK7OHOkAAAAgY0hSTQAAeiYAAICEAAD6AAAAgOgAAHUwAADqYAAAOpgAABdwnLpRPAAAAbVJREFUaAW9wT2rDQAABuDnnN6UhSLdlNQdbrZrMjCgbkl2E9kY/ASrSfkBBukOjMJkMJkQRvJRihhsSpFSDGdw7nHP/Tid3ueJsiiLsiiLsiiLsiiLsiiLsiiLsiiLsiiLsiiLsiiLOVvBHZzAW/+LsiiLsphwHHtxz2yO4IXpoizKoiwmnMQS7tm+IRZxEAPri7Ioi7KYcAFPzGY/LuI23lhflEVZlMWEodndNPLedFEWZVEWY5axYHa7jTwyXZRFWZTFmDPYaTYLWDTyxXRRFmVRFmMOGXll+65jAe/w3XRRFmVRFut4bmt24TTO45SRq/hmuiiLsiiLdeyx1mEMsYID2IFzGOInnuEXgpc2FmVRFmUx5if+4Aau+GcZA/zGD7zGLbzAY3zFZ+zEGxuLsiiLshhzGR9xzFqf8ACv8dT/LmEfPthclEVZlMWEa7Zvxchdm4uyKIuymKP7NhdlURZlURZlURZlMScDLOGJjUVZlEVZzMkfDG0uyqIsymKOjmLVxqIsyqIs5mRga6IsyqIs5uAhztqaKIuyKIs5WMWqrYmyKIuyKIuyKIuyKIuyKIuyv/irMYSJ7ydGAAAAAElFTkSuQmCC\"></td><td style='text-align:center;vertical-align:middle; margin: 0.5em;border:1px #90999f solid;border-collapse:collapse'><img style='max-width: 100px; max-height:100px;display:inline' src=\"data:image/png;base64,iVBORw0KGgoAAAANSUhEUgAAAHAAAABwCAAAAADji6uXAAAABGdBTUEAALGPC/xhBQAAAAFzUkdCAK7OHOkAAAAgY0hSTQAAeiYAAICEAAD6AAAAgOgAAHUwAADqYAAAOpgAABdwnLpRPAAAAYtJREFUaAW9waFqVQEABuCP8YNRRUFM7glkDzDQoGIw+AYbdpugYcUgDEwiy4p9wSooCjLwDWYRDIJrCibD1XDCLc577rmX//uiLMqiLMqiLMqiLMqiLMqiLMqiLMqiLMqiLMqiLMpiTfbwGBu4jg/+LcqiLMpiDXbxCDODP04XZVEWZbEGV3DGOFEWZVEWK7qB+wbHuIMTp4uyKIuyWME2XuKswVN89X9RFmVRFivYwWWD93hlsSiLsiiLiS7iHmb4gSfGibIoi7KYYBOH5p7jnXGiLMqiLCa4jasGb/HMeFEWZVEWS7qLfYOP2MFP40VZlEVZLGETh+a+4MRyoizKoiyW8BAzc/uWF2VRFmUx0hZumXuNz5YXZVEWZTHSG5w3+IRd00RZlEVZjHQBM4MD/DJNlEVZlMUIL7Bh7sh0URZlURYLbOEmZviNA5yYLsqiLMpigXO4ZPAND6wmyqIsyqIsyqIsymKBYxxh23pEWZRFWSzwHdesT5RFWZRFWZRFWZRFWZRFWZT9BXYjLFSLepVZAAAAAElFTkSuQmCC\"></td><td style='text-align:center;vertical-align:middle; margin: 0.5em;border:1px #90999f solid;border-collapse:collapse'><img style='max-width: 100px; max-height:100px;display:inline' src=\"data:image/png;base64,iVBORw0KGgoAAAANSUhEUgAAAHAAAABwCAAAAADji6uXAAAABGdBTUEAALGPC/xhBQAAAAFzUkdCAK7OHOkAAAAgY0hSTQAAeiYAAICEAAD6AAAAgOgAAHUwAADqYAAAOpgAABdwnLpRPAAAAf5JREFUaAW9wT+I1QUAB/DPxRf7Q4PEXeDikG22STRlS1xbOHkOOTganFMQooSgNtTU0pJDosEhIogtR0uUi9AmuES1iMtFxAMJHO45/IYb5L177xd8P58oi7Ioi7Ioi7Ioi7Ioi7Ioi7Ioi7Ioi7Ioi7Ioi7Ioi7Ioi7Ioi7Ioi7JY0ns4jeM4avAZnuB93MADs0VZlEVZLGED32AVK/gZa/jaYAWrOGW2KIuyKIsFBO/iO7yGX3AZ9/EybmHd4DfzRVmURVks4BNcM/gJG5gYbGDd4DGumy/KoizKYh9XcB5TfIuLmNhzwZ5z2DFflEVZlMUcX+A8nmEbn+M/g1ewjsNYwRXctb8oi7IoixkO4lNMsY0T9ryNH3DM4Da+spgoi7IoixkOYNXgHN7EGXyMd/A6ppjiJp5aTJRFWZTFDM+wgzX8hak9TzDBIfyNexYXZVEWZTHDvziBH/EG/sBdfI9/sIVD2LKcKIuyKIs5HmDNi47jA+ziT8uJsiiLshjhVexiii3LibIoi7IYYdt4URZlURYjfGS8KIuyKIsRjhgvyqIsymKEX/ESdi0vyqIsymKEh/gdb+EIdiwuyqIsymKkL3ENV7GJRxYTZVEWZTHSHZzCh7iEM3hqf1EWZVEWI01wEldxFpfwyP6iLMqiLP6HCTaxaXFRFmVR9hxr7UyvfehgBAAAAABJRU5ErkJg\"></td></tr></tbody></table><div><small>(a vector displayed as a row to save space)</small></div>"
      ],
      "text/plain": [
       "5-element Vector{Base.ReinterpretArray{Gray{Float32}, 2, Float32, Adjoint{Float32, Matrix{Float32}}, true}}:\n",
       " [Gray{Float32}(0.0f0) Gray{Float32}(0.0f0) … Gray{Float32}(0.0f0) Gray{Float32}(0.0f0); Gray{Float32}(0.0f0) Gray{Float32}(0.0f0) … Gray{Float32}(0.0f0) Gray{Float32}(0.0f0); … ; Gray{Float32}(0.0f0) Gray{Float32}(0.0f0) … Gray{Float32}(0.0f0) Gray{Float32}(0.0f0); Gray{Float32}(0.0f0) Gray{Float32}(0.0f0) … Gray{Float32}(0.0f0) Gray{Float32}(0.0f0)]\n",
       " [Gray{Float32}(0.0f0) Gray{Float32}(0.0f0) … Gray{Float32}(0.0f0) Gray{Float32}(0.0f0); Gray{Float32}(0.0f0) Gray{Float32}(0.0f0) … Gray{Float32}(0.0f0) Gray{Float32}(0.0f0); … ; Gray{Float32}(0.0f0) Gray{Float32}(0.0f0) … Gray{Float32}(0.0f0) Gray{Float32}(0.0f0); Gray{Float32}(0.0f0) Gray{Float32}(0.0f0) … Gray{Float32}(0.0f0) Gray{Float32}(0.0f0)]\n",
       " [Gray{Float32}(0.0f0) Gray{Float32}(0.0f0) … Gray{Float32}(0.0f0) Gray{Float32}(0.0f0); Gray{Float32}(0.0f0) Gray{Float32}(0.0f0) … Gray{Float32}(0.0f0) Gray{Float32}(0.0f0); … ; Gray{Float32}(0.0f0) Gray{Float32}(0.0f0) … Gray{Float32}(0.0f0) Gray{Float32}(0.0f0); Gray{Float32}(0.0f0) Gray{Float32}(0.0f0) … Gray{Float32}(0.0f0) Gray{Float32}(0.0f0)]\n",
       " [Gray{Float32}(0.0f0) Gray{Float32}(0.0f0) … Gray{Float32}(0.0f0) Gray{Float32}(0.0f0); Gray{Float32}(0.0f0) Gray{Float32}(0.0f0) … Gray{Float32}(0.0f0) Gray{Float32}(0.0f0); … ; Gray{Float32}(0.0f0) Gray{Float32}(0.0f0) … Gray{Float32}(0.0f0) Gray{Float32}(0.0f0); Gray{Float32}(0.0f0) Gray{Float32}(0.0f0) … Gray{Float32}(0.0f0) Gray{Float32}(0.0f0)]\n",
       " [Gray{Float32}(0.0f0) Gray{Float32}(0.0f0) … Gray{Float32}(0.0f0) Gray{Float32}(0.0f0); Gray{Float32}(0.0f0) Gray{Float32}(0.0f0) … Gray{Float32}(0.0f0) Gray{Float32}(0.0f0); … ; Gray{Float32}(0.0f0) Gray{Float32}(0.0f0) … Gray{Float32}(0.0f0) Gray{Float32}(0.0f0); Gray{Float32}(0.0f0) Gray{Float32}(0.0f0) … Gray{Float32}(0.0f0) Gray{Float32}(0.0f0)]"
      ]
     },
     "metadata": {},
     "output_type": "display_data"
    }
   ],
   "source": [
    "println(\"labels =  $(y_train_raw[1:5])\") \n",
    "img = [x_train_raw[:, :, i]' |> colorview(Gray) for i=1:5]  # or use convert2image()"
   ]
  },
  {
   "cell_type": "markdown",
   "metadata": {},
   "source": [
    "Preparing the data to input our network. Simply means flattening the image to a vector and doing a one-hot encoding of the classes"
   ]
  },
  {
   "cell_type": "code",
   "execution_count": 26,
   "metadata": {},
   "outputs": [
    {
     "data": {
      "text/plain": [
       "(784, 60000)"
      ]
     },
     "metadata": {},
     "output_type": "display_data"
    }
   ],
   "source": [
    "x_train = Flux.flatten(x_train_raw) # single input layer\n",
    "x_test = Flux.flatten(x_test_raw)   #\n",
    "\n",
    "size(x_train) # 28 x 28 = 784"
   ]
  },
  {
   "cell_type": "code",
   "execution_count": 27,
   "metadata": {},
   "outputs": [
    {
     "data": {
      "text/plain": [
       "10×10000 OneHotMatrix(::Vector{UInt32}) with eltype Bool:\n",
       " ⋅  ⋅  ⋅  1  ⋅  ⋅  ⋅  ⋅  ⋅  ⋅  1  ⋅  ⋅  …  ⋅  ⋅  ⋅  ⋅  ⋅  1  ⋅  ⋅  ⋅  ⋅  ⋅  ⋅\n",
       " ⋅  ⋅  1  ⋅  ⋅  1  ⋅  ⋅  ⋅  ⋅  ⋅  ⋅  ⋅     ⋅  ⋅  ⋅  ⋅  ⋅  ⋅  1  ⋅  ⋅  ⋅  ⋅  ⋅\n",
       " ⋅  1  ⋅  ⋅  ⋅  ⋅  ⋅  ⋅  ⋅  ⋅  ⋅  ⋅  ⋅     ⋅  ⋅  ⋅  ⋅  ⋅  ⋅  ⋅  1  ⋅  ⋅  ⋅  ⋅\n",
       " ⋅  ⋅  ⋅  ⋅  ⋅  ⋅  ⋅  ⋅  ⋅  ⋅  ⋅  ⋅  ⋅     ⋅  ⋅  ⋅  ⋅  ⋅  ⋅  ⋅  ⋅  1  ⋅  ⋅  ⋅\n",
       " ⋅  ⋅  ⋅  ⋅  1  ⋅  1  ⋅  ⋅  ⋅  ⋅  ⋅  ⋅     ⋅  ⋅  ⋅  ⋅  ⋅  ⋅  ⋅  ⋅  ⋅  1  ⋅  ⋅\n",
       " ⋅  ⋅  ⋅  ⋅  ⋅  ⋅  ⋅  ⋅  1  ⋅  ⋅  ⋅  ⋅  …  1  ⋅  ⋅  ⋅  ⋅  ⋅  ⋅  ⋅  ⋅  ⋅  1  ⋅\n",
       " ⋅  ⋅  ⋅  ⋅  ⋅  ⋅  ⋅  ⋅  ⋅  ⋅  ⋅  1  ⋅     ⋅  1  ⋅  ⋅  ⋅  ⋅  ⋅  ⋅  ⋅  ⋅  ⋅  1\n",
       " 1  ⋅  ⋅  ⋅  ⋅  ⋅  ⋅  ⋅  ⋅  ⋅  ⋅  ⋅  ⋅     ⋅  ⋅  1  ⋅  ⋅  ⋅  ⋅  ⋅  ⋅  ⋅  ⋅  ⋅\n",
       " ⋅  ⋅  ⋅  ⋅  ⋅  ⋅  ⋅  ⋅  ⋅  ⋅  ⋅  ⋅  ⋅     ⋅  ⋅  ⋅  1  ⋅  ⋅  ⋅  ⋅  ⋅  ⋅  ⋅  ⋅\n",
       " ⋅  ⋅  ⋅  ⋅  ⋅  ⋅  ⋅  1  ⋅  1  ⋅  ⋅  1     ⋅  ⋅  ⋅  ⋅  1  ⋅  ⋅  ⋅  ⋅  ⋅  ⋅  ⋅"
      ]
     },
     "metadata": {},
     "output_type": "display_data"
    }
   ],
   "source": [
    "y_train = Flux.onehotbatch(y_train_raw, 0:9)\n",
    "y_test = Flux.onehotbatch(y_test_raw, 0:9)"
   ]
  },
  {
   "cell_type": "markdown",
   "metadata": {},
   "source": [
    "Now `Flux.jl` really start to show its role. We will startt by defining our model. We choose a very simple fully connected (i.e., `Dense`) network with ReLU activation layers. At the very end, we input a softmax to decide on the classification."
   ]
  },
  {
   "cell_type": "code",
   "execution_count": 28,
   "metadata": {},
   "outputs": [
    {
     "data": {
      "text/plain": [
       "Chain(\n",
       "  Dense(784 => 32, relu),               \u001b[90m# 25_120 parameters\u001b[39m\n",
       "  Dense(32 => 128, relu),               \u001b[90m# 4_224 parameters\u001b[39m\n",
       "  Dense(128 => 64, relu),               \u001b[90m# 8_256 parameters\u001b[39m\n",
       "  Dense(64 => 10),                      \u001b[90m# 650 parameters\u001b[39m\n",
       "  NNlib.softmax,\n",
       ") \u001b[90m                  # Total: 8 arrays, \u001b[39m38_250 parameters, 149.914 KiB."
      ]
     },
     "metadata": {},
     "output_type": "display_data"
    }
   ],
   "source": [
    "model_MLP = Chain(\n",
    "    Dense(28 * 28, 32, relu),\n",
    "    Dense(32, 128, relu),\n",
    "    Dense(128, 64, relu),\n",
    "    Dense(64, 10),\n",
    "    softmax\n",
    ")"
   ]
  },
  {
   "cell_type": "markdown",
   "metadata": {},
   "source": [
    "In `Flux.jl` we have the freedom to define whatever we want as our loss function. Notice we simply used the readly available `Flux.crossentropy`, but we could have defined our own rather trivially."
   ]
  },
  {
   "cell_type": "code",
   "execution_count": 29,
   "metadata": {},
   "outputs": [
    {
     "data": {
      "text/plain": [
       "calculate_loss (generic function with 1 method)"
      ]
     },
     "metadata": {},
     "output_type": "display_data"
    }
   ],
   "source": [
    "# sqnorm(x) = sum(abs2, x)\n",
    "loss(model, x, y) = Flux.crossentropy(model(x), y) #+ sum(sqnorm, Flux.params(model))\n",
    "\n",
    "\n",
    "# Showcasing equivalence in function definiton while pretting-up things\n",
    "function calculate_loss(model, data)\n",
    "    return loss(model, data[1][1], data[1][2])\n",
    "end"
   ]
  },
  {
   "cell_type": "markdown",
   "metadata": {},
   "source": [
    "Setting up the optimiser to be used in the training. "
   ]
  },
  {
   "cell_type": "code",
   "execution_count": 30,
   "metadata": {},
   "outputs": [
    {
     "data": {
      "text/plain": [
       "(layers = ((weight = \u001b[32mLeaf(Adam(0.001, (0.9, 0.999), 1.0e-8), \u001b[39m(Float32[0.0 0.0 … 0.0 0.0; 0.0 0.0 … 0.0 0.0; … ; 0.0 0.0 … 0.0 0.0; 0.0 0.0 … 0.0 0.0], Float32[0.0 0.0 … 0.0 0.0; 0.0 0.0 … 0.0 0.0; … ; 0.0 0.0 … 0.0 0.0; 0.0 0.0 … 0.0 0.0], (0.9, 0.999))\u001b[32m)\u001b[39m, bias = \u001b[32mLeaf(Adam(0.001, (0.9, 0.999), 1.0e-8), \u001b[39m(Float32[0.0, 0.0, 0.0, 0.0, 0.0, 0.0, 0.0, 0.0, 0.0, 0.0  …  0.0, 0.0, 0.0, 0.0, 0.0, 0.0, 0.0, 0.0, 0.0, 0.0], Float32[0.0, 0.0, 0.0, 0.0, 0.0, 0.0, 0.0, 0.0, 0.0, 0.0  …  0.0, 0.0, 0.0, 0.0, 0.0, 0.0, 0.0, 0.0, 0.0, 0.0], (0.9, 0.999))\u001b[32m)\u001b[39m, σ = ()), (weight = \u001b[32mLeaf(Adam(0.001, (0.9, 0.999), 1.0e-8), \u001b[39m(Float32[0.0 0.0 … 0.0 0.0; 0.0 0.0 … 0.0 0.0; … ; 0.0 0.0 … 0.0 0.0; 0.0 0.0 … 0.0 0.0], Float32[0.0 0.0 … 0.0 0.0; 0.0 0.0 … 0.0 0.0; … ; 0.0 0.0 … 0.0 0.0; 0.0 0.0 … 0.0 0.0], (0.9, 0.999))\u001b[32m)\u001b[39m, bias = \u001b[32mLeaf(Adam(0.001, (0.9, 0.999), 1.0e-8), \u001b[39m(Float32[0.0, 0.0, 0.0, 0.0, 0.0, 0.0, 0.0, 0.0, 0.0, 0.0  …  0.0, 0.0, 0.0, 0.0, 0.0, 0.0, 0.0, 0.0, 0.0, 0.0], Float32[0.0, 0.0, 0.0, 0.0, 0.0, 0.0, 0.0, 0.0, 0.0, 0.0  …  0.0, 0.0, 0.0, 0.0, 0.0, 0.0, 0.0, 0.0, 0.0, 0.0], (0.9, 0.999))\u001b[32m)\u001b[39m, σ = ()), (weight = \u001b[32mLeaf(Adam(0.001, (0.9, 0.999), 1.0e-8), \u001b[39m(Float32[0.0 0.0 … 0.0 0.0; 0.0 0.0 … 0.0 0.0; … ; 0.0 0.0 … 0.0 0.0; 0.0 0.0 … 0.0 0.0], Float32[0.0 0.0 … 0.0 0.0; 0.0 0.0 … 0.0 0.0; … ; 0.0 0.0 … 0.0 0.0; 0.0 0.0 … 0.0 0.0], (0.9, 0.999))\u001b[32m)\u001b[39m, bias = \u001b[32mLeaf(Adam(0.001, (0.9, 0.999), 1.0e-8), \u001b[39m(Float32[0.0, 0.0, 0.0, 0.0, 0.0, 0.0, 0.0, 0.0, 0.0, 0.0  …  0.0, 0.0, 0.0, 0.0, 0.0, 0.0, 0.0, 0.0, 0.0, 0.0], Float32[0.0, 0.0, 0.0, 0.0, 0.0, 0.0, 0.0, 0.0, 0.0, 0.0  …  0.0, 0.0, 0.0, 0.0, 0.0, 0.0, 0.0, 0.0, 0.0, 0.0], (0.9, 0.999))\u001b[32m)\u001b[39m, σ = ()), (weight = \u001b[32mLeaf(Adam(0.001, (0.9, 0.999), 1.0e-8), \u001b[39m(Float32[0.0 0.0 … 0.0 0.0; 0.0 0.0 … 0.0 0.0; … ; 0.0 0.0 … 0.0 0.0; 0.0 0.0 … 0.0 0.0], Float32[0.0 0.0 … 0.0 0.0; 0.0 0.0 … 0.0 0.0; … ; 0.0 0.0 … 0.0 0.0; 0.0 0.0 … 0.0 0.0], (0.9, 0.999))\u001b[32m)\u001b[39m, bias = \u001b[32mLeaf(Adam(0.001, (0.9, 0.999), 1.0e-8), \u001b[39m(Float32[0.0, 0.0, 0.0, 0.0, 0.0, 0.0, 0.0, 0.0, 0.0, 0.0], Float32[0.0, 0.0, 0.0, 0.0, 0.0, 0.0, 0.0, 0.0, 0.0, 0.0], (0.9, 0.999))\u001b[32m)\u001b[39m, σ = ()), ()),)"
      ]
     },
     "metadata": {},
     "output_type": "display_data"
    }
   ],
   "source": [
    "η = 0.001 # learning rate\n",
    "opt = Flux.setup(ADAM(η), model_MLP)"
   ]
  },
  {
   "cell_type": "code",
   "execution_count": 31,
   "metadata": {},
   "outputs": [
    {
     "name": "stdout",
     "output_type": "stream",
     "text": [
      "epoch=1 : train_loss=2.3074534\n",
      "epoch=11 : train_loss=1.9637378\n",
      "epoch=21 : train_loss=1.2889465\n",
      "epoch=31 : train_loss=0.7159186\n",
      "epoch=41 : train_loss=0.49009284\n",
      "epoch=51 : train_loss=0.39187136\n",
      "epoch=61 : train_loss=0.33563712\n",
      "epoch=71 : train_loss=0.29903296\n",
      "epoch=81 : train_loss=0.27182177\n",
      "epoch=91 : train_loss=0.24970347\n",
      "epoch=101 : train_loss=0.2313164\n",
      "epoch=111 : train_loss=0.21583642\n",
      "epoch=121 : train_loss=0.20269036\n",
      "epoch=131 : train_loss=0.19142236\n",
      "epoch=141 : train_loss=0.18162185\n",
      "epoch=151 : train_loss=0.1729085\n",
      "epoch=161 : train_loss=0.16497281\n",
      "epoch=171 : train_loss=0.15762262\n",
      "epoch=181 : train_loss=0.15072712\n",
      "epoch=191 : train_loss=0.14420491\n"
     ]
    },
    {
     "data": {
      "image/png": "[encoded data removed]",
      "image/svg+xml": [
       "<?xml version=\"1.0\" encoding=\"utf-8\"?>\n",
       "<svg xmlns=\"http://www.w3.org/2000/svg\" xmlns:xlink=\"http://www.w3.org/1999/xlink\" width=\"600\" height=\"400\" viewBox=\"0 0 2400 1600\">\n",
       "<defs>\n",
       "  <clipPath id=\"clip550\">\n",
       "    <rect x=\"0\" y=\"0\" width=\"2400\" height=\"1600\"/>\n",
       "  </clipPath>\n",
       "</defs>\n",
       "<path clip-path=\"url(#clip550)\" d=\"M0 1600 L2400 1600 L2400 8.88178e-14 L0 8.88178e-14  Z\" fill=\"#ffffff\" fill-rule=\"evenodd\" fill-opacity=\"1\"/>\n",
       "<defs>\n",
       "  <clipPath id=\"clip551\">\n",
       "    <rect x=\"480\" y=\"0\" width=\"1681\" height=\"1600\"/>\n",
       "  </clipPath>\n",
       "</defs>\n",
       "<path clip-path=\"url(#clip550)\" d=\"M219.033 1423.18 L2352.76 1423.18 L2352.76 47.2441 L219.033 47.2441  Z\" fill=\"#ffffff\" fill-rule=\"evenodd\" fill-opacity=\"1\"/>\n",
       "<defs>\n",
       "  <clipPath id=\"clip552\">\n",
       "    <rect x=\"219\" y=\"47\" width=\"2135\" height=\"1377\"/>\n",
       "  </clipPath>\n",
       "</defs>\n",
       "<polyline clip-path=\"url(#clip552)\" style=\"stroke:#000000; stroke-linecap:round; stroke-linejoin:round; stroke-width:2; stroke-opacity:0.1; fill:none\" points=\"269.306,1423.18 269.306,47.2441 \"/>\n",
       "<polyline clip-path=\"url(#clip552)\" style=\"stroke:#000000; stroke-linecap:round; stroke-linejoin:round; stroke-width:2; stroke-opacity:0.1; fill:none\" points=\"775.071,1423.18 775.071,47.2441 \"/>\n",
       "<polyline clip-path=\"url(#clip552)\" style=\"stroke:#000000; stroke-linecap:round; stroke-linejoin:round; stroke-width:2; stroke-opacity:0.1; fill:none\" points=\"1280.84,1423.18 1280.84,47.2441 \"/>\n",
       "<polyline clip-path=\"url(#clip552)\" style=\"stroke:#000000; stroke-linecap:round; stroke-linejoin:round; stroke-width:2; stroke-opacity:0.1; fill:none\" points=\"1786.6,1423.18 1786.6,47.2441 \"/>\n",
       "<polyline clip-path=\"url(#clip552)\" style=\"stroke:#000000; stroke-linecap:round; stroke-linejoin:round; stroke-width:2; stroke-opacity:0.1; fill:none\" points=\"2292.37,1423.18 2292.37,47.2441 \"/>\n",
       "<polyline clip-path=\"url(#clip550)\" style=\"stroke:#000000; stroke-linecap:round; stroke-linejoin:round; stroke-width:4; stroke-opacity:1; fill:none\" points=\"219.033,1423.18 2352.76,1423.18 \"/>\n",
       "<polyline clip-path=\"url(#clip550)\" style=\"stroke:#000000; stroke-linecap:round; stroke-linejoin:round; stroke-width:4; stroke-opacity:1; fill:none\" points=\"269.306,1423.18 269.306,1404.28 \"/>\n",
       "<polyline clip-path=\"url(#clip550)\" style=\"stroke:#000000; stroke-linecap:round; stroke-linejoin:round; stroke-width:4; stroke-opacity:1; fill:none\" points=\"775.071,1423.18 775.071,1404.28 \"/>\n",
       "<polyline clip-path=\"url(#clip550)\" style=\"stroke:#000000; stroke-linecap:round; stroke-linejoin:round; stroke-width:4; stroke-opacity:1; fill:none\" points=\"1280.84,1423.18 1280.84,1404.28 \"/>\n",
       "<polyline clip-path=\"url(#clip550)\" style=\"stroke:#000000; stroke-linecap:round; stroke-linejoin:round; stroke-width:4; stroke-opacity:1; fill:none\" points=\"1786.6,1423.18 1786.6,1404.28 \"/>\n",
       "<polyline clip-path=\"url(#clip550)\" style=\"stroke:#000000; stroke-linecap:round; stroke-linejoin:round; stroke-width:4; stroke-opacity:1; fill:none\" points=\"2292.37,1423.18 2292.37,1404.28 \"/>\n",
       "<path clip-path=\"url(#clip550)\" d=\"M269.306 1454.1 Q265.695 1454.1 263.866 1457.66 Q262.061 1461.2 262.061 1468.33 Q262.061 1475.44 263.866 1479.01 Q265.695 1482.55 269.306 1482.55 Q272.94 1482.55 274.746 1479.01 Q276.574 1475.44 276.574 1468.33 Q276.574 1461.2 274.746 1457.66 Q272.94 1454.1 269.306 1454.1 M269.306 1450.39 Q275.116 1450.39 278.172 1455 Q281.25 1459.58 281.25 1468.33 Q281.25 1477.06 278.172 1481.67 Q275.116 1486.25 269.306 1486.25 Q263.496 1486.25 260.417 1481.67 Q257.362 1477.06 257.362 1468.33 Q257.362 1459.58 260.417 1455 Q263.496 1450.39 269.306 1450.39 Z\" fill=\"#000000\" fill-rule=\"nonzero\" fill-opacity=\"1\" /><path clip-path=\"url(#clip550)\" d=\"M749.771 1451.02 L768.127 1451.02 L768.127 1454.96 L754.053 1454.96 L754.053 1463.43 Q755.071 1463.08 756.09 1462.92 Q757.109 1462.73 758.127 1462.73 Q763.914 1462.73 767.294 1465.9 Q770.673 1469.08 770.673 1474.49 Q770.673 1480.07 767.201 1483.17 Q763.729 1486.25 757.409 1486.25 Q755.234 1486.25 752.965 1485.88 Q750.72 1485.51 748.312 1484.77 L748.312 1480.07 Q750.396 1481.2 752.618 1481.76 Q754.84 1482.32 757.317 1482.32 Q761.321 1482.32 763.659 1480.21 Q765.997 1478.1 765.997 1474.49 Q765.997 1470.88 763.659 1468.77 Q761.321 1466.67 757.317 1466.67 Q755.442 1466.67 753.567 1467.08 Q751.715 1467.5 749.771 1468.38 L749.771 1451.02 Z\" fill=\"#000000\" fill-rule=\"nonzero\" fill-opacity=\"1\" /><path clip-path=\"url(#clip550)\" d=\"M789.886 1454.1 Q786.275 1454.1 784.446 1457.66 Q782.641 1461.2 782.641 1468.33 Q782.641 1475.44 784.446 1479.01 Q786.275 1482.55 789.886 1482.55 Q793.52 1482.55 795.326 1479.01 Q797.155 1475.44 797.155 1468.33 Q797.155 1461.2 795.326 1457.66 Q793.52 1454.1 789.886 1454.1 M789.886 1450.39 Q795.696 1450.39 798.752 1455 Q801.831 1459.58 801.831 1468.33 Q801.831 1477.06 798.752 1481.67 Q795.696 1486.25 789.886 1486.25 Q784.076 1486.25 780.997 1481.67 Q777.942 1477.06 777.942 1468.33 Q777.942 1459.58 780.997 1455 Q784.076 1450.39 789.886 1450.39 Z\" fill=\"#000000\" fill-rule=\"nonzero\" fill-opacity=\"1\" /><path clip-path=\"url(#clip550)\" d=\"M1240.44 1481.64 L1248.08 1481.64 L1248.08 1455.28 L1239.77 1456.95 L1239.77 1452.69 L1248.04 1451.02 L1252.71 1451.02 L1252.71 1481.64 L1260.35 1481.64 L1260.35 1485.58 L1240.44 1485.58 L1240.44 1481.64 Z\" fill=\"#000000\" fill-rule=\"nonzero\" fill-opacity=\"1\" /><path clip-path=\"url(#clip550)\" d=\"M1279.8 1454.1 Q1276.18 1454.1 1274.36 1457.66 Q1272.55 1461.2 1272.55 1468.33 Q1272.55 1475.44 1274.36 1479.01 Q1276.18 1482.55 1279.8 1482.55 Q1283.43 1482.55 1285.23 1479.01 Q1287.06 1475.44 1287.06 1468.33 Q1287.06 1461.2 1285.23 1457.66 Q1283.43 1454.1 1279.8 1454.1 M1279.8 1450.39 Q1285.61 1450.39 1288.66 1455 Q1291.74 1459.58 1291.74 1468.33 Q1291.74 1477.06 1288.66 1481.67 Q1285.61 1486.25 1279.8 1486.25 Q1273.98 1486.25 1270.91 1481.67 Q1267.85 1477.06 1267.85 1468.33 Q1267.85 1459.58 1270.91 1455 Q1273.98 1450.39 1279.8 1450.39 Z\" fill=\"#000000\" fill-rule=\"nonzero\" fill-opacity=\"1\" /><path clip-path=\"url(#clip550)\" d=\"M1309.96 1454.1 Q1306.35 1454.1 1304.52 1457.66 Q1302.71 1461.2 1302.71 1468.33 Q1302.71 1475.44 1304.52 1479.01 Q1306.35 1482.55 1309.96 1482.55 Q1313.59 1482.55 1315.4 1479.01 Q1317.23 1475.44 1317.23 1468.33 Q1317.23 1461.2 1315.4 1457.66 Q1313.59 1454.1 1309.96 1454.1 M1309.96 1450.39 Q1315.77 1450.39 1318.82 1455 Q1321.9 1459.58 1321.9 1468.33 Q1321.9 1477.06 1318.82 1481.67 Q1315.77 1486.25 1309.96 1486.25 Q1304.15 1486.25 1301.07 1481.67 Q1298.01 1477.06 1298.01 1468.33 Q1298.01 1459.58 1301.07 1455 Q1304.15 1450.39 1309.96 1450.39 Z\" fill=\"#000000\" fill-rule=\"nonzero\" fill-opacity=\"1\" /><path clip-path=\"url(#clip550)\" d=\"M1746.21 1481.64 L1753.85 1481.64 L1753.85 1455.28 L1745.54 1456.95 L1745.54 1452.69 L1753.8 1451.02 L1758.48 1451.02 L1758.48 1481.64 L1766.12 1481.64 L1766.12 1485.58 L1746.21 1485.58 L1746.21 1481.64 Z\" fill=\"#000000\" fill-rule=\"nonzero\" fill-opacity=\"1\" /><path clip-path=\"url(#clip550)\" d=\"M1775.61 1451.02 L1793.96 1451.02 L1793.96 1454.96 L1779.89 1454.96 L1779.89 1463.43 Q1780.91 1463.08 1781.93 1462.92 Q1782.94 1462.73 1783.96 1462.73 Q1789.75 1462.73 1793.13 1465.9 Q1796.51 1469.08 1796.51 1474.49 Q1796.51 1480.07 1793.04 1483.17 Q1789.57 1486.25 1783.25 1486.25 Q1781.07 1486.25 1778.8 1485.88 Q1776.56 1485.51 1774.15 1484.77 L1774.15 1480.07 Q1776.23 1481.2 1778.45 1481.76 Q1780.68 1482.32 1783.15 1482.32 Q1787.16 1482.32 1789.5 1480.21 Q1791.83 1478.1 1791.83 1474.49 Q1791.83 1470.88 1789.5 1468.77 Q1787.16 1466.67 1783.15 1466.67 Q1781.28 1466.67 1779.4 1467.08 Q1777.55 1467.5 1775.61 1468.38 L1775.61 1451.02 Z\" fill=\"#000000\" fill-rule=\"nonzero\" fill-opacity=\"1\" /><path clip-path=\"url(#clip550)\" d=\"M1815.72 1454.1 Q1812.11 1454.1 1810.28 1457.66 Q1808.48 1461.2 1808.48 1468.33 Q1808.48 1475.44 1810.28 1479.01 Q1812.11 1482.55 1815.72 1482.55 Q1819.36 1482.55 1821.16 1479.01 Q1822.99 1475.44 1822.99 1468.33 Q1822.99 1461.2 1821.16 1457.66 Q1819.36 1454.1 1815.72 1454.1 M1815.72 1450.39 Q1821.53 1450.39 1824.59 1455 Q1827.67 1459.58 1827.67 1468.33 Q1827.67 1477.06 1824.59 1481.67 Q1821.53 1486.25 1815.72 1486.25 Q1809.91 1486.25 1806.83 1481.67 Q1803.78 1477.06 1803.78 1468.33 Q1803.78 1459.58 1806.83 1455 Q1809.91 1450.39 1815.72 1450.39 Z\" fill=\"#000000\" fill-rule=\"nonzero\" fill-opacity=\"1\" /><path clip-path=\"url(#clip550)\" d=\"M2256.06 1481.64 L2272.38 1481.64 L2272.38 1485.58 L2250.43 1485.58 L2250.43 1481.64 Q2253.1 1478.89 2257.68 1474.26 Q2262.29 1469.61 2263.47 1468.27 Q2265.71 1465.74 2266.59 1464.01 Q2267.49 1462.25 2267.49 1460.56 Q2267.49 1457.8 2265.55 1456.07 Q2263.63 1454.33 2260.53 1454.33 Q2258.33 1454.33 2255.87 1455.09 Q2253.44 1455.86 2250.67 1457.41 L2250.67 1452.69 Q2253.49 1451.55 2255.94 1450.97 Q2258.4 1450.39 2260.43 1450.39 Q2265.81 1450.39 2269 1453.08 Q2272.19 1455.77 2272.19 1460.26 Q2272.19 1462.39 2271.38 1464.31 Q2270.6 1466.2 2268.49 1468.8 Q2267.91 1469.47 2264.81 1472.69 Q2261.71 1475.88 2256.06 1481.64 Z\" fill=\"#000000\" fill-rule=\"nonzero\" fill-opacity=\"1\" /><path clip-path=\"url(#clip550)\" d=\"M2292.19 1454.1 Q2288.58 1454.1 2286.75 1457.66 Q2284.95 1461.2 2284.95 1468.33 Q2284.95 1475.44 2286.75 1479.01 Q2288.58 1482.55 2292.19 1482.55 Q2295.83 1482.55 2297.63 1479.01 Q2299.46 1475.44 2299.46 1468.33 Q2299.46 1461.2 2297.63 1457.66 Q2295.83 1454.1 2292.19 1454.1 M2292.19 1450.39 Q2298 1450.39 2301.06 1455 Q2304.14 1459.58 2304.14 1468.33 Q2304.14 1477.06 2301.06 1481.67 Q2298 1486.25 2292.19 1486.25 Q2286.38 1486.25 2283.31 1481.67 Q2280.25 1477.06 2280.25 1468.33 Q2280.25 1459.58 2283.31 1455 Q2286.38 1450.39 2292.19 1450.39 Z\" fill=\"#000000\" fill-rule=\"nonzero\" fill-opacity=\"1\" /><path clip-path=\"url(#clip550)\" d=\"M2322.36 1454.1 Q2318.74 1454.1 2316.92 1457.66 Q2315.11 1461.2 2315.11 1468.33 Q2315.11 1475.44 2316.92 1479.01 Q2318.74 1482.55 2322.36 1482.55 Q2325.99 1482.55 2327.8 1479.01 Q2329.62 1475.44 2329.62 1468.33 Q2329.62 1461.2 2327.8 1457.66 Q2325.99 1454.1 2322.36 1454.1 M2322.36 1450.39 Q2328.17 1450.39 2331.22 1455 Q2334.3 1459.58 2334.3 1468.33 Q2334.3 1477.06 2331.22 1481.67 Q2328.17 1486.25 2322.36 1486.25 Q2316.55 1486.25 2313.47 1481.67 Q2310.41 1477.06 2310.41 1468.33 Q2310.41 1459.58 2313.47 1455 Q2316.55 1450.39 2322.36 1450.39 Z\" fill=\"#000000\" fill-rule=\"nonzero\" fill-opacity=\"1\" /><path clip-path=\"url(#clip550)\" d=\"M1206.08 1548.76 L1206.08 1551.62 L1179.16 1551.62 Q1179.54 1557.67 1182.79 1560.85 Q1186.06 1564 1191.89 1564 Q1195.26 1564 1198.41 1563.17 Q1201.6 1562.35 1204.72 1560.69 L1204.72 1566.23 Q1201.56 1567.57 1198.25 1568.27 Q1194.94 1568.97 1191.54 1568.97 Q1183.01 1568.97 1178.01 1564 Q1173.05 1559.04 1173.05 1550.57 Q1173.05 1541.82 1177.76 1536.69 Q1182.5 1531.54 1190.52 1531.54 Q1197.71 1531.54 1201.88 1536.18 Q1206.08 1540.8 1206.08 1548.76 M1200.23 1547.04 Q1200.16 1542.23 1197.52 1539.37 Q1194.91 1536.5 1190.58 1536.5 Q1185.68 1536.5 1182.72 1539.27 Q1179.79 1542.04 1179.35 1547.07 L1200.23 1547.04 Z\" fill=\"#000000\" fill-rule=\"nonzero\" fill-opacity=\"1\" /><path clip-path=\"url(#clip550)\" d=\"M1221.36 1562.7 L1221.36 1581.6 L1215.47 1581.6 L1215.47 1532.4 L1221.36 1532.4 L1221.36 1537.81 Q1223.21 1534.62 1226.01 1533.1 Q1228.84 1531.54 1232.76 1531.54 Q1239.25 1531.54 1243.29 1536.69 Q1247.37 1541.85 1247.37 1550.25 Q1247.37 1558.65 1243.29 1563.81 Q1239.25 1568.97 1232.76 1568.97 Q1228.84 1568.97 1226.01 1567.44 Q1223.21 1565.88 1221.36 1562.7 M1241.29 1550.25 Q1241.29 1543.79 1238.61 1540.13 Q1235.97 1536.44 1231.32 1536.44 Q1226.68 1536.44 1224 1540.13 Q1221.36 1543.79 1221.36 1550.25 Q1221.36 1556.71 1224 1560.4 Q1226.68 1564.07 1231.32 1564.07 Q1235.97 1564.07 1238.61 1560.4 Q1241.29 1556.71 1241.29 1550.25 Z\" fill=\"#000000\" fill-rule=\"nonzero\" fill-opacity=\"1\" /><path clip-path=\"url(#clip550)\" d=\"M1270.89 1536.5 Q1266.18 1536.5 1263.44 1540.19 Q1260.7 1543.85 1260.7 1550.25 Q1260.7 1556.65 1263.41 1560.34 Q1266.14 1564 1270.89 1564 Q1275.57 1564 1278.3 1560.31 Q1281.04 1556.62 1281.04 1550.25 Q1281.04 1543.92 1278.3 1540.23 Q1275.57 1536.5 1270.89 1536.5 M1270.89 1531.54 Q1278.53 1531.54 1282.89 1536.5 Q1287.25 1541.47 1287.25 1550.25 Q1287.25 1559 1282.89 1564 Q1278.53 1568.97 1270.89 1568.97 Q1263.22 1568.97 1258.86 1564 Q1254.53 1559 1254.53 1550.25 Q1254.53 1541.47 1258.86 1536.5 Q1263.22 1531.54 1270.89 1531.54 Z\" fill=\"#000000\" fill-rule=\"nonzero\" fill-opacity=\"1\" /><path clip-path=\"url(#clip550)\" d=\"M1322.61 1533.76 L1322.61 1539.24 Q1320.13 1537.87 1317.61 1537.2 Q1315.13 1536.5 1312.58 1536.5 Q1306.89 1536.5 1303.73 1540.13 Q1300.58 1543.73 1300.58 1550.25 Q1300.58 1556.78 1303.73 1560.4 Q1306.89 1564 1312.58 1564 Q1315.13 1564 1317.61 1563.33 Q1320.13 1562.63 1322.61 1561.26 L1322.61 1566.68 Q1320.16 1567.82 1317.52 1568.39 Q1314.91 1568.97 1311.95 1568.97 Q1303.89 1568.97 1299.15 1563.91 Q1294.41 1558.85 1294.41 1550.25 Q1294.41 1541.53 1299.18 1536.53 Q1303.99 1531.54 1312.33 1531.54 Q1315.03 1531.54 1317.61 1532.11 Q1320.19 1532.65 1322.61 1533.76 Z\" fill=\"#000000\" fill-rule=\"nonzero\" fill-opacity=\"1\" /><path clip-path=\"url(#clip550)\" d=\"M1362.43 1546.53 L1362.43 1568.04 L1356.57 1568.04 L1356.57 1546.72 Q1356.57 1541.66 1354.6 1539.14 Q1352.62 1536.63 1348.68 1536.63 Q1343.93 1536.63 1341.2 1539.65 Q1338.46 1542.68 1338.46 1547.9 L1338.46 1568.04 L1332.57 1568.04 L1332.57 1518.52 L1338.46 1518.52 L1338.46 1537.93 Q1340.56 1534.72 1343.39 1533.13 Q1346.26 1531.54 1349.98 1531.54 Q1356.12 1531.54 1359.28 1535.36 Q1362.43 1539.14 1362.43 1546.53 Z\" fill=\"#000000\" fill-rule=\"nonzero\" fill-opacity=\"1\" /><path clip-path=\"url(#clip550)\" d=\"M1396.83 1533.45 L1396.83 1538.98 Q1394.35 1537.71 1391.68 1537.07 Q1389 1536.44 1386.14 1536.44 Q1381.78 1536.44 1379.58 1537.77 Q1377.42 1539.11 1377.42 1541.79 Q1377.42 1543.82 1378.98 1545 Q1380.54 1546.15 1385.25 1547.2 L1387.25 1547.64 Q1393.49 1548.98 1396.1 1551.43 Q1398.74 1553.85 1398.74 1558.21 Q1398.74 1563.17 1394.8 1566.07 Q1390.88 1568.97 1384.01 1568.97 Q1381.14 1568.97 1378.02 1568.39 Q1374.93 1567.85 1371.5 1566.74 L1371.5 1560.69 Q1374.74 1562.38 1377.89 1563.24 Q1381.05 1564.07 1384.13 1564.07 Q1388.27 1564.07 1390.5 1562.66 Q1392.73 1561.23 1392.73 1558.65 Q1392.73 1556.27 1391.1 1554.99 Q1389.51 1553.72 1384.07 1552.54 L1382.03 1552.07 Q1376.59 1550.92 1374.17 1548.56 Q1371.75 1546.18 1371.75 1542.04 Q1371.75 1537.01 1375.32 1534.27 Q1378.88 1531.54 1385.44 1531.54 Q1388.68 1531.54 1391.55 1532.01 Q1394.41 1532.49 1396.83 1533.45 Z\" fill=\"#000000\" fill-rule=\"nonzero\" fill-opacity=\"1\" /><polyline clip-path=\"url(#clip552)\" style=\"stroke:#000000; stroke-linecap:round; stroke-linejoin:round; stroke-width:2; stroke-opacity:0.1; fill:none\" points=\"219.033,1167.94 2352.76,1167.94 \"/>\n",
       "<polyline clip-path=\"url(#clip552)\" style=\"stroke:#000000; stroke-linecap:round; stroke-linejoin:round; stroke-width:2; stroke-opacity:0.1; fill:none\" points=\"219.033,868.69 2352.76,868.69 \"/>\n",
       "<polyline clip-path=\"url(#clip552)\" style=\"stroke:#000000; stroke-linecap:round; stroke-linejoin:round; stroke-width:2; stroke-opacity:0.1; fill:none\" points=\"219.033,569.442 2352.76,569.442 \"/>\n",
       "<polyline clip-path=\"url(#clip552)\" style=\"stroke:#000000; stroke-linecap:round; stroke-linejoin:round; stroke-width:2; stroke-opacity:0.1; fill:none\" points=\"219.033,270.195 2352.76,270.195 \"/>\n",
       "<polyline clip-path=\"url(#clip550)\" style=\"stroke:#000000; stroke-linecap:round; stroke-linejoin:round; stroke-width:4; stroke-opacity:1; fill:none\" points=\"219.033,1423.18 219.033,47.2441 \"/>\n",
       "<polyline clip-path=\"url(#clip550)\" style=\"stroke:#000000; stroke-linecap:round; stroke-linejoin:round; stroke-width:4; stroke-opacity:1; fill:none\" points=\"219.033,1167.94 237.931,1167.94 \"/>\n",
       "<polyline clip-path=\"url(#clip550)\" style=\"stroke:#000000; stroke-linecap:round; stroke-linejoin:round; stroke-width:4; stroke-opacity:1; fill:none\" points=\"219.033,868.69 237.931,868.69 \"/>\n",
       "<polyline clip-path=\"url(#clip550)\" style=\"stroke:#000000; stroke-linecap:round; stroke-linejoin:round; stroke-width:4; stroke-opacity:1; fill:none\" points=\"219.033,569.442 237.931,569.442 \"/>\n",
       "<polyline clip-path=\"url(#clip550)\" style=\"stroke:#000000; stroke-linecap:round; stroke-linejoin:round; stroke-width:4; stroke-opacity:1; fill:none\" points=\"219.033,270.195 237.931,270.195 \"/>\n",
       "<path clip-path=\"url(#clip550)\" d=\"M126.853 1153.74 Q123.242 1153.74 121.413 1157.3 Q119.607 1160.84 119.607 1167.97 Q119.607 1175.08 121.413 1178.64 Q123.242 1182.18 126.853 1182.18 Q130.487 1182.18 132.292 1178.64 Q134.121 1175.08 134.121 1167.97 Q134.121 1160.84 132.292 1157.3 Q130.487 1153.74 126.853 1153.74 M126.853 1150.03 Q132.663 1150.03 135.718 1154.64 Q138.797 1159.22 138.797 1167.97 Q138.797 1176.7 135.718 1181.31 Q132.663 1185.89 126.853 1185.89 Q121.043 1185.89 117.964 1181.31 Q114.908 1176.7 114.908 1167.97 Q114.908 1159.22 117.964 1154.64 Q121.043 1150.03 126.853 1150.03 Z\" fill=\"#000000\" fill-rule=\"nonzero\" fill-opacity=\"1\" /><path clip-path=\"url(#clip550)\" d=\"M147.015 1179.34 L151.899 1179.34 L151.899 1185.22 L147.015 1185.22 L147.015 1179.34 Z\" fill=\"#000000\" fill-rule=\"nonzero\" fill-opacity=\"1\" /><path clip-path=\"url(#clip550)\" d=\"M162.13 1150.66 L180.487 1150.66 L180.487 1154.59 L166.413 1154.59 L166.413 1163.06 Q167.431 1162.72 168.45 1162.56 Q169.468 1162.37 170.487 1162.37 Q176.274 1162.37 179.653 1165.54 Q183.033 1168.71 183.033 1174.13 Q183.033 1179.71 179.561 1182.81 Q176.089 1185.89 169.769 1185.89 Q167.593 1185.89 165.325 1185.52 Q163.079 1185.15 160.672 1184.41 L160.672 1179.71 Q162.755 1180.84 164.977 1181.4 Q167.2 1181.95 169.677 1181.95 Q173.681 1181.95 176.019 1179.85 Q178.357 1177.74 178.357 1174.13 Q178.357 1170.52 176.019 1168.41 Q173.681 1166.31 169.677 1166.31 Q167.802 1166.31 165.927 1166.72 Q164.075 1167.14 162.13 1168.02 L162.13 1150.66 Z\" fill=\"#000000\" fill-rule=\"nonzero\" fill-opacity=\"1\" /><path clip-path=\"url(#clip550)\" d=\"M116.668 882.035 L124.306 882.035 L124.306 855.669 L115.996 857.336 L115.996 853.076 L124.26 851.41 L128.936 851.41 L128.936 882.035 L136.575 882.035 L136.575 885.97 L116.668 885.97 L116.668 882.035 Z\" fill=\"#000000\" fill-rule=\"nonzero\" fill-opacity=\"1\" /><path clip-path=\"url(#clip550)\" d=\"M146.019 880.09 L150.903 880.09 L150.903 885.97 L146.019 885.97 L146.019 880.09 Z\" fill=\"#000000\" fill-rule=\"nonzero\" fill-opacity=\"1\" /><path clip-path=\"url(#clip550)\" d=\"M171.089 854.489 Q167.477 854.489 165.649 858.053 Q163.843 861.595 163.843 868.725 Q163.843 875.831 165.649 879.396 Q167.477 882.937 171.089 882.937 Q174.723 882.937 176.528 879.396 Q178.357 875.831 178.357 868.725 Q178.357 861.595 176.528 858.053 Q174.723 854.489 171.089 854.489 M171.089 850.785 Q176.899 850.785 179.954 855.391 Q183.033 859.975 183.033 868.725 Q183.033 877.451 179.954 882.058 Q176.899 886.641 171.089 886.641 Q165.278 886.641 162.2 882.058 Q159.144 877.451 159.144 868.725 Q159.144 859.975 162.2 855.391 Q165.278 850.785 171.089 850.785 Z\" fill=\"#000000\" fill-rule=\"nonzero\" fill-opacity=\"1\" /><path clip-path=\"url(#clip550)\" d=\"M117.663 582.787 L125.302 582.787 L125.302 556.422 L116.992 558.088 L116.992 553.829 L125.255 552.162 L129.931 552.162 L129.931 582.787 L137.57 582.787 L137.57 586.722 L117.663 586.722 L117.663 582.787 Z\" fill=\"#000000\" fill-rule=\"nonzero\" fill-opacity=\"1\" /><path clip-path=\"url(#clip550)\" d=\"M147.015 580.843 L151.899 580.843 L151.899 586.722 L147.015 586.722 L147.015 580.843 Z\" fill=\"#000000\" fill-rule=\"nonzero\" fill-opacity=\"1\" /><path clip-path=\"url(#clip550)\" d=\"M162.13 552.162 L180.487 552.162 L180.487 556.098 L166.413 556.098 L166.413 564.57 Q167.431 564.223 168.45 564.06 Q169.468 563.875 170.487 563.875 Q176.274 563.875 179.653 567.047 Q183.033 570.218 183.033 575.634 Q183.033 581.213 179.561 584.315 Q176.089 587.394 169.769 587.394 Q167.593 587.394 165.325 587.023 Q163.079 586.653 160.672 585.912 L160.672 581.213 Q162.755 582.347 164.977 582.903 Q167.2 583.459 169.677 583.459 Q173.681 583.459 176.019 581.352 Q178.357 579.246 178.357 575.634 Q178.357 572.023 176.019 569.917 Q173.681 567.81 169.677 567.81 Q167.802 567.81 165.927 568.227 Q164.075 568.644 162.13 569.523 L162.13 552.162 Z\" fill=\"#000000\" fill-rule=\"nonzero\" fill-opacity=\"1\" /><path clip-path=\"url(#clip550)\" d=\"M119.885 283.54 L136.204 283.54 L136.204 287.475 L114.26 287.475 L114.26 283.54 Q116.922 280.785 121.505 276.156 Q126.112 271.503 127.292 270.16 Q129.538 267.637 130.417 265.901 Q131.32 264.142 131.32 262.452 Q131.32 259.697 129.376 257.961 Q127.455 256.225 124.353 256.225 Q122.154 256.225 119.7 256.989 Q117.269 257.753 114.492 259.304 L114.492 254.582 Q117.316 253.447 119.769 252.869 Q122.223 252.29 124.26 252.29 Q129.63 252.29 132.825 254.975 Q136.019 257.66 136.019 262.151 Q136.019 264.281 135.209 266.202 Q134.422 268.1 132.316 270.693 Q131.737 271.364 128.635 274.582 Q125.533 277.776 119.885 283.54 Z\" fill=\"#000000\" fill-rule=\"nonzero\" fill-opacity=\"1\" /><path clip-path=\"url(#clip550)\" d=\"M146.019 281.595 L150.903 281.595 L150.903 287.475 L146.019 287.475 L146.019 281.595 Z\" fill=\"#000000\" fill-rule=\"nonzero\" fill-opacity=\"1\" /><path clip-path=\"url(#clip550)\" d=\"M171.089 255.994 Q167.477 255.994 165.649 259.558 Q163.843 263.1 163.843 270.23 Q163.843 277.336 165.649 280.901 Q167.477 284.443 171.089 284.443 Q174.723 284.443 176.528 280.901 Q178.357 277.336 178.357 270.23 Q178.357 263.1 176.528 259.558 Q174.723 255.994 171.089 255.994 M171.089 252.29 Q176.899 252.29 179.954 256.896 Q183.033 261.48 183.033 270.23 Q183.033 278.956 179.954 283.563 Q176.899 288.146 171.089 288.146 Q165.278 288.146 162.2 283.563 Q159.144 278.956 159.144 270.23 Q159.144 261.48 162.2 256.896 Q165.278 252.29 171.089 252.29 Z\" fill=\"#000000\" fill-rule=\"nonzero\" fill-opacity=\"1\" /><path clip-path=\"url(#clip550)\" d=\"M14.479 793.506 L14.479 787.649 L64.0042 787.649 L64.0042 793.506 L14.479 793.506 Z\" fill=\"#000000\" fill-rule=\"nonzero\" fill-opacity=\"1\" /><path clip-path=\"url(#clip550)\" d=\"M32.4621 761.582 Q32.4621 766.293 36.1542 769.03 Q39.8145 771.767 46.212 771.767 Q52.6095 771.767 56.3017 769.062 Q59.9619 766.324 59.9619 761.582 Q59.9619 756.903 56.2698 754.166 Q52.5777 751.429 46.212 751.429 Q39.8781 751.429 36.186 754.166 Q32.4621 756.903 32.4621 761.582 M27.4968 761.582 Q27.4968 753.943 32.4621 749.583 Q37.4273 745.222 46.212 745.222 Q54.9649 745.222 59.9619 749.583 Q64.9272 753.943 64.9272 761.582 Q64.9272 769.253 59.9619 773.613 Q54.9649 777.942 46.212 777.942 Q37.4273 777.942 32.4621 773.613 Q27.4968 769.253 27.4968 761.582 Z\" fill=\"#000000\" fill-rule=\"nonzero\" fill-opacity=\"1\" /><path clip-path=\"url(#clip550)\" d=\"M29.4065 712.789 L34.9447 712.789 Q33.6716 715.271 33.035 717.945 Q32.3984 720.619 32.3984 723.483 Q32.3984 727.844 33.7352 730.04 Q35.072 732.204 37.7456 732.204 Q39.7826 732.204 40.9603 730.645 Q42.1061 729.085 43.1565 724.374 L43.6021 722.369 Q44.9389 716.131 47.3897 713.521 Q49.8086 710.879 54.1691 710.879 Q59.1344 710.879 62.0308 714.826 Q64.9272 718.741 64.9272 725.616 Q64.9272 728.48 64.3543 731.599 Q63.8132 734.687 62.6992 738.124 L56.6518 738.124 Q58.3387 734.878 59.198 731.727 Q60.0256 728.576 60.0256 725.488 Q60.0256 721.351 58.6251 719.123 Q57.1929 716.895 54.6147 716.895 Q52.2276 716.895 50.9545 718.518 Q49.6813 720.109 48.5037 725.552 L48.0262 727.589 Q46.8804 733.032 44.5251 735.451 Q42.138 737.87 38.0002 737.87 Q32.9713 737.87 30.2341 734.305 Q27.4968 730.74 27.4968 724.183 Q27.4968 720.937 27.9743 718.072 Q28.4517 715.208 29.4065 712.789 Z\" fill=\"#000000\" fill-rule=\"nonzero\" fill-opacity=\"1\" /><path clip-path=\"url(#clip550)\" d=\"M29.4065 678.828 L34.9447 678.828 Q33.6716 681.31 33.035 683.984 Q32.3984 686.658 32.3984 689.522 Q32.3984 693.883 33.7352 696.079 Q35.072 698.243 37.7456 698.243 Q39.7826 698.243 40.9603 696.684 Q42.1061 695.124 43.1565 690.413 L43.6021 688.408 Q44.9389 682.17 47.3897 679.56 Q49.8086 676.918 54.1691 676.918 Q59.1344 676.918 62.0308 680.865 Q64.9272 684.78 64.9272 691.655 Q64.9272 694.519 64.3543 697.638 Q63.8132 700.726 62.6992 704.163 L56.6518 704.163 Q58.3387 700.917 59.198 697.766 Q60.0256 694.615 60.0256 691.527 Q60.0256 687.39 58.6251 685.162 Q57.1929 682.934 54.6147 682.934 Q52.2276 682.934 50.9545 684.557 Q49.6813 686.148 48.5037 691.591 L48.0262 693.628 Q46.8804 699.071 44.5251 701.49 Q42.138 703.909 38.0002 703.909 Q32.9713 703.909 30.2341 700.344 Q27.4968 696.779 27.4968 690.222 Q27.4968 686.976 27.9743 684.111 Q28.4517 681.247 29.4065 678.828 Z\" fill=\"#000000\" fill-rule=\"nonzero\" fill-opacity=\"1\" /><polyline clip-path=\"url(#clip552)\" style=\"stroke:#009af9; stroke-linecap:round; stroke-linejoin:round; stroke-width:4; stroke-opacity:1; fill:none\" points=\"279.421,86.1857 289.537,102.994 299.652,116.656 309.767,129.799 319.883,144.265 329.998,161.087 340.113,180.835 350.228,203.805 360.344,230.062 370.459,259.507 380.574,291.898 390.69,326.869 400.805,364.03 410.92,403.048 421.036,443.534 431.151,485.049 441.266,527.131 451.382,569.405 461.497,611.659 471.612,653.796 481.727,695.757 491.843,737.485 501.958,778.801 512.073,819.244 522.189,858.134 532.304,894.874 542.419,929.158 552.535,960.697 562.65,989.291 572.765,1015.2 582.881,1038.71 592.996,1059.58 603.111,1077.74 613.226,1094.15 623.342,1109.25 633.457,1122.71 643.572,1134.83 653.688,1145.89 663.803,1155.99 673.918,1165.33 684.034,1173.87 694.149,1181.7 704.264,1188.93 714.38,1195.71 724.495,1202.03 734.61,1207.87 744.725,1213.42 754.841,1218.63 764.956,1223.58 775.071,1228.26 785.187,1232.65 795.302,1236.83 805.417,1240.79 815.533,1244.53 825.648,1248.06 835.763,1251.44 845.879,1254.66 855.994,1257.74 866.109,1260.69 876.224,1263.55 886.34,1266.31 896.455,1268.93 906.57,1271.45 916.686,1273.85 926.801,1276.12 936.916,1278.3 947.032,1280.4 957.147,1282.45 967.262,1284.42 977.378,1286.35 987.493,1288.22 997.608,1290.03 1007.72,1291.8 1017.84,1293.52 1027.95,1295.19 1038.07,1296.83 1048.18,1298.43 1058.3,1299.99 1068.42,1301.52 1078.53,1303.03 1088.65,1304.5 1098.76,1305.94 1108.88,1307.35 1118.99,1308.73 1129.11,1310.09 1139.22,1311.42 1149.34,1312.73 1159.45,1314.02 1169.57,1315.28 1179.68,1316.52 1189.8,1317.74 1199.91,1318.93 1210.03,1320.1 1220.14,1321.24 1230.26,1322.37 1240.38,1323.48 1250.49,1324.56 1260.61,1325.64 1270.72,1326.69 1280.84,1327.73 1290.95,1328.74 1301.07,1329.74 1311.18,1330.72 1321.3,1331.69 1331.41,1332.64 1341.53,1333.57 1351.64,1334.49 1361.76,1335.39 1371.87,1336.28 1381.99,1337.15 1392.11,1338.01 1402.22,1338.85 1412.34,1339.68 1422.45,1340.5 1432.57,1341.3 1442.68,1342.09 1452.8,1342.87 1462.91,1343.64 1473.03,1344.4 1483.14,1345.14 1493.26,1345.88 1503.37,1346.6 1513.49,1347.3 1523.6,1348 1533.72,1348.69 1543.83,1349.37 1553.95,1350.04 1564.07,1350.7 1574.18,1351.35 1584.3,1351.99 1594.41,1352.62 1604.53,1353.24 1614.64,1353.86 1624.76,1354.46 1634.87,1355.06 1644.99,1355.65 1655.1,1356.23 1665.22,1356.8 1675.33,1357.37 1685.45,1357.93 1695.56,1358.48 1705.68,1359.03 1715.79,1359.57 1725.91,1360.11 1736.03,1360.64 1746.14,1361.16 1756.26,1361.68 1766.37,1362.19 1776.49,1362.7 1786.6,1363.2 1796.72,1363.7 1806.83,1364.19 1816.95,1364.68 1827.06,1365.17 1837.18,1365.65 1847.29,1366.12 1857.41,1366.6 1867.52,1367.06 1877.64,1367.53 1887.76,1367.99 1897.87,1368.45 1907.99,1368.9 1918.1,1369.35 1928.22,1369.8 1938.33,1370.25 1948.45,1370.69 1958.56,1371.13 1968.68,1371.56 1978.79,1371.99 1988.91,1372.42 1999.02,1372.85 2009.14,1373.27 2019.25,1373.69 2029.37,1374.11 2039.48,1374.53 2049.6,1374.94 2059.72,1375.35 2069.83,1375.76 2079.95,1376.17 2090.06,1376.57 2100.18,1376.98 2110.29,1377.37 2120.41,1377.77 2130.52,1378.17 2140.64,1378.56 2150.75,1378.95 2160.87,1379.34 2170.98,1379.73 2181.1,1380.11 2191.21,1380.5 2201.33,1380.88 2211.45,1381.26 2221.56,1381.64 2231.68,1382.02 2241.79,1382.39 2251.91,1382.77 2262.02,1383.14 2272.14,1383.51 2282.25,1383.87 2292.37,1384.24 \"/>\n",
       "</svg>\n"
      ],
      "text/html": [
       "<?xml version=\"1.0\" encoding=\"utf-8\"?>\n",
       "<svg xmlns=\"http://www.w3.org/2000/svg\" xmlns:xlink=\"http://www.w3.org/1999/xlink\" width=\"600\" height=\"400\" viewBox=\"0 0 2400 1600\">\n",
       "<defs>\n",
       "  <clipPath id=\"clip600\">\n",
       "    <rect x=\"0\" y=\"0\" width=\"2400\" height=\"1600\"/>\n",
       "  </clipPath>\n",
       "</defs>\n",
       "<path clip-path=\"url(#clip600)\" d=\"M0 1600 L2400 1600 L2400 8.88178e-14 L0 8.88178e-14  Z\" fill=\"#ffffff\" fill-rule=\"evenodd\" fill-opacity=\"1\"/>\n",
       "<defs>\n",
       "  <clipPath id=\"clip601\">\n",
       "    <rect x=\"480\" y=\"0\" width=\"1681\" height=\"1600\"/>\n",
       "  </clipPath>\n",
       "</defs>\n",
       "<path clip-path=\"url(#clip600)\" d=\"M219.033 1423.18 L2352.76 1423.18 L2352.76 47.2441 L219.033 47.2441  Z\" fill=\"#ffffff\" fill-rule=\"evenodd\" fill-opacity=\"1\"/>\n",
       "<defs>\n",
       "  <clipPath id=\"clip602\">\n",
       "    <rect x=\"219\" y=\"47\" width=\"2135\" height=\"1377\"/>\n",
       "  </clipPath>\n",
       "</defs>\n",
       "<polyline clip-path=\"url(#clip602)\" style=\"stroke:#000000; stroke-linecap:round; stroke-linejoin:round; stroke-width:2; stroke-opacity:0.1; fill:none\" points=\"269.306,1423.18 269.306,47.2441 \"/>\n",
       "<polyline clip-path=\"url(#clip602)\" style=\"stroke:#000000; stroke-linecap:round; stroke-linejoin:round; stroke-width:2; stroke-opacity:0.1; fill:none\" points=\"775.071,1423.18 775.071,47.2441 \"/>\n",
       "<polyline clip-path=\"url(#clip602)\" style=\"stroke:#000000; stroke-linecap:round; stroke-linejoin:round; stroke-width:2; stroke-opacity:0.1; fill:none\" points=\"1280.84,1423.18 1280.84,47.2441 \"/>\n",
       "<polyline clip-path=\"url(#clip602)\" style=\"stroke:#000000; stroke-linecap:round; stroke-linejoin:round; stroke-width:2; stroke-opacity:0.1; fill:none\" points=\"1786.6,1423.18 1786.6,47.2441 \"/>\n",
       "<polyline clip-path=\"url(#clip602)\" style=\"stroke:#000000; stroke-linecap:round; stroke-linejoin:round; stroke-width:2; stroke-opacity:0.1; fill:none\" points=\"2292.37,1423.18 2292.37,47.2441 \"/>\n",
       "<polyline clip-path=\"url(#clip600)\" style=\"stroke:#000000; stroke-linecap:round; stroke-linejoin:round; stroke-width:4; stroke-opacity:1; fill:none\" points=\"219.033,1423.18 2352.76,1423.18 \"/>\n",
       "<polyline clip-path=\"url(#clip600)\" style=\"stroke:#000000; stroke-linecap:round; stroke-linejoin:round; stroke-width:4; stroke-opacity:1; fill:none\" points=\"269.306,1423.18 269.306,1404.28 \"/>\n",
       "<polyline clip-path=\"url(#clip600)\" style=\"stroke:#000000; stroke-linecap:round; stroke-linejoin:round; stroke-width:4; stroke-opacity:1; fill:none\" points=\"775.071,1423.18 775.071,1404.28 \"/>\n",
       "<polyline clip-path=\"url(#clip600)\" style=\"stroke:#000000; stroke-linecap:round; stroke-linejoin:round; stroke-width:4; stroke-opacity:1; fill:none\" points=\"1280.84,1423.18 1280.84,1404.28 \"/>\n",
       "<polyline clip-path=\"url(#clip600)\" style=\"stroke:#000000; stroke-linecap:round; stroke-linejoin:round; stroke-width:4; stroke-opacity:1; fill:none\" points=\"1786.6,1423.18 1786.6,1404.28 \"/>\n",
       "<polyline clip-path=\"url(#clip600)\" style=\"stroke:#000000; stroke-linecap:round; stroke-linejoin:round; stroke-width:4; stroke-opacity:1; fill:none\" points=\"2292.37,1423.18 2292.37,1404.28 \"/>\n",
       "<path clip-path=\"url(#clip600)\" d=\"M269.306 1454.1 Q265.695 1454.1 263.866 1457.66 Q262.061 1461.2 262.061 1468.33 Q262.061 1475.44 263.866 1479.01 Q265.695 1482.55 269.306 1482.55 Q272.94 1482.55 274.746 1479.01 Q276.574 1475.44 276.574 1468.33 Q276.574 1461.2 274.746 1457.66 Q272.94 1454.1 269.306 1454.1 M269.306 1450.39 Q275.116 1450.39 278.172 1455 Q281.25 1459.58 281.25 1468.33 Q281.25 1477.06 278.172 1481.67 Q275.116 1486.25 269.306 1486.25 Q263.496 1486.25 260.417 1481.67 Q257.362 1477.06 257.362 1468.33 Q257.362 1459.58 260.417 1455 Q263.496 1450.39 269.306 1450.39 Z\" fill=\"#000000\" fill-rule=\"nonzero\" fill-opacity=\"1\" /><path clip-path=\"url(#clip600)\" d=\"M749.771 1451.02 L768.127 1451.02 L768.127 1454.96 L754.053 1454.96 L754.053 1463.43 Q755.071 1463.08 756.09 1462.92 Q757.109 1462.73 758.127 1462.73 Q763.914 1462.73 767.294 1465.9 Q770.673 1469.08 770.673 1474.49 Q770.673 1480.07 767.201 1483.17 Q763.729 1486.25 757.409 1486.25 Q755.234 1486.25 752.965 1485.88 Q750.72 1485.51 748.312 1484.77 L748.312 1480.07 Q750.396 1481.2 752.618 1481.76 Q754.84 1482.32 757.317 1482.32 Q761.321 1482.32 763.659 1480.21 Q765.997 1478.1 765.997 1474.49 Q765.997 1470.88 763.659 1468.77 Q761.321 1466.67 757.317 1466.67 Q755.442 1466.67 753.567 1467.08 Q751.715 1467.5 749.771 1468.38 L749.771 1451.02 Z\" fill=\"#000000\" fill-rule=\"nonzero\" fill-opacity=\"1\" /><path clip-path=\"url(#clip600)\" d=\"M789.886 1454.1 Q786.275 1454.1 784.446 1457.66 Q782.641 1461.2 782.641 1468.33 Q782.641 1475.44 784.446 1479.01 Q786.275 1482.55 789.886 1482.55 Q793.52 1482.55 795.326 1479.01 Q797.155 1475.44 797.155 1468.33 Q797.155 1461.2 795.326 1457.66 Q793.52 1454.1 789.886 1454.1 M789.886 1450.39 Q795.696 1450.39 798.752 1455 Q801.831 1459.58 801.831 1468.33 Q801.831 1477.06 798.752 1481.67 Q795.696 1486.25 789.886 1486.25 Q784.076 1486.25 780.997 1481.67 Q777.942 1477.06 777.942 1468.33 Q777.942 1459.58 780.997 1455 Q784.076 1450.39 789.886 1450.39 Z\" fill=\"#000000\" fill-rule=\"nonzero\" fill-opacity=\"1\" /><path clip-path=\"url(#clip600)\" d=\"M1240.44 1481.64 L1248.08 1481.64 L1248.08 1455.28 L1239.77 1456.95 L1239.77 1452.69 L1248.04 1451.02 L1252.71 1451.02 L1252.71 1481.64 L1260.35 1481.64 L1260.35 1485.58 L1240.44 1485.58 L1240.44 1481.64 Z\" fill=\"#000000\" fill-rule=\"nonzero\" fill-opacity=\"1\" /><path clip-path=\"url(#clip600)\" d=\"M1279.8 1454.1 Q1276.18 1454.1 1274.36 1457.66 Q1272.55 1461.2 1272.55 1468.33 Q1272.55 1475.44 1274.36 1479.01 Q1276.18 1482.55 1279.8 1482.55 Q1283.43 1482.55 1285.23 1479.01 Q1287.06 1475.44 1287.06 1468.33 Q1287.06 1461.2 1285.23 1457.66 Q1283.43 1454.1 1279.8 1454.1 M1279.8 1450.39 Q1285.61 1450.39 1288.66 1455 Q1291.74 1459.58 1291.74 1468.33 Q1291.74 1477.06 1288.66 1481.67 Q1285.61 1486.25 1279.8 1486.25 Q1273.98 1486.25 1270.91 1481.67 Q1267.85 1477.06 1267.85 1468.33 Q1267.85 1459.58 1270.91 1455 Q1273.98 1450.39 1279.8 1450.39 Z\" fill=\"#000000\" fill-rule=\"nonzero\" fill-opacity=\"1\" /><path clip-path=\"url(#clip600)\" d=\"M1309.96 1454.1 Q1306.35 1454.1 1304.52 1457.66 Q1302.71 1461.2 1302.71 1468.33 Q1302.71 1475.44 1304.52 1479.01 Q1306.35 1482.55 1309.96 1482.55 Q1313.59 1482.55 1315.4 1479.01 Q1317.23 1475.44 1317.23 1468.33 Q1317.23 1461.2 1315.4 1457.66 Q1313.59 1454.1 1309.96 1454.1 M1309.96 1450.39 Q1315.77 1450.39 1318.82 1455 Q1321.9 1459.58 1321.9 1468.33 Q1321.9 1477.06 1318.82 1481.67 Q1315.77 1486.25 1309.96 1486.25 Q1304.15 1486.25 1301.07 1481.67 Q1298.01 1477.06 1298.01 1468.33 Q1298.01 1459.58 1301.07 1455 Q1304.15 1450.39 1309.96 1450.39 Z\" fill=\"#000000\" fill-rule=\"nonzero\" fill-opacity=\"1\" /><path clip-path=\"url(#clip600)\" d=\"M1746.21 1481.64 L1753.85 1481.64 L1753.85 1455.28 L1745.54 1456.95 L1745.54 1452.69 L1753.8 1451.02 L1758.48 1451.02 L1758.48 1481.64 L1766.12 1481.64 L1766.12 1485.58 L1746.21 1485.58 L1746.21 1481.64 Z\" fill=\"#000000\" fill-rule=\"nonzero\" fill-opacity=\"1\" /><path clip-path=\"url(#clip600)\" d=\"M1775.61 1451.02 L1793.96 1451.02 L1793.96 1454.96 L1779.89 1454.96 L1779.89 1463.43 Q1780.91 1463.08 1781.93 1462.92 Q1782.94 1462.73 1783.96 1462.73 Q1789.75 1462.73 1793.13 1465.9 Q1796.51 1469.08 1796.51 1474.49 Q1796.51 1480.07 1793.04 1483.17 Q1789.57 1486.25 1783.25 1486.25 Q1781.07 1486.25 1778.8 1485.88 Q1776.56 1485.51 1774.15 1484.77 L1774.15 1480.07 Q1776.23 1481.2 1778.45 1481.76 Q1780.68 1482.32 1783.15 1482.32 Q1787.16 1482.32 1789.5 1480.21 Q1791.83 1478.1 1791.83 1474.49 Q1791.83 1470.88 1789.5 1468.77 Q1787.16 1466.67 1783.15 1466.67 Q1781.28 1466.67 1779.4 1467.08 Q1777.55 1467.5 1775.61 1468.38 L1775.61 1451.02 Z\" fill=\"#000000\" fill-rule=\"nonzero\" fill-opacity=\"1\" /><path clip-path=\"url(#clip600)\" d=\"M1815.72 1454.1 Q1812.11 1454.1 1810.28 1457.66 Q1808.48 1461.2 1808.48 1468.33 Q1808.48 1475.44 1810.28 1479.01 Q1812.11 1482.55 1815.72 1482.55 Q1819.36 1482.55 1821.16 1479.01 Q1822.99 1475.44 1822.99 1468.33 Q1822.99 1461.2 1821.16 1457.66 Q1819.36 1454.1 1815.72 1454.1 M1815.72 1450.39 Q1821.53 1450.39 1824.59 1455 Q1827.67 1459.58 1827.67 1468.33 Q1827.67 1477.06 1824.59 1481.67 Q1821.53 1486.25 1815.72 1486.25 Q1809.91 1486.25 1806.83 1481.67 Q1803.78 1477.06 1803.78 1468.33 Q1803.78 1459.58 1806.83 1455 Q1809.91 1450.39 1815.72 1450.39 Z\" fill=\"#000000\" fill-rule=\"nonzero\" fill-opacity=\"1\" /><path clip-path=\"url(#clip600)\" d=\"M2256.06 1481.64 L2272.38 1481.64 L2272.38 1485.58 L2250.43 1485.58 L2250.43 1481.64 Q2253.1 1478.89 2257.68 1474.26 Q2262.29 1469.61 2263.47 1468.27 Q2265.71 1465.74 2266.59 1464.01 Q2267.49 1462.25 2267.49 1460.56 Q2267.49 1457.8 2265.55 1456.07 Q2263.63 1454.33 2260.53 1454.33 Q2258.33 1454.33 2255.87 1455.09 Q2253.44 1455.86 2250.67 1457.41 L2250.67 1452.69 Q2253.49 1451.55 2255.94 1450.97 Q2258.4 1450.39 2260.43 1450.39 Q2265.81 1450.39 2269 1453.08 Q2272.19 1455.77 2272.19 1460.26 Q2272.19 1462.39 2271.38 1464.31 Q2270.6 1466.2 2268.49 1468.8 Q2267.91 1469.47 2264.81 1472.69 Q2261.71 1475.88 2256.06 1481.64 Z\" fill=\"#000000\" fill-rule=\"nonzero\" fill-opacity=\"1\" /><path clip-path=\"url(#clip600)\" d=\"M2292.19 1454.1 Q2288.58 1454.1 2286.75 1457.66 Q2284.95 1461.2 2284.95 1468.33 Q2284.95 1475.44 2286.75 1479.01 Q2288.58 1482.55 2292.19 1482.55 Q2295.83 1482.55 2297.63 1479.01 Q2299.46 1475.44 2299.46 1468.33 Q2299.46 1461.2 2297.63 1457.66 Q2295.83 1454.1 2292.19 1454.1 M2292.19 1450.39 Q2298 1450.39 2301.06 1455 Q2304.14 1459.58 2304.14 1468.33 Q2304.14 1477.06 2301.06 1481.67 Q2298 1486.25 2292.19 1486.25 Q2286.38 1486.25 2283.31 1481.67 Q2280.25 1477.06 2280.25 1468.33 Q2280.25 1459.58 2283.31 1455 Q2286.38 1450.39 2292.19 1450.39 Z\" fill=\"#000000\" fill-rule=\"nonzero\" fill-opacity=\"1\" /><path clip-path=\"url(#clip600)\" d=\"M2322.36 1454.1 Q2318.74 1454.1 2316.92 1457.66 Q2315.11 1461.2 2315.11 1468.33 Q2315.11 1475.44 2316.92 1479.01 Q2318.74 1482.55 2322.36 1482.55 Q2325.99 1482.55 2327.8 1479.01 Q2329.62 1475.44 2329.62 1468.33 Q2329.62 1461.2 2327.8 1457.66 Q2325.99 1454.1 2322.36 1454.1 M2322.36 1450.39 Q2328.17 1450.39 2331.22 1455 Q2334.3 1459.58 2334.3 1468.33 Q2334.3 1477.06 2331.22 1481.67 Q2328.17 1486.25 2322.36 1486.25 Q2316.55 1486.25 2313.47 1481.67 Q2310.41 1477.06 2310.41 1468.33 Q2310.41 1459.58 2313.47 1455 Q2316.55 1450.39 2322.36 1450.39 Z\" fill=\"#000000\" fill-rule=\"nonzero\" fill-opacity=\"1\" /><path clip-path=\"url(#clip600)\" d=\"M1206.08 1548.76 L1206.08 1551.62 L1179.16 1551.62 Q1179.54 1557.67 1182.79 1560.85 Q1186.06 1564 1191.89 1564 Q1195.26 1564 1198.41 1563.17 Q1201.6 1562.35 1204.72 1560.69 L1204.72 1566.23 Q1201.56 1567.57 1198.25 1568.27 Q1194.94 1568.97 1191.54 1568.97 Q1183.01 1568.97 1178.01 1564 Q1173.05 1559.04 1173.05 1550.57 Q1173.05 1541.82 1177.76 1536.69 Q1182.5 1531.54 1190.52 1531.54 Q1197.71 1531.54 1201.88 1536.18 Q1206.08 1540.8 1206.08 1548.76 M1200.23 1547.04 Q1200.16 1542.23 1197.52 1539.37 Q1194.91 1536.5 1190.58 1536.5 Q1185.68 1536.5 1182.72 1539.27 Q1179.79 1542.04 1179.35 1547.07 L1200.23 1547.04 Z\" fill=\"#000000\" fill-rule=\"nonzero\" fill-opacity=\"1\" /><path clip-path=\"url(#clip600)\" d=\"M1221.36 1562.7 L1221.36 1581.6 L1215.47 1581.6 L1215.47 1532.4 L1221.36 1532.4 L1221.36 1537.81 Q1223.21 1534.62 1226.01 1533.1 Q1228.84 1531.54 1232.76 1531.54 Q1239.25 1531.54 1243.29 1536.69 Q1247.37 1541.85 1247.37 1550.25 Q1247.37 1558.65 1243.29 1563.81 Q1239.25 1568.97 1232.76 1568.97 Q1228.84 1568.97 1226.01 1567.44 Q1223.21 1565.88 1221.36 1562.7 M1241.29 1550.25 Q1241.29 1543.79 1238.61 1540.13 Q1235.97 1536.44 1231.32 1536.44 Q1226.68 1536.44 1224 1540.13 Q1221.36 1543.79 1221.36 1550.25 Q1221.36 1556.71 1224 1560.4 Q1226.68 1564.07 1231.32 1564.07 Q1235.97 1564.07 1238.61 1560.4 Q1241.29 1556.71 1241.29 1550.25 Z\" fill=\"#000000\" fill-rule=\"nonzero\" fill-opacity=\"1\" /><path clip-path=\"url(#clip600)\" d=\"M1270.89 1536.5 Q1266.18 1536.5 1263.44 1540.19 Q1260.7 1543.85 1260.7 1550.25 Q1260.7 1556.65 1263.41 1560.34 Q1266.14 1564 1270.89 1564 Q1275.57 1564 1278.3 1560.31 Q1281.04 1556.62 1281.04 1550.25 Q1281.04 1543.92 1278.3 1540.23 Q1275.57 1536.5 1270.89 1536.5 M1270.89 1531.54 Q1278.53 1531.54 1282.89 1536.5 Q1287.25 1541.47 1287.25 1550.25 Q1287.25 1559 1282.89 1564 Q1278.53 1568.97 1270.89 1568.97 Q1263.22 1568.97 1258.86 1564 Q1254.53 1559 1254.53 1550.25 Q1254.53 1541.47 1258.86 1536.5 Q1263.22 1531.54 1270.89 1531.54 Z\" fill=\"#000000\" fill-rule=\"nonzero\" fill-opacity=\"1\" /><path clip-path=\"url(#clip600)\" d=\"M1322.61 1533.76 L1322.61 1539.24 Q1320.13 1537.87 1317.61 1537.2 Q1315.13 1536.5 1312.58 1536.5 Q1306.89 1536.5 1303.73 1540.13 Q1300.58 1543.73 1300.58 1550.25 Q1300.58 1556.78 1303.73 1560.4 Q1306.89 1564 1312.58 1564 Q1315.13 1564 1317.61 1563.33 Q1320.13 1562.63 1322.61 1561.26 L1322.61 1566.68 Q1320.16 1567.82 1317.52 1568.39 Q1314.91 1568.97 1311.95 1568.97 Q1303.89 1568.97 1299.15 1563.91 Q1294.41 1558.85 1294.41 1550.25 Q1294.41 1541.53 1299.18 1536.53 Q1303.99 1531.54 1312.33 1531.54 Q1315.03 1531.54 1317.61 1532.11 Q1320.19 1532.65 1322.61 1533.76 Z\" fill=\"#000000\" fill-rule=\"nonzero\" fill-opacity=\"1\" /><path clip-path=\"url(#clip600)\" d=\"M1362.43 1546.53 L1362.43 1568.04 L1356.57 1568.04 L1356.57 1546.72 Q1356.57 1541.66 1354.6 1539.14 Q1352.62 1536.63 1348.68 1536.63 Q1343.93 1536.63 1341.2 1539.65 Q1338.46 1542.68 1338.46 1547.9 L1338.46 1568.04 L1332.57 1568.04 L1332.57 1518.52 L1338.46 1518.52 L1338.46 1537.93 Q1340.56 1534.72 1343.39 1533.13 Q1346.26 1531.54 1349.98 1531.54 Q1356.12 1531.54 1359.28 1535.36 Q1362.43 1539.14 1362.43 1546.53 Z\" fill=\"#000000\" fill-rule=\"nonzero\" fill-opacity=\"1\" /><path clip-path=\"url(#clip600)\" d=\"M1396.83 1533.45 L1396.83 1538.98 Q1394.35 1537.71 1391.68 1537.07 Q1389 1536.44 1386.14 1536.44 Q1381.78 1536.44 1379.58 1537.77 Q1377.42 1539.11 1377.42 1541.79 Q1377.42 1543.82 1378.98 1545 Q1380.54 1546.15 1385.25 1547.2 L1387.25 1547.64 Q1393.49 1548.98 1396.1 1551.43 Q1398.74 1553.85 1398.74 1558.21 Q1398.74 1563.17 1394.8 1566.07 Q1390.88 1568.97 1384.01 1568.97 Q1381.14 1568.97 1378.02 1568.39 Q1374.93 1567.85 1371.5 1566.74 L1371.5 1560.69 Q1374.74 1562.38 1377.89 1563.24 Q1381.05 1564.07 1384.13 1564.07 Q1388.27 1564.07 1390.5 1562.66 Q1392.73 1561.23 1392.73 1558.65 Q1392.73 1556.27 1391.1 1554.99 Q1389.51 1553.72 1384.07 1552.54 L1382.03 1552.07 Q1376.59 1550.92 1374.17 1548.56 Q1371.75 1546.18 1371.75 1542.04 Q1371.75 1537.01 1375.32 1534.27 Q1378.88 1531.54 1385.44 1531.54 Q1388.68 1531.54 1391.55 1532.01 Q1394.41 1532.49 1396.83 1533.45 Z\" fill=\"#000000\" fill-rule=\"nonzero\" fill-opacity=\"1\" /><polyline clip-path=\"url(#clip602)\" style=\"stroke:#000000; stroke-linecap:round; stroke-linejoin:round; stroke-width:2; stroke-opacity:0.1; fill:none\" points=\"219.033,1167.94 2352.76,1167.94 \"/>\n",
       "<polyline clip-path=\"url(#clip602)\" style=\"stroke:#000000; stroke-linecap:round; stroke-linejoin:round; stroke-width:2; stroke-opacity:0.1; fill:none\" points=\"219.033,868.69 2352.76,868.69 \"/>\n",
       "<polyline clip-path=\"url(#clip602)\" style=\"stroke:#000000; stroke-linecap:round; stroke-linejoin:round; stroke-width:2; stroke-opacity:0.1; fill:none\" points=\"219.033,569.442 2352.76,569.442 \"/>\n",
       "<polyline clip-path=\"url(#clip602)\" style=\"stroke:#000000; stroke-linecap:round; stroke-linejoin:round; stroke-width:2; stroke-opacity:0.1; fill:none\" points=\"219.033,270.195 2352.76,270.195 \"/>\n",
       "<polyline clip-path=\"url(#clip600)\" style=\"stroke:#000000; stroke-linecap:round; stroke-linejoin:round; stroke-width:4; stroke-opacity:1; fill:none\" points=\"219.033,1423.18 219.033,47.2441 \"/>\n",
       "<polyline clip-path=\"url(#clip600)\" style=\"stroke:#000000; stroke-linecap:round; stroke-linejoin:round; stroke-width:4; stroke-opacity:1; fill:none\" points=\"219.033,1167.94 237.931,1167.94 \"/>\n",
       "<polyline clip-path=\"url(#clip600)\" style=\"stroke:#000000; stroke-linecap:round; stroke-linejoin:round; stroke-width:4; stroke-opacity:1; fill:none\" points=\"219.033,868.69 237.931,868.69 \"/>\n",
       "<polyline clip-path=\"url(#clip600)\" style=\"stroke:#000000; stroke-linecap:round; stroke-linejoin:round; stroke-width:4; stroke-opacity:1; fill:none\" points=\"219.033,569.442 237.931,569.442 \"/>\n",
       "<polyline clip-path=\"url(#clip600)\" style=\"stroke:#000000; stroke-linecap:round; stroke-linejoin:round; stroke-width:4; stroke-opacity:1; fill:none\" points=\"219.033,270.195 237.931,270.195 \"/>\n",
       "<path clip-path=\"url(#clip600)\" d=\"M126.853 1153.74 Q123.242 1153.74 121.413 1157.3 Q119.607 1160.84 119.607 1167.97 Q119.607 1175.08 121.413 1178.64 Q123.242 1182.18 126.853 1182.18 Q130.487 1182.18 132.292 1178.64 Q134.121 1175.08 134.121 1167.97 Q134.121 1160.84 132.292 1157.3 Q130.487 1153.74 126.853 1153.74 M126.853 1150.03 Q132.663 1150.03 135.718 1154.64 Q138.797 1159.22 138.797 1167.97 Q138.797 1176.7 135.718 1181.31 Q132.663 1185.89 126.853 1185.89 Q121.043 1185.89 117.964 1181.31 Q114.908 1176.7 114.908 1167.97 Q114.908 1159.22 117.964 1154.64 Q121.043 1150.03 126.853 1150.03 Z\" fill=\"#000000\" fill-rule=\"nonzero\" fill-opacity=\"1\" /><path clip-path=\"url(#clip600)\" d=\"M147.015 1179.34 L151.899 1179.34 L151.899 1185.22 L147.015 1185.22 L147.015 1179.34 Z\" fill=\"#000000\" fill-rule=\"nonzero\" fill-opacity=\"1\" /><path clip-path=\"url(#clip600)\" d=\"M162.13 1150.66 L180.487 1150.66 L180.487 1154.59 L166.413 1154.59 L166.413 1163.06 Q167.431 1162.72 168.45 1162.56 Q169.468 1162.37 170.487 1162.37 Q176.274 1162.37 179.653 1165.54 Q183.033 1168.71 183.033 1174.13 Q183.033 1179.71 179.561 1182.81 Q176.089 1185.89 169.769 1185.89 Q167.593 1185.89 165.325 1185.52 Q163.079 1185.15 160.672 1184.41 L160.672 1179.71 Q162.755 1180.84 164.977 1181.4 Q167.2 1181.95 169.677 1181.95 Q173.681 1181.95 176.019 1179.85 Q178.357 1177.74 178.357 1174.13 Q178.357 1170.52 176.019 1168.41 Q173.681 1166.31 169.677 1166.31 Q167.802 1166.31 165.927 1166.72 Q164.075 1167.14 162.13 1168.02 L162.13 1150.66 Z\" fill=\"#000000\" fill-rule=\"nonzero\" fill-opacity=\"1\" /><path clip-path=\"url(#clip600)\" d=\"M116.668 882.035 L124.306 882.035 L124.306 855.669 L115.996 857.336 L115.996 853.076 L124.26 851.41 L128.936 851.41 L128.936 882.035 L136.575 882.035 L136.575 885.97 L116.668 885.97 L116.668 882.035 Z\" fill=\"#000000\" fill-rule=\"nonzero\" fill-opacity=\"1\" /><path clip-path=\"url(#clip600)\" d=\"M146.019 880.09 L150.903 880.09 L150.903 885.97 L146.019 885.97 L146.019 880.09 Z\" fill=\"#000000\" fill-rule=\"nonzero\" fill-opacity=\"1\" /><path clip-path=\"url(#clip600)\" d=\"M171.089 854.489 Q167.477 854.489 165.649 858.053 Q163.843 861.595 163.843 868.725 Q163.843 875.831 165.649 879.396 Q167.477 882.937 171.089 882.937 Q174.723 882.937 176.528 879.396 Q178.357 875.831 178.357 868.725 Q178.357 861.595 176.528 858.053 Q174.723 854.489 171.089 854.489 M171.089 850.785 Q176.899 850.785 179.954 855.391 Q183.033 859.975 183.033 868.725 Q183.033 877.451 179.954 882.058 Q176.899 886.641 171.089 886.641 Q165.278 886.641 162.2 882.058 Q159.144 877.451 159.144 868.725 Q159.144 859.975 162.2 855.391 Q165.278 850.785 171.089 850.785 Z\" fill=\"#000000\" fill-rule=\"nonzero\" fill-opacity=\"1\" /><path clip-path=\"url(#clip600)\" d=\"M117.663 582.787 L125.302 582.787 L125.302 556.422 L116.992 558.088 L116.992 553.829 L125.255 552.162 L129.931 552.162 L129.931 582.787 L137.57 582.787 L137.57 586.722 L117.663 586.722 L117.663 582.787 Z\" fill=\"#000000\" fill-rule=\"nonzero\" fill-opacity=\"1\" /><path clip-path=\"url(#clip600)\" d=\"M147.015 580.843 L151.899 580.843 L151.899 586.722 L147.015 586.722 L147.015 580.843 Z\" fill=\"#000000\" fill-rule=\"nonzero\" fill-opacity=\"1\" /><path clip-path=\"url(#clip600)\" d=\"M162.13 552.162 L180.487 552.162 L180.487 556.098 L166.413 556.098 L166.413 564.57 Q167.431 564.223 168.45 564.06 Q169.468 563.875 170.487 563.875 Q176.274 563.875 179.653 567.047 Q183.033 570.218 183.033 575.634 Q183.033 581.213 179.561 584.315 Q176.089 587.394 169.769 587.394 Q167.593 587.394 165.325 587.023 Q163.079 586.653 160.672 585.912 L160.672 581.213 Q162.755 582.347 164.977 582.903 Q167.2 583.459 169.677 583.459 Q173.681 583.459 176.019 581.352 Q178.357 579.246 178.357 575.634 Q178.357 572.023 176.019 569.917 Q173.681 567.81 169.677 567.81 Q167.802 567.81 165.927 568.227 Q164.075 568.644 162.13 569.523 L162.13 552.162 Z\" fill=\"#000000\" fill-rule=\"nonzero\" fill-opacity=\"1\" /><path clip-path=\"url(#clip600)\" d=\"M119.885 283.54 L136.204 283.54 L136.204 287.475 L114.26 287.475 L114.26 283.54 Q116.922 280.785 121.505 276.156 Q126.112 271.503 127.292 270.16 Q129.538 267.637 130.417 265.901 Q131.32 264.142 131.32 262.452 Q131.32 259.697 129.376 257.961 Q127.455 256.225 124.353 256.225 Q122.154 256.225 119.7 256.989 Q117.269 257.753 114.492 259.304 L114.492 254.582 Q117.316 253.447 119.769 252.869 Q122.223 252.29 124.26 252.29 Q129.63 252.29 132.825 254.975 Q136.019 257.66 136.019 262.151 Q136.019 264.281 135.209 266.202 Q134.422 268.1 132.316 270.693 Q131.737 271.364 128.635 274.582 Q125.533 277.776 119.885 283.54 Z\" fill=\"#000000\" fill-rule=\"nonzero\" fill-opacity=\"1\" /><path clip-path=\"url(#clip600)\" d=\"M146.019 281.595 L150.903 281.595 L150.903 287.475 L146.019 287.475 L146.019 281.595 Z\" fill=\"#000000\" fill-rule=\"nonzero\" fill-opacity=\"1\" /><path clip-path=\"url(#clip600)\" d=\"M171.089 255.994 Q167.477 255.994 165.649 259.558 Q163.843 263.1 163.843 270.23 Q163.843 277.336 165.649 280.901 Q167.477 284.443 171.089 284.443 Q174.723 284.443 176.528 280.901 Q178.357 277.336 178.357 270.23 Q178.357 263.1 176.528 259.558 Q174.723 255.994 171.089 255.994 M171.089 252.29 Q176.899 252.29 179.954 256.896 Q183.033 261.48 183.033 270.23 Q183.033 278.956 179.954 283.563 Q176.899 288.146 171.089 288.146 Q165.278 288.146 162.2 283.563 Q159.144 278.956 159.144 270.23 Q159.144 261.48 162.2 256.896 Q165.278 252.29 171.089 252.29 Z\" fill=\"#000000\" fill-rule=\"nonzero\" fill-opacity=\"1\" /><path clip-path=\"url(#clip600)\" d=\"M14.479 793.506 L14.479 787.649 L64.0042 787.649 L64.0042 793.506 L14.479 793.506 Z\" fill=\"#000000\" fill-rule=\"nonzero\" fill-opacity=\"1\" /><path clip-path=\"url(#clip600)\" d=\"M32.4621 761.582 Q32.4621 766.293 36.1542 769.03 Q39.8145 771.767 46.212 771.767 Q52.6095 771.767 56.3017 769.062 Q59.9619 766.324 59.9619 761.582 Q59.9619 756.903 56.2698 754.166 Q52.5777 751.429 46.212 751.429 Q39.8781 751.429 36.186 754.166 Q32.4621 756.903 32.4621 761.582 M27.4968 761.582 Q27.4968 753.943 32.4621 749.583 Q37.4273 745.222 46.212 745.222 Q54.9649 745.222 59.9619 749.583 Q64.9272 753.943 64.9272 761.582 Q64.9272 769.253 59.9619 773.613 Q54.9649 777.942 46.212 777.942 Q37.4273 777.942 32.4621 773.613 Q27.4968 769.253 27.4968 761.582 Z\" fill=\"#000000\" fill-rule=\"nonzero\" fill-opacity=\"1\" /><path clip-path=\"url(#clip600)\" d=\"M29.4065 712.789 L34.9447 712.789 Q33.6716 715.271 33.035 717.945 Q32.3984 720.619 32.3984 723.483 Q32.3984 727.844 33.7352 730.04 Q35.072 732.204 37.7456 732.204 Q39.7826 732.204 40.9603 730.645 Q42.1061 729.085 43.1565 724.374 L43.6021 722.369 Q44.9389 716.131 47.3897 713.521 Q49.8086 710.879 54.1691 710.879 Q59.1344 710.879 62.0308 714.826 Q64.9272 718.741 64.9272 725.616 Q64.9272 728.48 64.3543 731.599 Q63.8132 734.687 62.6992 738.124 L56.6518 738.124 Q58.3387 734.878 59.198 731.727 Q60.0256 728.576 60.0256 725.488 Q60.0256 721.351 58.6251 719.123 Q57.1929 716.895 54.6147 716.895 Q52.2276 716.895 50.9545 718.518 Q49.6813 720.109 48.5037 725.552 L48.0262 727.589 Q46.8804 733.032 44.5251 735.451 Q42.138 737.87 38.0002 737.87 Q32.9713 737.87 30.2341 734.305 Q27.4968 730.74 27.4968 724.183 Q27.4968 720.937 27.9743 718.072 Q28.4517 715.208 29.4065 712.789 Z\" fill=\"#000000\" fill-rule=\"nonzero\" fill-opacity=\"1\" /><path clip-path=\"url(#clip600)\" d=\"M29.4065 678.828 L34.9447 678.828 Q33.6716 681.31 33.035 683.984 Q32.3984 686.658 32.3984 689.522 Q32.3984 693.883 33.7352 696.079 Q35.072 698.243 37.7456 698.243 Q39.7826 698.243 40.9603 696.684 Q42.1061 695.124 43.1565 690.413 L43.6021 688.408 Q44.9389 682.17 47.3897 679.56 Q49.8086 676.918 54.1691 676.918 Q59.1344 676.918 62.0308 680.865 Q64.9272 684.78 64.9272 691.655 Q64.9272 694.519 64.3543 697.638 Q63.8132 700.726 62.6992 704.163 L56.6518 704.163 Q58.3387 700.917 59.198 697.766 Q60.0256 694.615 60.0256 691.527 Q60.0256 687.39 58.6251 685.162 Q57.1929 682.934 54.6147 682.934 Q52.2276 682.934 50.9545 684.557 Q49.6813 686.148 48.5037 691.591 L48.0262 693.628 Q46.8804 699.071 44.5251 701.49 Q42.138 703.909 38.0002 703.909 Q32.9713 703.909 30.2341 700.344 Q27.4968 696.779 27.4968 690.222 Q27.4968 686.976 27.9743 684.111 Q28.4517 681.247 29.4065 678.828 Z\" fill=\"#000000\" fill-rule=\"nonzero\" fill-opacity=\"1\" /><polyline clip-path=\"url(#clip602)\" style=\"stroke:#009af9; stroke-linecap:round; stroke-linejoin:round; stroke-width:4; stroke-opacity:1; fill:none\" points=\"279.421,86.1857 289.537,102.994 299.652,116.656 309.767,129.799 319.883,144.265 329.998,161.087 340.113,180.835 350.228,203.805 360.344,230.062 370.459,259.507 380.574,291.898 390.69,326.869 400.805,364.03 410.92,403.048 421.036,443.534 431.151,485.049 441.266,527.131 451.382,569.405 461.497,611.659 471.612,653.796 481.727,695.757 491.843,737.485 501.958,778.801 512.073,819.244 522.189,858.134 532.304,894.874 542.419,929.158 552.535,960.697 562.65,989.291 572.765,1015.2 582.881,1038.71 592.996,1059.58 603.111,1077.74 613.226,1094.15 623.342,1109.25 633.457,1122.71 643.572,1134.83 653.688,1145.89 663.803,1155.99 673.918,1165.33 684.034,1173.87 694.149,1181.7 704.264,1188.93 714.38,1195.71 724.495,1202.03 734.61,1207.87 744.725,1213.42 754.841,1218.63 764.956,1223.58 775.071,1228.26 785.187,1232.65 795.302,1236.83 805.417,1240.79 815.533,1244.53 825.648,1248.06 835.763,1251.44 845.879,1254.66 855.994,1257.74 866.109,1260.69 876.224,1263.55 886.34,1266.31 896.455,1268.93 906.57,1271.45 916.686,1273.85 926.801,1276.12 936.916,1278.3 947.032,1280.4 957.147,1282.45 967.262,1284.42 977.378,1286.35 987.493,1288.22 997.608,1290.03 1007.72,1291.8 1017.84,1293.52 1027.95,1295.19 1038.07,1296.83 1048.18,1298.43 1058.3,1299.99 1068.42,1301.52 1078.53,1303.03 1088.65,1304.5 1098.76,1305.94 1108.88,1307.35 1118.99,1308.73 1129.11,1310.09 1139.22,1311.42 1149.34,1312.73 1159.45,1314.02 1169.57,1315.28 1179.68,1316.52 1189.8,1317.74 1199.91,1318.93 1210.03,1320.1 1220.14,1321.24 1230.26,1322.37 1240.38,1323.48 1250.49,1324.56 1260.61,1325.64 1270.72,1326.69 1280.84,1327.73 1290.95,1328.74 1301.07,1329.74 1311.18,1330.72 1321.3,1331.69 1331.41,1332.64 1341.53,1333.57 1351.64,1334.49 1361.76,1335.39 1371.87,1336.28 1381.99,1337.15 1392.11,1338.01 1402.22,1338.85 1412.34,1339.68 1422.45,1340.5 1432.57,1341.3 1442.68,1342.09 1452.8,1342.87 1462.91,1343.64 1473.03,1344.4 1483.14,1345.14 1493.26,1345.88 1503.37,1346.6 1513.49,1347.3 1523.6,1348 1533.72,1348.69 1543.83,1349.37 1553.95,1350.04 1564.07,1350.7 1574.18,1351.35 1584.3,1351.99 1594.41,1352.62 1604.53,1353.24 1614.64,1353.86 1624.76,1354.46 1634.87,1355.06 1644.99,1355.65 1655.1,1356.23 1665.22,1356.8 1675.33,1357.37 1685.45,1357.93 1695.56,1358.48 1705.68,1359.03 1715.79,1359.57 1725.91,1360.11 1736.03,1360.64 1746.14,1361.16 1756.26,1361.68 1766.37,1362.19 1776.49,1362.7 1786.6,1363.2 1796.72,1363.7 1806.83,1364.19 1816.95,1364.68 1827.06,1365.17 1837.18,1365.65 1847.29,1366.12 1857.41,1366.6 1867.52,1367.06 1877.64,1367.53 1887.76,1367.99 1897.87,1368.45 1907.99,1368.9 1918.1,1369.35 1928.22,1369.8 1938.33,1370.25 1948.45,1370.69 1958.56,1371.13 1968.68,1371.56 1978.79,1371.99 1988.91,1372.42 1999.02,1372.85 2009.14,1373.27 2019.25,1373.69 2029.37,1374.11 2039.48,1374.53 2049.6,1374.94 2059.72,1375.35 2069.83,1375.76 2079.95,1376.17 2090.06,1376.57 2100.18,1376.98 2110.29,1377.37 2120.41,1377.77 2130.52,1378.17 2140.64,1378.56 2150.75,1378.95 2160.87,1379.34 2170.98,1379.73 2181.1,1380.11 2191.21,1380.5 2201.33,1380.88 2211.45,1381.26 2221.56,1381.64 2231.68,1382.02 2241.79,1382.39 2251.91,1382.77 2262.02,1383.14 2272.14,1383.51 2282.25,1383.87 2292.37,1384.24 \"/>\n",
       "</svg>\n"
      ]
     },
     "metadata": {},
     "output_type": "display_data"
    }
   ],
   "source": [
    "train_data = [(x_train, y_train)]\n",
    "loss_progression = []\n",
    "epochs = 200\n",
    "\n",
    "# Main training loop\n",
    "for epoch in 1:epochs\n",
    "   Flux.train!(loss, model_MLP, train_data, opt)  # Tensorflow style training. \n",
    "    \n",
    "    # Logging; you can use @withprogress from ProgressLogging.jl instead  \n",
    "    l = calculate_loss(model_MLP, train_data)\n",
    "    push!(loss_progression, l)\n",
    "    if mod(epoch, 10) == 1  \n",
    "        println(\"epoch=$epoch : train_loss=$l\")\n",
    "    end\n",
    "end\n",
    "\n",
    "plot(loss_progression, xlabel = \"epochs\", ylabel = \"loss\", legend=false)"
   ]
  },
  {
   "cell_type": "markdown",
   "metadata": {},
   "source": [
    "Let's implement a function to calculate our accuracy on the test set"
   ]
  },
  {
   "cell_type": "code",
   "execution_count": 32,
   "metadata": {},
   "outputs": [
    {
     "data": {
      "text/plain": [
       "95.32"
      ]
     },
     "metadata": {},
     "output_type": "display_data"
    }
   ],
   "source": [
    "function calculate_accuracy(model, x, y)\n",
    "    y_hat = model(x)\n",
    "    iscorrect = Flux.onecold(y_hat) .== Flux.onecold(y)         # onecold is the inverse of onehot encoding\n",
    "    return accuracy = round(100 * mean(iscorrect); digits=2)\n",
    "end\n",
    "\n",
    "calculate_accuracy(model_MLP, x_test, y_test)"
   ]
  },
  {
   "cell_type": "markdown",
   "metadata": {},
   "source": [
    "Let's look as some exemplars in the test set and see how well our model does"
   ]
  },
  {
   "cell_type": "code",
   "execution_count": 33,
   "metadata": {},
   "outputs": [
    {
     "data": {
      "image/png": "[encoded data removed]",
      "text/html": [
       "<img src=\"data:image/png;base64,iVBORw0KGgoAAAANSUhEUgAAAHAAAABwCAAAAADji6uXAAAABGdBTUEAALGPC/xhBQAAAAFzUkdCAK7OHOkAAAAgY0hSTQAAeiYAAICEAAD6AAAAgOgAAHUwAADqYAAAOpgAABdwnLpRPAAAAdpJREFUaAW9wb+L1gUAB+BH/HDgIEnDweHhjylBcPEPuEGXSGgxcBEMwrFBkBAEORpMD4fohlwcXAIXnQzBUWgKITjIBs9NUDGEBhWshu8U9N77ft8XPs8TZVEWZVEWZVEWZVEWZVEWZVEWZVEWZVEWZVEWZVEWZVEWZVEWZVEWZVEWIyzjM5zGp9iFp7iBm/hguiiLsiiLKVbxFb7AIewxeIt3OIxN/IXbpouyKIuymGA/LuMMPjJ4htd4g2vYwkN8gphNlEVZlMUE+/AllvASa3iON/7rGm5hr9lEWZRFWUywhXU8xhNs+3+vDE7he9NFWZRFWezgquk+NvjDbKIsyqIsFnTA4AezibIoi7JYwBI+xz08MZsoi7IoiwWcw3HcxT9mE2VRFmUxhyP4Ga8N3uEwtk0XZVEWZTGnFRw02MAV/Irv8MBkURZlURZz+B2buGDwHttYwzKOmizKoizKYg67cQy/4Ru8wAou4hc7i7Ioi7KYw7c4iUt4YPAY900XZVEWZTHSPqzhDjaMF2VRFmUx0mWs4jz+Nl6URVmUxQjHcRbr2DKfKIuyKIsRvsZ7/GR+URZlURYjnMCP+NP8oizKoixGeITrFhNlURZlMcIZi4uyKIuyfwGg2T78wMKTewAAAABJRU5ErkJg\">"
      ],
      "text/plain": [
       "28×28 reinterpret(reshape, Gray{Float32}, adjoint(::Matrix{Float32})) with eltype Gray{Float32}:\n",
       " Gray{Float32}(0.0)  Gray{Float32}(0.0)  …  Gray{Float32}(0.0)\n",
       " Gray{Float32}(0.0)  Gray{Float32}(0.0)     Gray{Float32}(0.0)\n",
       " Gray{Float32}(0.0)  Gray{Float32}(0.0)     Gray{Float32}(0.0)\n",
       " Gray{Float32}(0.0)  Gray{Float32}(0.0)     Gray{Float32}(0.0)\n",
       " Gray{Float32}(0.0)  Gray{Float32}(0.0)     Gray{Float32}(0.0)\n",
       " Gray{Float32}(0.0)  Gray{Float32}(0.0)  …  Gray{Float32}(0.0)\n",
       " Gray{Float32}(0.0)  Gray{Float32}(0.0)     Gray{Float32}(0.0)\n",
       " Gray{Float32}(0.0)  Gray{Float32}(0.0)     Gray{Float32}(0.0)\n",
       " Gray{Float32}(0.0)  Gray{Float32}(0.0)     Gray{Float32}(0.0)\n",
       " Gray{Float32}(0.0)  Gray{Float32}(0.0)     Gray{Float32}(0.0)\n",
       " ⋮                                       ⋱  \n",
       " Gray{Float32}(0.0)  Gray{Float32}(0.0)     Gray{Float32}(0.0)\n",
       " Gray{Float32}(0.0)  Gray{Float32}(0.0)  …  Gray{Float32}(0.0)\n",
       " Gray{Float32}(0.0)  Gray{Float32}(0.0)     Gray{Float32}(0.0)\n",
       " Gray{Float32}(0.0)  Gray{Float32}(0.0)     Gray{Float32}(0.0)\n",
       " Gray{Float32}(0.0)  Gray{Float32}(0.0)     Gray{Float32}(0.0)\n",
       " Gray{Float32}(0.0)  Gray{Float32}(0.0)     Gray{Float32}(0.0)\n",
       " Gray{Float32}(0.0)  Gray{Float32}(0.0)  …  Gray{Float32}(0.0)\n",
       " Gray{Float32}(0.0)  Gray{Float32}(0.0)     Gray{Float32}(0.0)\n",
       " Gray{Float32}(0.0)  Gray{Float32}(0.0)     Gray{Float32}(0.0)"
      ]
     },
     "metadata": {},
     "output_type": "display_data"
    }
   ],
   "source": [
    "index = 42\n",
    "img = x_test_raw[:, :, index]' |> colorview(Gray) "
   ]
  },
  {
   "cell_type": "code",
   "execution_count": 34,
   "metadata": {},
   "outputs": [
    {
     "name": "stdout",
     "output_type": "stream",
     "text": [
      "Recognised digit: 7\n",
      "Digit label: 7\n"
     ]
    }
   ],
   "source": [
    "prediction = model_MLP(x_test[:,index])\n",
    "println(\"Recognised digit: \", Flux.onecold(prediction, 0:9))\n",
    "println(\"Digit label: \", y_test_raw[index])  "
   ]
  },
  {
   "cell_type": "markdown",
   "metadata": {},
   "source": [
    "## Example 2 - CIFAR10 with CNNs\n",
    "\n",
    "Let's try something a bit more sophisticated. Our main urpose is to showcase a few more standard yet more advanced features from `Flux.jl`"
   ]
  },
  {
   "cell_type": "code",
   "execution_count": 35,
   "metadata": {},
   "outputs": [],
   "source": [
    "using MLDatasets: CIFAR10\n",
    "using .Iterators # Packages from Base have this ."
   ]
  },
  {
   "cell_type": "markdown",
   "metadata": {},
   "source": [
    "I am using Julia's native `Iterators.jl` to batch my training data into 1000 datapoints batches. If you need more sophisticated data loaders, say due to memory limitations or too large datasets, consider `Flux.DataLoader()`"
   ]
  },
  {
   "cell_type": "code",
   "execution_count": 36,
   "metadata": {},
   "outputs": [
    {
     "data": {
      "text/plain": [
       "10×1000 OneHotMatrix(::Vector{UInt32}) with eltype Bool:\n",
       " ⋅  ⋅  ⋅  ⋅  1  ⋅  1  ⋅  ⋅  ⋅  ⋅  ⋅  ⋅  …  ⋅  ⋅  ⋅  ⋅  1  ⋅  1  ⋅  ⋅  ⋅  ⋅  ⋅\n",
       " ⋅  ⋅  ⋅  ⋅  ⋅  ⋅  ⋅  ⋅  ⋅  ⋅  ⋅  ⋅  ⋅     ⋅  1  ⋅  ⋅  ⋅  1  ⋅  ⋅  ⋅  ⋅  1  1\n",
       " ⋅  ⋅  ⋅  ⋅  ⋅  ⋅  ⋅  ⋅  1  ⋅  ⋅  ⋅  ⋅     ⋅  ⋅  ⋅  1  ⋅  ⋅  ⋅  1  ⋅  ⋅  ⋅  ⋅\n",
       " ⋅  ⋅  ⋅  ⋅  ⋅  ⋅  ⋅  ⋅  ⋅  1  ⋅  ⋅  ⋅     ⋅  ⋅  ⋅  ⋅  ⋅  ⋅  ⋅  ⋅  ⋅  ⋅  ⋅  ⋅\n",
       " ⋅  ⋅  1  ⋅  ⋅  ⋅  ⋅  ⋅  ⋅  ⋅  ⋅  ⋅  ⋅     ⋅  ⋅  1  ⋅  ⋅  ⋅  ⋅  ⋅  ⋅  ⋅  ⋅  ⋅\n",
       " ⋅  ⋅  ⋅  ⋅  ⋅  1  ⋅  ⋅  ⋅  ⋅  ⋅  ⋅  ⋅  …  1  ⋅  ⋅  ⋅  ⋅  ⋅  ⋅  ⋅  ⋅  ⋅  ⋅  ⋅\n",
       " ⋅  ⋅  ⋅  ⋅  ⋅  ⋅  ⋅  ⋅  ⋅  ⋅  ⋅  ⋅  ⋅     ⋅  ⋅  ⋅  ⋅  ⋅  ⋅  ⋅  ⋅  1  ⋅  ⋅  ⋅\n",
       " ⋅  ⋅  ⋅  ⋅  ⋅  ⋅  ⋅  ⋅  ⋅  ⋅  1  ⋅  ⋅     ⋅  ⋅  ⋅  ⋅  ⋅  ⋅  ⋅  ⋅  ⋅  ⋅  ⋅  ⋅\n",
       " 1  ⋅  ⋅  ⋅  ⋅  ⋅  ⋅  1  ⋅  ⋅  ⋅  1  ⋅     ⋅  ⋅  ⋅  ⋅  ⋅  ⋅  ⋅  ⋅  ⋅  ⋅  ⋅  ⋅\n",
       " ⋅  1  ⋅  1  ⋅  ⋅  ⋅  ⋅  ⋅  ⋅  ⋅  ⋅  1     ⋅  ⋅  ⋅  ⋅  ⋅  ⋅  ⋅  ⋅  ⋅  1  ⋅  ⋅"
      ]
     },
     "metadata": {},
     "output_type": "display_data"
    }
   ],
   "source": [
    "train_x, train_y = CIFAR10(split=:train)[:]\n",
    "labels = Flux.onehotbatch(train_y, 0:9)\n",
    "\n",
    "train_data = ([(train_x[:,:,:,i], labels[:,i]) for i in partition(1:49000, 1000)])\n",
    "\n",
    "validaton_set = 49001:50000\n",
    "validation_x = train_x[:,:,:,validaton_set]\n",
    "validation_y = labels[:, validaton_set]"
   ]
  },
  {
   "cell_type": "code",
   "execution_count": 37,
   "metadata": {},
   "outputs": [
    {
     "name": "stdout",
     "output_type": "stream",
     "text": [
      "Labeled class: (2 => \"bird\")\n"
     ]
    },
    {
     "data": {
      "image/png": "[encoded data removed]",
      "image/svg+xml": [
       "<?xml version=\"1.0\" encoding=\"utf-8\"?>\n",
       "<svg xmlns=\"http://www.w3.org/2000/svg\" xmlns:xlink=\"http://www.w3.org/1999/xlink\" width=\"200\" height=\"200\" viewBox=\"0 0 800 800\">\n",
       "<defs>\n",
       "  <clipPath id=\"clip640\">\n",
       "    <rect x=\"0\" y=\"0\" width=\"800\" height=\"800\"/>\n",
       "  </clipPath>\n",
       "</defs>\n",
       "<path clip-path=\"url(#clip640)\" d=\"M0 800 L800 800 L800 0 L0 0  Z\" fill=\"#ffffff\" fill-rule=\"evenodd\" fill-opacity=\"1\"/>\n",
       "<defs>\n",
       "  <clipPath id=\"clip641\">\n",
       "    <rect x=\"160\" y=\"79\" width=\"561\" height=\"561\"/>\n",
       "  </clipPath>\n",
       "</defs>\n",
       "<path clip-path=\"url(#clip640)\" d=\"M124.696 677.168 L752.756 677.168 L752.756 47.2441 L124.696 47.2441  Z\" fill=\"#ffffff\" fill-rule=\"evenodd\" fill-opacity=\"1\"/>\n",
       "<defs>\n",
       "  <clipPath id=\"clip642\">\n",
       "    <rect x=\"124\" y=\"47\" width=\"629\" height=\"631\"/>\n",
       "  </clipPath>\n",
       "</defs>\n",
       "<polyline clip-path=\"url(#clip642)\" style=\"stroke:#000000; stroke-linecap:round; stroke-linejoin:round; stroke-width:2; stroke-opacity:0.1; fill:none\" points=\"213.017,47.2441 213.017,677.168 \"/>\n",
       "<polyline clip-path=\"url(#clip642)\" style=\"stroke:#000000; stroke-linecap:round; stroke-linejoin:round; stroke-width:2; stroke-opacity:0.1; fill:none\" points=\"311.151,47.2441 311.151,677.168 \"/>\n",
       "<polyline clip-path=\"url(#clip642)\" style=\"stroke:#000000; stroke-linecap:round; stroke-linejoin:round; stroke-width:2; stroke-opacity:0.1; fill:none\" points=\"409.285,47.2441 409.285,677.168 \"/>\n",
       "<polyline clip-path=\"url(#clip642)\" style=\"stroke:#000000; stroke-linecap:round; stroke-linejoin:round; stroke-width:2; stroke-opacity:0.1; fill:none\" points=\"507.42,47.2441 507.42,677.168 \"/>\n",
       "<polyline clip-path=\"url(#clip642)\" style=\"stroke:#000000; stroke-linecap:round; stroke-linejoin:round; stroke-width:2; stroke-opacity:0.1; fill:none\" points=\"605.554,47.2441 605.554,677.168 \"/>\n",
       "<polyline clip-path=\"url(#clip642)\" style=\"stroke:#000000; stroke-linecap:round; stroke-linejoin:round; stroke-width:2; stroke-opacity:0.1; fill:none\" points=\"703.689,47.2441 703.689,677.168 \"/>\n",
       "<polyline clip-path=\"url(#clip640)\" style=\"stroke:#000000; stroke-linecap:round; stroke-linejoin:round; stroke-width:4; stroke-opacity:1; fill:none\" points=\"124.696,677.168 752.756,677.168 \"/>\n",
       "<polyline clip-path=\"url(#clip640)\" style=\"stroke:#000000; stroke-linecap:round; stroke-linejoin:round; stroke-width:4; stroke-opacity:1; fill:none\" points=\"213.017,677.168 213.017,658.27 \"/>\n",
       "<polyline clip-path=\"url(#clip640)\" style=\"stroke:#000000; stroke-linecap:round; stroke-linejoin:round; stroke-width:4; stroke-opacity:1; fill:none\" points=\"311.151,677.168 311.151,658.27 \"/>\n",
       "<polyline clip-path=\"url(#clip640)\" style=\"stroke:#000000; stroke-linecap:round; stroke-linejoin:round; stroke-width:4; stroke-opacity:1; fill:none\" points=\"409.285,677.168 409.285,658.27 \"/>\n",
       "<polyline clip-path=\"url(#clip640)\" style=\"stroke:#000000; stroke-linecap:round; stroke-linejoin:round; stroke-width:4; stroke-opacity:1; fill:none\" points=\"507.42,677.168 507.42,658.27 \"/>\n",
       "<polyline clip-path=\"url(#clip640)\" style=\"stroke:#000000; stroke-linecap:round; stroke-linejoin:round; stroke-width:4; stroke-opacity:1; fill:none\" points=\"605.554,677.168 605.554,658.27 \"/>\n",
       "<polyline clip-path=\"url(#clip640)\" style=\"stroke:#000000; stroke-linecap:round; stroke-linejoin:round; stroke-width:4; stroke-opacity:1; fill:none\" points=\"703.689,677.168 703.689,658.27 \"/>\n",
       "<path clip-path=\"url(#clip640)\" d=\"M203.294 692.208 L221.651 692.208 L221.651 696.143 L207.577 696.143 L207.577 704.615 Q208.595 704.268 209.614 704.106 Q210.632 703.921 211.651 703.921 Q217.438 703.921 220.817 707.092 Q224.197 710.263 224.197 715.68 Q224.197 721.259 220.725 724.36 Q217.253 727.439 210.933 727.439 Q208.757 727.439 206.489 727.069 Q204.243 726.698 201.836 725.958 L201.836 721.259 Q203.919 722.393 206.142 722.948 Q208.364 723.504 210.841 723.504 Q214.845 723.504 217.183 721.398 Q219.521 719.291 219.521 715.68 Q219.521 712.069 217.183 709.962 Q214.845 707.856 210.841 707.856 Q208.966 707.856 207.091 708.273 Q205.239 708.689 203.294 709.569 L203.294 692.208 Z\" fill=\"#000000\" fill-rule=\"nonzero\" fill-opacity=\"1\" /><path clip-path=\"url(#clip640)\" d=\"M285.839 722.833 L293.477 722.833 L293.477 696.467 L285.167 698.134 L285.167 693.875 L293.431 692.208 L298.107 692.208 L298.107 722.833 L305.746 722.833 L305.746 726.768 L285.839 726.768 L285.839 722.833 Z\" fill=\"#000000\" fill-rule=\"nonzero\" fill-opacity=\"1\" /><path clip-path=\"url(#clip640)\" d=\"M325.19 695.287 Q321.579 695.287 319.75 698.851 Q317.945 702.393 317.945 709.523 Q317.945 716.629 319.75 720.194 Q321.579 723.735 325.19 723.735 Q328.824 723.735 330.63 720.194 Q332.459 716.629 332.459 709.523 Q332.459 702.393 330.63 698.851 Q328.824 695.287 325.19 695.287 M325.19 691.583 Q331 691.583 334.056 696.189 Q337.135 700.773 337.135 709.523 Q337.135 718.249 334.056 722.856 Q331 727.439 325.19 727.439 Q319.38 727.439 316.301 722.856 Q313.246 718.249 313.246 709.523 Q313.246 700.773 316.301 696.189 Q319.38 691.583 325.19 691.583 Z\" fill=\"#000000\" fill-rule=\"nonzero\" fill-opacity=\"1\" /><path clip-path=\"url(#clip640)\" d=\"M384.471 722.833 L392.11 722.833 L392.11 696.467 L383.799 698.134 L383.799 693.875 L392.063 692.208 L396.739 692.208 L396.739 722.833 L404.378 722.833 L404.378 726.768 L384.471 726.768 L384.471 722.833 Z\" fill=\"#000000\" fill-rule=\"nonzero\" fill-opacity=\"1\" /><path clip-path=\"url(#clip640)\" d=\"M413.869 692.208 L432.225 692.208 L432.225 696.143 L418.151 696.143 L418.151 704.615 Q419.17 704.268 420.188 704.106 Q421.207 703.921 422.225 703.921 Q428.012 703.921 431.392 707.092 Q434.771 710.263 434.771 715.68 Q434.771 721.259 431.299 724.36 Q427.827 727.439 421.508 727.439 Q419.332 727.439 417.063 727.069 Q414.818 726.698 412.41 725.958 L412.41 721.259 Q414.494 722.393 416.716 722.948 Q418.938 723.504 421.415 723.504 Q425.42 723.504 427.758 721.398 Q430.095 719.291 430.095 715.68 Q430.095 712.069 427.758 709.962 Q425.42 707.856 421.415 707.856 Q419.54 707.856 417.665 708.273 Q415.813 708.689 413.869 709.569 L413.869 692.208 Z\" fill=\"#000000\" fill-rule=\"nonzero\" fill-opacity=\"1\" /><path clip-path=\"url(#clip640)\" d=\"M486.193 722.833 L502.512 722.833 L502.512 726.768 L480.568 726.768 L480.568 722.833 Q483.23 720.078 487.813 715.448 Q492.42 710.796 493.6 709.453 Q495.846 706.93 496.725 705.194 Q497.628 703.435 497.628 701.745 Q497.628 698.99 495.684 697.254 Q493.762 695.518 490.661 695.518 Q488.462 695.518 486.008 696.282 Q483.577 697.046 480.8 698.597 L480.8 693.875 Q483.624 692.74 486.077 692.162 Q488.531 691.583 490.568 691.583 Q495.938 691.583 499.133 694.268 Q502.327 696.953 502.327 701.444 Q502.327 703.574 501.517 705.495 Q500.73 707.393 498.624 709.986 Q498.045 710.657 494.943 713.874 Q491.841 717.069 486.193 722.833 Z\" fill=\"#000000\" fill-rule=\"nonzero\" fill-opacity=\"1\" /><path clip-path=\"url(#clip640)\" d=\"M522.327 695.287 Q518.716 695.287 516.887 698.851 Q515.082 702.393 515.082 709.523 Q515.082 716.629 516.887 720.194 Q518.716 723.735 522.327 723.735 Q525.961 723.735 527.767 720.194 Q529.596 716.629 529.596 709.523 Q529.596 702.393 527.767 698.851 Q525.961 695.287 522.327 695.287 M522.327 691.583 Q528.137 691.583 531.193 696.189 Q534.272 700.773 534.272 709.523 Q534.272 718.249 531.193 722.856 Q528.137 727.439 522.327 727.439 Q516.517 727.439 513.438 722.856 Q510.383 718.249 510.383 709.523 Q510.383 700.773 513.438 696.189 Q516.517 691.583 522.327 691.583 Z\" fill=\"#000000\" fill-rule=\"nonzero\" fill-opacity=\"1\" /><path clip-path=\"url(#clip640)\" d=\"M584.825 722.833 L601.145 722.833 L601.145 726.768 L579.2 726.768 L579.2 722.833 Q581.862 720.078 586.446 715.448 Q591.052 710.796 592.233 709.453 Q594.478 706.93 595.358 705.194 Q596.26 703.435 596.26 701.745 Q596.26 698.99 594.316 697.254 Q592.395 695.518 589.293 695.518 Q587.094 695.518 584.64 696.282 Q582.209 697.046 579.432 698.597 L579.432 693.875 Q582.256 692.74 584.709 692.162 Q587.163 691.583 589.2 691.583 Q594.571 691.583 597.765 694.268 Q600.959 696.953 600.959 701.444 Q600.959 703.574 600.149 705.495 Q599.362 707.393 597.256 709.986 Q596.677 710.657 593.575 713.874 Q590.473 717.069 584.825 722.833 Z\" fill=\"#000000\" fill-rule=\"nonzero\" fill-opacity=\"1\" /><path clip-path=\"url(#clip640)\" d=\"M611.006 692.208 L629.362 692.208 L629.362 696.143 L615.288 696.143 L615.288 704.615 Q616.307 704.268 617.325 704.106 Q618.344 703.921 619.362 703.921 Q625.149 703.921 628.529 707.092 Q631.908 710.263 631.908 715.68 Q631.908 721.259 628.436 724.36 Q624.964 727.439 618.644 727.439 Q616.469 727.439 614.2 727.069 Q611.955 726.698 609.547 725.958 L609.547 721.259 Q611.631 722.393 613.853 722.948 Q616.075 723.504 618.552 723.504 Q622.556 723.504 624.894 721.398 Q627.232 719.291 627.232 715.68 Q627.232 712.069 624.894 709.962 Q622.556 707.856 618.552 707.856 Q616.677 707.856 614.802 708.273 Q612.95 708.689 611.006 709.569 L611.006 692.208 Z\" fill=\"#000000\" fill-rule=\"nonzero\" fill-opacity=\"1\" /><path clip-path=\"url(#clip640)\" d=\"M692.531 708.134 Q695.888 708.851 697.763 711.12 Q699.661 713.388 699.661 716.722 Q699.661 721.837 696.142 724.638 Q692.624 727.439 686.142 727.439 Q683.967 727.439 681.652 726.999 Q679.36 726.583 676.906 725.726 L676.906 721.212 Q678.851 722.347 681.166 722.925 Q683.48 723.504 686.004 723.504 Q690.402 723.504 692.693 721.768 Q695.008 720.032 695.008 716.722 Q695.008 713.666 692.855 711.953 Q690.726 710.217 686.906 710.217 L682.879 710.217 L682.879 706.374 L687.092 706.374 Q690.541 706.374 692.369 705.009 Q694.198 703.62 694.198 701.027 Q694.198 698.365 692.3 696.953 Q690.425 695.518 686.906 695.518 Q684.985 695.518 682.786 695.935 Q680.587 696.351 677.948 697.231 L677.948 693.064 Q680.61 692.324 682.925 691.953 Q685.263 691.583 687.323 691.583 Q692.647 691.583 695.749 694.013 Q698.851 696.421 698.851 700.541 Q698.851 703.412 697.207 705.402 Q695.564 707.37 692.531 708.134 Z\" fill=\"#000000\" fill-rule=\"nonzero\" fill-opacity=\"1\" /><path clip-path=\"url(#clip640)\" d=\"M718.527 695.287 Q714.915 695.287 713.087 698.851 Q711.281 702.393 711.281 709.523 Q711.281 716.629 713.087 720.194 Q714.915 723.735 718.527 723.735 Q722.161 723.735 723.966 720.194 Q725.795 716.629 725.795 709.523 Q725.795 702.393 723.966 698.851 Q722.161 695.287 718.527 695.287 M718.527 691.583 Q724.337 691.583 727.392 696.189 Q730.471 700.773 730.471 709.523 Q730.471 718.249 727.392 722.856 Q724.337 727.439 718.527 727.439 Q712.716 727.439 709.638 722.856 Q706.582 718.249 706.582 709.523 Q706.582 700.773 709.638 696.189 Q712.716 691.583 718.527 691.583 Z\" fill=\"#000000\" fill-rule=\"nonzero\" fill-opacity=\"1\" /><polyline clip-path=\"url(#clip642)\" style=\"stroke:#000000; stroke-linecap:round; stroke-linejoin:round; stroke-width:2; stroke-opacity:0.1; fill:none\" points=\"124.696,136.497 752.756,136.497 \"/>\n",
       "<polyline clip-path=\"url(#clip642)\" style=\"stroke:#000000; stroke-linecap:round; stroke-linejoin:round; stroke-width:2; stroke-opacity:0.1; fill:none\" points=\"124.696,234.631 752.756,234.631 \"/>\n",
       "<polyline clip-path=\"url(#clip642)\" style=\"stroke:#000000; stroke-linecap:round; stroke-linejoin:round; stroke-width:2; stroke-opacity:0.1; fill:none\" points=\"124.696,332.766 752.756,332.766 \"/>\n",
       "<polyline clip-path=\"url(#clip642)\" style=\"stroke:#000000; stroke-linecap:round; stroke-linejoin:round; stroke-width:2; stroke-opacity:0.1; fill:none\" points=\"124.696,430.9 752.756,430.9 \"/>\n",
       "<polyline clip-path=\"url(#clip642)\" style=\"stroke:#000000; stroke-linecap:round; stroke-linejoin:round; stroke-width:2; stroke-opacity:0.1; fill:none\" points=\"124.696,529.035 752.756,529.035 \"/>\n",
       "<polyline clip-path=\"url(#clip642)\" style=\"stroke:#000000; stroke-linecap:round; stroke-linejoin:round; stroke-width:2; stroke-opacity:0.1; fill:none\" points=\"124.696,627.169 752.756,627.169 \"/>\n",
       "<polyline clip-path=\"url(#clip640)\" style=\"stroke:#000000; stroke-linecap:round; stroke-linejoin:round; stroke-width:4; stroke-opacity:1; fill:none\" points=\"124.696,47.2441 124.696,677.168 \"/>\n",
       "<polyline clip-path=\"url(#clip640)\" style=\"stroke:#000000; stroke-linecap:round; stroke-linejoin:round; stroke-width:4; stroke-opacity:1; fill:none\" points=\"124.696,136.497 143.593,136.497 \"/>\n",
       "<polyline clip-path=\"url(#clip640)\" style=\"stroke:#000000; stroke-linecap:round; stroke-linejoin:round; stroke-width:4; stroke-opacity:1; fill:none\" points=\"124.696,234.631 143.593,234.631 \"/>\n",
       "<polyline clip-path=\"url(#clip640)\" style=\"stroke:#000000; stroke-linecap:round; stroke-linejoin:round; stroke-width:4; stroke-opacity:1; fill:none\" points=\"124.696,332.766 143.593,332.766 \"/>\n",
       "<polyline clip-path=\"url(#clip640)\" style=\"stroke:#000000; stroke-linecap:round; stroke-linejoin:round; stroke-width:4; stroke-opacity:1; fill:none\" points=\"124.696,430.9 143.593,430.9 \"/>\n",
       "<polyline clip-path=\"url(#clip640)\" style=\"stroke:#000000; stroke-linecap:round; stroke-linejoin:round; stroke-width:4; stroke-opacity:1; fill:none\" points=\"124.696,529.035 143.593,529.035 \"/>\n",
       "<polyline clip-path=\"url(#clip640)\" style=\"stroke:#000000; stroke-linecap:round; stroke-linejoin:round; stroke-width:4; stroke-opacity:1; fill:none\" points=\"124.696,627.169 143.593,627.169 \"/>\n",
       "<path clip-path=\"url(#clip640)\" d=\"M91.7929 119.217 L110.149 119.217 L110.149 123.152 L96.0753 123.152 L96.0753 131.624 Q97.0938 131.277 98.1123 131.115 Q99.1308 130.93 100.149 130.93 Q105.936 130.93 109.316 134.101 Q112.696 137.272 112.696 142.689 Q112.696 148.268 109.223 151.369 Q105.751 154.448 99.4317 154.448 Q97.2558 154.448 94.9873 154.078 Q92.7419 153.707 90.3346 152.967 L90.3346 148.268 Q92.4179 149.402 94.6401 149.957 Q96.8623 150.513 99.3391 150.513 Q103.344 150.513 105.682 148.406 Q108.02 146.3 108.02 142.689 Q108.02 139.078 105.682 136.971 Q103.344 134.865 99.3391 134.865 Q97.4641 134.865 95.5892 135.282 Q93.7373 135.698 91.7929 136.578 L91.7929 119.217 Z\" fill=\"#000000\" fill-rule=\"nonzero\" fill-opacity=\"1\" /><path clip-path=\"url(#clip640)\" d=\"M61.3995 247.976 L69.0384 247.976 L69.0384 221.61 L60.7282 223.277 L60.7282 219.018 L68.9921 217.351 L73.668 217.351 L73.668 247.976 L81.3068 247.976 L81.3068 251.911 L61.3995 251.911 L61.3995 247.976 Z\" fill=\"#000000\" fill-rule=\"nonzero\" fill-opacity=\"1\" /><path clip-path=\"url(#clip640)\" d=\"M100.751 220.43 Q97.1401 220.43 95.3114 223.995 Q93.5058 227.536 93.5058 234.666 Q93.5058 241.772 95.3114 245.337 Q97.1401 248.879 100.751 248.879 Q104.385 248.879 106.191 245.337 Q108.02 241.772 108.02 234.666 Q108.02 227.536 106.191 223.995 Q104.385 220.43 100.751 220.43 M100.751 216.726 Q106.561 216.726 109.617 221.333 Q112.696 225.916 112.696 234.666 Q112.696 243.393 109.617 247.999 Q106.561 252.583 100.751 252.583 Q94.941 252.583 91.8623 247.999 Q88.8068 243.393 88.8068 234.666 Q88.8068 225.916 91.8623 221.333 Q94.941 216.726 100.751 216.726 Z\" fill=\"#000000\" fill-rule=\"nonzero\" fill-opacity=\"1\" /><path clip-path=\"url(#clip640)\" d=\"M62.3949 346.11 L70.0337 346.11 L70.0337 319.745 L61.7236 321.412 L61.7236 317.152 L69.9874 315.486 L74.6633 315.486 L74.6633 346.11 L82.3022 346.11 L82.3022 350.046 L62.3949 350.046 L62.3949 346.11 Z\" fill=\"#000000\" fill-rule=\"nonzero\" fill-opacity=\"1\" /><path clip-path=\"url(#clip640)\" d=\"M91.7929 315.486 L110.149 315.486 L110.149 319.421 L96.0753 319.421 L96.0753 327.893 Q97.0938 327.546 98.1123 327.384 Q99.1308 327.199 100.149 327.199 Q105.936 327.199 109.316 330.37 Q112.696 333.541 112.696 338.958 Q112.696 344.536 109.223 347.638 Q105.751 350.717 99.4317 350.717 Q97.2558 350.717 94.9873 350.347 Q92.7419 349.976 90.3346 349.235 L90.3346 344.536 Q92.4179 345.671 94.6401 346.226 Q96.8623 346.782 99.3391 346.782 Q103.344 346.782 105.682 344.675 Q108.02 342.569 108.02 338.958 Q108.02 335.347 105.682 333.24 Q103.344 331.134 99.3391 331.134 Q97.4641 331.134 95.5892 331.55 Q93.7373 331.967 91.7929 332.847 L91.7929 315.486 Z\" fill=\"#000000\" fill-rule=\"nonzero\" fill-opacity=\"1\" /><path clip-path=\"url(#clip640)\" d=\"M64.6171 444.245 L80.9365 444.245 L80.9365 448.18 L58.9921 448.18 L58.9921 444.245 Q61.6541 441.49 66.2375 436.861 Q70.8439 432.208 72.0245 430.865 Q74.2698 428.342 75.1494 426.606 Q76.0522 424.847 76.0522 423.157 Q76.0522 420.402 74.1078 418.666 Q72.1865 416.93 69.0847 416.93 Q66.8856 416.93 64.4319 417.694 Q62.0014 418.458 59.2236 420.009 L59.2236 415.287 Q62.0477 414.152 64.5014 413.574 Q66.955 412.995 68.9921 412.995 Q74.3624 412.995 77.5568 415.68 Q80.7513 418.365 80.7513 422.856 Q80.7513 424.986 79.9411 426.907 Q79.1541 428.805 77.0476 431.398 Q76.4689 432.069 73.367 435.287 Q70.2652 438.481 64.6171 444.245 Z\" fill=\"#000000\" fill-rule=\"nonzero\" fill-opacity=\"1\" /><path clip-path=\"url(#clip640)\" d=\"M100.751 416.699 Q97.1401 416.699 95.3114 420.264 Q93.5058 423.805 93.5058 430.935 Q93.5058 438.041 95.3114 441.606 Q97.1401 445.148 100.751 445.148 Q104.385 445.148 106.191 441.606 Q108.02 438.041 108.02 430.935 Q108.02 423.805 106.191 420.264 Q104.385 416.699 100.751 416.699 M100.751 412.995 Q106.561 412.995 109.617 417.602 Q112.696 422.185 112.696 430.935 Q112.696 439.662 109.617 444.268 Q106.561 448.851 100.751 448.851 Q94.941 448.851 91.8623 444.268 Q88.8068 439.662 88.8068 430.935 Q88.8068 422.185 91.8623 417.602 Q94.941 412.995 100.751 412.995 Z\" fill=\"#000000\" fill-rule=\"nonzero\" fill-opacity=\"1\" /><path clip-path=\"url(#clip640)\" d=\"M65.6125 542.379 L81.9318 542.379 L81.9318 546.315 L59.9875 546.315 L59.9875 542.379 Q62.6495 539.625 67.2328 534.995 Q71.8393 530.342 73.0198 529 Q75.2652 526.477 76.1448 524.741 Q77.0476 522.981 77.0476 521.292 Q77.0476 518.537 75.1032 516.801 Q73.1819 515.065 70.08 515.065 Q67.881 515.065 65.4273 515.829 Q62.9967 516.592 60.219 518.143 L60.219 513.421 Q63.043 512.287 65.4967 511.708 Q67.9504 511.13 69.9874 511.13 Q75.3578 511.13 78.5522 513.815 Q81.7466 516.5 81.7466 520.991 Q81.7466 523.12 80.9365 525.041 Q80.1494 526.94 78.0429 529.532 Q77.4642 530.203 74.3624 533.421 Q71.2606 536.615 65.6125 542.379 Z\" fill=\"#000000\" fill-rule=\"nonzero\" fill-opacity=\"1\" /><path clip-path=\"url(#clip640)\" d=\"M91.7929 511.755 L110.149 511.755 L110.149 515.69 L96.0753 515.69 L96.0753 524.162 Q97.0938 523.815 98.1123 523.653 Q99.1308 523.467 100.149 523.467 Q105.936 523.467 109.316 526.639 Q112.696 529.81 112.696 535.227 Q112.696 540.805 109.223 543.907 Q105.751 546.986 99.4317 546.986 Q97.2558 546.986 94.9873 546.615 Q92.7419 546.245 90.3346 545.504 L90.3346 540.805 Q92.4179 541.94 94.6401 542.495 Q96.8623 543.051 99.3391 543.051 Q103.344 543.051 105.682 540.944 Q108.02 538.838 108.02 535.227 Q108.02 531.616 105.682 529.509 Q103.344 527.403 99.3391 527.403 Q97.4641 527.403 95.5892 527.819 Q93.7373 528.236 91.7929 529.116 L91.7929 511.755 Z\" fill=\"#000000\" fill-rule=\"nonzero\" fill-opacity=\"1\" /><path clip-path=\"url(#clip640)\" d=\"M74.7559 625.815 Q78.1124 626.532 79.9874 628.801 Q81.8855 631.069 81.8855 634.403 Q81.8855 639.518 78.367 642.319 Q74.8485 645.12 68.3671 645.12 Q66.1912 645.12 63.8764 644.68 Q61.5847 644.264 59.131 643.407 L59.131 638.893 Q61.0754 640.028 63.3903 640.606 Q65.7051 641.185 68.2282 641.185 Q72.6263 641.185 74.918 639.449 Q77.2328 637.713 77.2328 634.403 Q77.2328 631.347 75.08 629.634 Q72.9504 627.898 69.131 627.898 L65.1032 627.898 L65.1032 624.056 L69.3161 624.056 Q72.7652 624.056 74.5939 622.69 Q76.4226 621.301 76.4226 618.708 Q76.4226 616.046 74.5245 614.634 Q72.6495 613.199 69.131 613.199 Q67.2097 613.199 65.0106 613.616 Q62.8115 614.032 60.1727 614.912 L60.1727 610.745 Q62.8347 610.005 65.1495 609.634 Q67.4875 609.264 69.5476 609.264 Q74.8717 609.264 77.9735 611.694 Q81.0753 614.102 81.0753 618.222 Q81.0753 621.093 79.4318 623.083 Q77.7883 625.051 74.7559 625.815 Z\" fill=\"#000000\" fill-rule=\"nonzero\" fill-opacity=\"1\" /><path clip-path=\"url(#clip640)\" d=\"M100.751 612.968 Q97.1401 612.968 95.3114 616.532 Q93.5058 620.074 93.5058 627.204 Q93.5058 634.31 95.3114 637.875 Q97.1401 641.417 100.751 641.417 Q104.385 641.417 106.191 637.875 Q108.02 634.31 108.02 627.204 Q108.02 620.074 106.191 616.532 Q104.385 612.968 100.751 612.968 M100.751 609.264 Q106.561 609.264 109.617 613.87 Q112.696 618.454 112.696 627.204 Q112.696 635.93 109.617 640.537 Q106.561 645.12 100.751 645.12 Q94.941 645.12 91.8623 640.537 Q88.8068 635.93 88.8068 627.204 Q88.8068 618.454 91.8623 613.87 Q94.941 609.264 100.751 609.264 Z\" fill=\"#000000\" fill-rule=\"nonzero\" fill-opacity=\"1\" /><g clip-path=\"url(#clip642)\">\n",
       "<image width=\"628\" height=\"628\" xlink:href=\"data:image/png;base64,\n",
       "iVBORw0KGgoAAAANSUhEUgAAAnQAAAJ0CAYAAACbab7PAAAc8klEQVR4nO3Yy85liX3W4Xftvb/v\n",
       "q0PXobvL7o6DYzuOrUQkipQJUQaBgBIkmCCY5AaYMM1FMOIuMmHGlBEghYMESAg7kvGJHOy4T2lX\n",
       "d3VVfYe91mLQXACDV9B/8TwX8GqtvQ77t/fyz//Vd/YUrc2xJFl6Uzd3va0k2aqfXJIcekvH3laS\n",
       "HA69C3E4dI8t5euwLMVzLV+H5rG199b287D1ptq3XPsebl7WY/keKV6GJMl57S2euqeah1fH2tb9\n",
       "i+7BHfbut+t6vq1tXVxc1LaS5FwOiebz+tEHf1bbSpL3P/xpbav8mgMA4P82QQcAMJygAwAYTtAB\n",
       "AAwn6AAAhhN0AADDCToAgOEEHQDAcIIOAGA4QQcAMJygAwAYTtABAAwn6AAAhhN0AADDCToAgOEE\n",
       "HQDAcIIOAGA4QQcAMJygAwAY7nS7dgdv1+7g8Xgsrp2KW8my7OW9Xl8fDkttK0mOx97evnePLe25\n",
       "4mfXvg5L+zdY8fAOe/d52IqP/l6+Sbby3mnp7S3H8j2ybd294nvurvwu+eSmdw+/LG4lyenU/C5M\n",
       "DnlQ2zqVr8PtudsRt+fiPXz/672tJE++8pXaln/oAACGE3QAAMMJOgCA4QQdAMBwgg4AYDhBBwAw\n",
       "nKADABhO0AEADCfoAACGE3QAAMMJOgCA4QQdAMBwgg4AYDhBBwAwnKADABhO0AEADCfoAACGE3QA\n",
       "AMMJOgCA4U4vr++6i4elOrcVt/b9XFxLluzVvcNybK4Vt5Lsveva/dSSpXvLda/D3ryDk31vf3o9\n",
       "7WPbixe2fs9V30zJ1nxey/fceet+emtxr/047MU75Vx8ZybJftf9/mpe1qV8zx0O3e+vtXijrN1T\n",
       "TfO72j90AADDCToAgOEEHQDAcIIOAGA4QQcAMJygAwAYTtABAAwn6AAAhhN0AADDCToAgOEEHQDA\n",
       "cIIOAGA4QQcAMJygAwAYTtABAAwn6AAAhhN0AADDCToAgOFO522vDh6X6lzuzufe2F4+1+Oxupes\n",
       "taVlq00lSc57r/0P5Z8Ry9K96fY0P7zuPVI+1Ryag3v34Lbm89p99HMqP/qHpXeAd2v3ZNfye/P/\n",
       "F9X7N/Wvr2zpPa/L0n0g6udaHex+uTYPzT90AADDCToAgOEEHQDAcIIOAGA4QQcAMJygAwAYTtAB\n",
       "AAwn6AAAhhN0AADDCToAgOEEHQDAcIIOAGA4QQcAMJygAwAYTtABAAwn6AAAhhN0AADDCToAgOEE\n",
       "HQDAcKdt26uD+75W947HU21r755q2p/dcujtHbLUtpKkeabHpXtsS/XokkN699xSvumW8mfXVX7A\n",
       "ivfwXj62m7utute9rO17pPvZNV+bX9w7Ltn38ju4fLLNe24vH9xW3mseX/tcm3exf+gAAIYTdAAA\n",
       "wwk6AIDhBB0AwHCCDgBgOEEHADCcoAMAGE7QAQAMJ+gAAIYTdAAAwwk6AIDhBB0AwHCCDgBgOEEH\n",
       "ADCcoAMAGE7QAQAMJ+gAAIYTdAAAwwk6AIDhTtu2VwcPh6W6t21bca17bPve/eyap7ofu8eWpXdw\n",
       "h+VY2/p8rzqXw1L87MqXIWk+D8le/E3XfpfsxQ+v/ay2fws3P7t9794jh/LP/ubhlW+5LEvzZdK9\n",
       "DtWvwqT/4ixqv0uaL+L+u6THP3QAAMMJOgCA4QQdAMBwgg4AYDhBBwAwnKADABhO0AEADCfoAACG\n",
       "E3QAAMMJOgCA4QQdAMBwgg4AYDhBBwAwnKADABhO0AEADCfoAACGE3QAAMMJOgCA4U77vlcH9606\n",
       "l+bcUs7XvX2yy1Kbul3X2laSHLbeh3conufng90LuxSv6/HQPde9/BvsvJ5rW9tevq7Fufajejp0\n",
       "B7fiuRYvaZJka7/Ti1857e+v5qtpT/fYtuYHV1d+9sv3XPNa1L/3i/xDBwAwnKADABhO0AEADCfo\n",
       "AACGE3QAAMMJOgCA4QQdAMBwgg4AYDhBBwAwnKADABhO0AEADCfoAACGE3QAAMMJOgCA4QQdAMBw\n",
       "gg4AYDhBBwAwnKADABhO0AEADHfat7U6uC9Lde907DXn4dA9tm3bu3t771yP3UPLsmy1rXXtXoe9\n",
       "fK6Hw6m3tXR/M63lc92LH15zq27v3nNr97WZ3tOVrOX3UvmjS3Oufc9Vr2v5u3BrP1/tl0nRofxf\n",
       "0773nrCtuJUkKV4G/9ABAAwn6AAAhhN0AADDCToAgOEEHQDAcIIOAGA4QQcAMJygAwAYTtABAAwn\n",
       "6AAAhhN0AADDCToAgOEEHQDAcIIOAGA4QQcAMJygAwAYTtABAAwn6AAAhjvt+14dXLtzuchW21pq\n",
       "S59bz+fq3vOf/VVt68mzZ7WtJHnw+HFt68XHH9S2kuT88kV173Qs3inr2ttKksOpOvfgrd59cu/x\n",
       "m7WtJNl6j362vfv0l1+b1eMrH1r9ZJtre/tsq3Nf7HtuKR5e+9jWvfvebHdO01Y8Nv/QAQAMJ+gA\n",
       "AIYTdAAAwwk6AIDhBB0AwHCCDgBgOEEHADCcoAMAGE7QAQAMJ+gAAIYTdAAAwwk6AIDhBB0AwHCC\n",
       "DgBgOEEHADCcoAMAGE7QAQAMJ+gAAIYTdAAAw522basOLtW15O7ca851rU0lSe5u76p7P/vBd2tb\n",
       "z/9n92Qfv/m0tvX+X/55bStJlvVc3Tsej7Wtdes+EceLq+regzef1bbe/vq3altJ8vQXvl7burj3\n",
       "oLaVJPvevef2c3HvdNnbSlL+ikiytwe/oLrnubc/tr33btrLB7e375Ev8C23Fx8w/9ABAAwn6AAA\n",
       "hhN0AADDCToAgOEEHQDAcIIOAGA4QQcAMJygAwAYTtABAAwn6AAAhhN0AADDCToAgOEEHQDAcIIO\n",
       "AGA4QQcAMJygAwAYTtABAAwn6AAAhhN0AADDnbZtrw4ue3dvP51qW59+/Ne1rST54X/9k+reBz/+\n",
       "Tm3r4nxd20qSq4te+19fv65tJcnx4l5173Ds3XPHq+6xXd57WN375NOf17Z+/vzj2laSPPmg97w+\n",
       "eONpbStJbl923yUvP/2ktvX0y1+tbSXJV779G9W9HItbW3EryZaltrUs5e/C7lx1r3xo9b3qP1f1\n",
       "k+0N+ocOAGA4QQcAMJygAwAYTtABAAwn6AAAhhN0AADDCToAgOEEHQDAcIIOAGA4QQcAMJygAwAY\n",
       "TtABAAwn6AAAhhN0AADDCToAgOEEHQDAcIIOAGA4QQcAMNxp37bu4r5397be3u3r69pWkvzVj79f\n",
       "3bv++OPa1rLd1baS5Jje3mHp/o7YjjfVvdPpWNu6uL5f20qStfy4XhYvxcsPP+qNJfnsZe/gbl8/\n",
       "r20lyfWnH1b3Xl2/rm39ytM3a1tJ8lvP3qruvfelv1Hb2va1tpUkORS/v5alt5VkK34XJkn25vF1\n",
       "z7WtmiXlxtn33kvdP3QAAMMJOgCA4QQdAMBwgg4AYDhBBwAwnKADABhO0AEADCfoAACGE3QAAMMJ\n",
       "OgCA4QQdAMBwgg4AYDhBBwAwnKADABhO0AEADCfoAACGE3QAAMMJOgCA4QQdAMBwp2x7d3Hpzq3r\n",
       "ubb16O1nta0k+Y3f/YPq3od/9qPa1uv3f1jbSpIPfvL92tarV3e1rSTJ8VSdu7w41rZul9vaVpLc\n",
       "bN29Rxf3alvr0v19+PK9v6htffb8g9pWkty/qs7l8Ztfqm199vyj2laSfPqd/1DdW/72Pyqu9Z7V\n",
       "JDkW7+HzttW2kmTful+ue/Grf1m6HbE3Dy7J0u6cLyj/0AEADCfoAACGE3QAAMMJOgCA4QQdAMBw\n",
       "gg4AYDhBBwAwnKADABhO0AEADCfoAACGE3QAAMMJOgCA4QQdAMBwgg4AYDhBBwAwnKADABhO0AEA\n",
       "DCfoAACGE3QAAMOdlmXtLu7dRlyy1bYOp2NtK0ne/cavVffe+eqv1LZOy9+pbSXJf/nXf1zb+t5/\n",
       "+pPaVpJcLPere7fXN7Wtw+VVbStJsj+uzl3f9Z6Ju7sXta0kef7+j2tbv/iNb9W2kuS3/v4/ru49\n",
       "efZObeu4vaptJUm2D6tzx/Xnta2b05drW0lyvut9Hx6WvbaVJMthqe5t5+7xNXXPNNn24rk2t5Lq\n",
       "yfqHDgBgOEEHADCcoAMAGE7QAQAMJ+gAAIYTdAAAwwk6AIDhBB0AwHCCDgBgOEEHADCcoAMAGE7Q\n",
       "AQAMJ+gAAIYTdAAAwwk6AIDhBB0AwHCCDgBgOEEHADDcaVmW6uDFxV7dO+xbbeu8do/tdDxW9y7v\n",
       "369tHQ8Pa1tJ8mu/+eu1rVefflLbSpIPf/SD6t6X3/3F2tabX/lmbStJPvjktrr3+vXr2ta2Xte2\n",
       "kuQ3f/cPalu/9ju/X9tKkquHT6p7h+Jr+P69R72xJK9u3qrundfe1rKee2NJil83yaH7fbOkeXDJ\n",
       "tvWO71D+a6h4aEmS4xf4r6vzuXgdaksAAPw/IegAAIYTdAAAwwk6AIDhBB0AwHCCDgBgOEEHADCc\n",
       "oAMAGE7QAQAMJ+gAAIYTdAAAwwk6AIDhBB0AwHCCDgBgOEEHADCcoAMAGE7QAQAMJ+gAAIYTdAAA\n",
       "w50ujlt18G7tNuK+9/bWvXuuDy+7ey8+e1nbevnhn9W2kuT86q629bf+yR/VtpLkB//2j6t7P/3+\n",
       "d2tbH33vT2tbSXLelurexeVVbes3f+8f1raS5Fd/+/dqW/uh+15azzfdveK76e72VNv6XPl3f/Na\n",
       "7L2pz629qfKxLTl2B9O757at+12YdN9za/Na7N0L2/zo/EMHADCcoAMAGE7QAQAMJ+gAAIYTdAAA\n",
       "wwk6AIDhBB0AwHCCDgBgOEEHADCcoAMAGE7QAQAMJ+gAAIYTdAAAwwk6AIDhBB0AwHCCDgBgOEEH\n",
       "ADCcoAMAGO70O299Uh38eH1S3btZ19rWi7tuv766vq3uXVw8qG2dL69qW5/vPaxtXV5c1LaS5Fu/\n",
       "+4fVveMb/6a29Rff+Xe1rSR5+2u/Xt375m//fm3r6btfq20lye2217b2811tK0mOx2N1b1l676Y9\n",
       "vc8tSQ6H7nvudFhqW8uh+07fel83SU7NsWQ5V+dOe+867Hv7OnTv4aV3qlnLx9Z8XP1DBwAwnKAD\n",
       "ABhO0AEADCfoAACGE3QAAMMJOgCA4QQdAMBwgg4AYDhBBwAwnKADABhO0AEADCfoAACGE3QAAMMJ\n",
       "OgCA4QQdAMBwgg4AYDhBBwAwnKADABhO0AEADHe6efHz6uCzq8+qe7/w+Ngbe/Cot5XkxflBde+c\n",
       "rbb112++UdtKku9+/2e1rf31D2pbSfL48ml175f+3u/Xtj789rPaVpLce9rdOz/8Sm9sP/e2kqzb\n",
       "3tvai++RJLfntbqXpffsL+Xf6Vf3u5/d/Ye963o61aaSJIel99k9f959HrbeLfK/B3v38HpealtJ\n",
       "sqe7txSfr5SPLXvvefAPHQDAcIIOAGA4QQcAMJygAwAYTtABAAwn6AAAhhN0AADDCToAgOEEHQDA\n",
       "cIIOAGA4QQcAMJygAwAYTtABAAwn6AAAhhN0AADDCToAgOEEHQDAcIIOAGA4QQcAMNzyT//ZH+3N\n",
       "wRff/Y/NuXz5wWVt6+rZu7WtJHn0pe7e6fGz3tj9U28ryc3NWts6nC5qW0mSZanOfeubX61tPXr0\n",
       "uLaVJD/+0X+v7r3IVW3r8bvfrm0lyXa71bbO59pUkmQ7PKjurYfe8/rZXfWVnvPafZfsxcf15q63\n",
       "lSQ59P7jOKf7Xrp3r7u3HHp7169rU0mSPb1nP0lOx965rmv3+dqLe/6hAwAYTtABAAwn6AAAhhN0\n",
       "AADDCToAgOEEHQDAcIIOAGA4QQcAMJygAwAYTtABAAwn6AAAhhN0AADDCToAgOEEHQDAcIIOAGA4\n",
       "QQcAMJygAwAYTtABAAx32n70n6uDn/7sx9W9bK9qU/f+fKltJcnHh2N1bz9c1ba2x+/UtpJk/ezT\n",
       "2tbx8rK2lSSHJ1+q7v303z+sbV0+frO2lSR35Xvu5fm6tnX5TvfZv3fsXYcvv/24tpUkf/Mb71b3\n",
       "vvrOW7Wt6/Ne20qS13fd92au3qhN7ad7ta0keXHbe76e33X/L7k+31X3btO7Tz47dO+Rm9uturel\n",
       "d3yvbmtTSZLlsNa2/EMHADCcoAMAGE7QAQAMJ+gAAIYTdAAAwwk6AIDhBB0AwHCCDgBgOEEHADCc\n",
       "oAMAGE7QAQAMJ+gAAIYTdAAAwwk6AIDhBB0AwHCCDgBgOEEHADCcoAMAGE7QAQAMdzq9fK86+Oiy\n",
       "Opf11am2dV5rU0mSbVuqe8vhtrZ1fP6z2laSHNa72tZpLf+OeP1hde5cvK6v1722lSTrXXfv8Php\n",
       "bev46hu1rST55Kc/rW3dPH5c20qSjx4/q+596Svv1rYeP32ztpUkT5727pEkefLkUW3r6dvlY3vY\n",
       "u0++9uiN2laSHE4X1b3jRe/L+nrpfU8nySevu1/W13vvnf6zT7rf+5/dHmtb/qEDABhO0AEADCfo\n",
       "AACGE3QAAMMJOgCA4QQdAMBwgg4AYDhBBwAwnKADABhO0AEADCfoAACGE3QAAMMJOgCA4QQdAMBw\n",
       "gg4AYDhBBwAwnKADABhO0AEADCfoAACGOz29d64Ovjru1b3na29rL+frKd1zzaF3gJdL8YNLsu7H\n",
       "2tZ56V6IQ/lc932pbR2K1zRJjpfdc132m9rW6fUnta0kOR4f1rZePu/dv0ny6fs/re69970f1Lb2\n",
       "3Na2kuSw9J6HJLm4uqptXT16UNtKktODp7Wti0dv1baS5MmzZ929d96tbf3yb/xWbStJnn35S9W9\n",
       "0/llbevrF9138N3FvdqWf+gAAIYTdAAAwwk6AIDhBB0AwHCCDgBgOEEHADCcoAMAGE7QAQAMJ+gA\n",
       "AIYTdAAAwwk6AIDhBB0AwHCCDgBgOEEHADCcoAMAGE7QAQAMJ+gAAIYTdAAAw51ubm+rg5cXp+re\n",
       "4XCubS3Za1tJsnbnctx7g1v5XLd9qW2diltJsqS7d24eX/GaJslS/g223my1re2jD2tbSfLe5T+o\n",
       "bb189+/WtpLkav2gundx+9e1re32eW0rSS62n1f3TuuL2tbLTz6qbSXJ/Q+/V9va97vaVpK8v1bn\n",
       "cnO4V9t69f57ta0k+cVf/tXq3l/+5Ce1rRc/+VFtK0neeOut2pZ/6AAAhhN0AADDCToAgOEEHQDA\n",
       "cIIOAGA4QQcAMJygAwAYTtABAAwn6AAAhhN0AADDCToAgOEEHQDAcIIOAGA4QQcAMJygAwAYTtAB\n",
       "AAwn6AAAhhN0AADDCToAgOFOx8OxOriUE/Fu3Wpbh32vbSXJ8dg92eXQO75tX2pbSZKlt7ecalOf\n",
       "28rnWvzsDsta20qSpXgdkqR5dOeXL4pryfXWe/Zfnr5W20qS09vfrO6d99675Pau97klSdbX1bll\n",
       "va1t3X34P2pbSfJLH/2L2tb948e1rSS527rf1Xc3N7WtFz/+b7WtJPng53/Z3Xvvo9rWxz/5YW0r\n",
       "Sa6KGeEfOgCA4QQdAMBwgg4AYDhBBwAwnKADABhO0AEADCfoAACGE3QAAMMJOgCA4QQdAMBwgg4A\n",
       "YDhBBwAwnKADABhO0AEADCfoAACGE3QAAMMJOgCA4QQdAMBwp4dX3aa7Oe/VveWw1Lb2bLWtzwe7\n",
       "57ptvXNN99CyFA/tfFe+DssX93fJ8dA9ti3FC5HkWLxRDsfuuT69+9Pa1u1f/MvaVpJsj55U9/aL\n",
       "N2tb5723lSQ5vlGd2+69Vdt6tXevw7ofa1t3a/dZfX3X3btee+/hD/7qJ7WtJHn94oPu3qvyd05R\n",
       "8zb54n4TAgDwf0TQAQAMJ+gAAIYTdAAAwwk6AIDhBB0AwHCCDgBgOEEHADCcoAMAGE7QAQAMJ+gA\n",
       "AIYTdAAAwwk6AIDhBB0AwHCCDgBgOEEHADCcoAMAGE7QAQAMJ+gAAIY7HY57dfDevW4jHo+9vcO+\n",
       "1baS5HhYqntNe7rXtXlVt717bNvevQ6nL+5lzXkrX9dtrW3dpvvB3d9/WNv6pds/r20lyX59r7p3\n",
       "Xh7Xtq7zpLaVJNvpYXXv9vRWbevh3bm2lSSXh1e1rX0r/19Sfi8d0vs+XNK9Dsu5/B1x7r3nbtZu\n",
       "R9wW7xP/0AEADCfoAACGE3QAAMMJOgCA4QQdAMBwgg4AYDhBBwAwnKADABhO0AEADCfoAACGE3QA\n",
       "AMMJOgCA4QQdAMBwgg4AYDhBBwAwnKADABhO0AEADCfoAACGE3QAAMOdtr07uCzH6t65eIDruTaV\n",
       "JNmP3Q9vT2+vfV3vnXrtf9i32laS7OXfJfuheM8Vr2mSrFv5XJfe1l33sua89QavluvaVpIc91fV\n",
       "vcP6UW3rtBYvapLttnvPrcXn9Xjsft8sh96XxF7+LtxTfsCK76a781rbSpLX191z3arPRPf5Wvbe\n",
       "dfAPHQDAcIIOAGA4QQcAMJygAwAYTtABAAwn6AAAhhN0AADDCToAgOEEHQDAcIIOAGA4QQcAMJyg\n",
       "AwAYTtABAAwn6AAAhhN0AADDCToAgOEEHQDAcIIOAGC40/XtXh1cD91GvFuLWzdbbyzJerFU945L\n",
       "81p0j+02vc/u2D20HA7de/h27d10+949tn25qO4txXtu37rnWn2THJtjSfmyZi2+mval+4Bt5XdJ\n",
       "8z5ZclPbSpJt651r+as1a/n5at7Dh/I7/eLUHTwX3ybr69pUkuRU/EL0Dx0AwHCCDgBgOEEHADCc\n",
       "oAMAGE7QAQAMJ+gAAIYTdAAAwwk6AIDhBB0AwHCCDgBgOEEHADCcoAMAGE7QAQAMJ+gAAIYTdAAA\n",
       "wwk6AIDhBB0AwHCCDgBgOEEHADDcKXt38LCs1b39cKxtnffb2laSrHv5wys6llN9K26dm2NJDlt3\n",
       "cClureVbZEn3+UrxBXBqPw9L70psS/eBuCg/X4e9d6770r0OS/XpT5r3XPVhTdI8trX88O9b+fkq\n",
       "zvW+pT93edFd3C4ua1vnT+5qW0lyKl4H/9ABAAwn6AAAhhN0AADDCToAgOEEHQDAcIIOAGA4QQcA\n",
       "MJygAwAYTtABAAwn6AAAhhN0AADDCToAgOEEHQDAcIIOAGA4QQcAMJygAwAYTtABAAwn6AAAhhN0\n",
       "AADDnbZtrQ4e96W6d7p3Vdvab+5qW0lyzlbd29P77PbydVjXvba1bd3P7ZDuPXwofnTn7qlmX7qD\n",
       "F9WfdL17JEkOxb3i7Zsk2bqvkup9shy6v9P39me3V0+2t5XuHVx+zWXtvuZyt/XOtvndlSRrdy6H\n",
       "5ku9ef8mORaPzT90AADDCToAgOEEHQDAcIIOAGA4QQcAMJygAwAYTtABAAwn6AAAhhN0AADDCToA\n",
       "gOEEHQDAcIIOAGA4QQcAMJygAwAYTtABAAwn6AAAhhN0AADDCToAgOFO19fn6uDVslT3Hjy8V9s6\n",
       "H65qW0ly71idy1L87Lbr17WtJLl78Wlt63Do3iOHh29U97bb29rW3aub2laSLMfyZ7f1tvbsvbEk\n",
       "F8Vzbd9z57V7rue9uFc+tnXr7m3Fcy1/3aR5qluKD1f6z9dSfCZO5ffSxan75boX/7taz91mOhc/\n",
       "Ov/QAQAMJ+gAAIYTdAAAwwk6AIDhBB0AwHCCDgBgOEEHADCcoAMAGE7QAQAMJ+gAAIYTdAAAwwk6\n",
       "AIDhBB0AwHCCDgBgOEEHADCcoAMAGE7QAQAMJ+gAAIYTdAAAw51e35UHL7uNeH1zW9t6uV3VtpLk\n",
       "8sG96t7x6rK2dSpuJcn55rq2te+1qSTJvbffqe6dr1/Xtq73j2tbSXJ5caruXSy9rfO69saS3G69\n",
       "vfNd7z2SJNu2Vfeqz8RSvKhJzlt3b9t7e4e1+zLZiheifGjpPl3JshxrW3v5pX4+V+dyLt7Ca7rv\n",
       "4OZ94h86AIDhBB0AwHCCDgBgOEEHADCcoAMAGE7QAQAMJ+gAAIYTdAAAwwk6AIDhBB0AwHCCDgBg\n",
       "OEEHADCcoAMAGE7QAQAMJ+gAAIYTdAAAwwk6AIDhBB0AwHD/C929jgjYQ11XAAAAAElFTkSuQmCC\n",
       "\" transform=\"translate(125, 48)\"/>\n",
       "</g>\n",
       "</svg>\n"
      ],
      "text/html": [
       "<?xml version=\"1.0\" encoding=\"utf-8\"?>\n",
       "<svg xmlns=\"http://www.w3.org/2000/svg\" xmlns:xlink=\"http://www.w3.org/1999/xlink\" width=\"200\" height=\"200\" viewBox=\"0 0 800 800\">\n",
       "<defs>\n",
       "  <clipPath id=\"clip690\">\n",
       "    <rect x=\"0\" y=\"0\" width=\"800\" height=\"800\"/>\n",
       "  </clipPath>\n",
       "</defs>\n",
       "<path clip-path=\"url(#clip690)\" d=\"M0 800 L800 800 L800 0 L0 0  Z\" fill=\"#ffffff\" fill-rule=\"evenodd\" fill-opacity=\"1\"/>\n",
       "<defs>\n",
       "  <clipPath id=\"clip691\">\n",
       "    <rect x=\"160\" y=\"79\" width=\"561\" height=\"561\"/>\n",
       "  </clipPath>\n",
       "</defs>\n",
       "<path clip-path=\"url(#clip690)\" d=\"M124.696 677.168 L752.756 677.168 L752.756 47.2441 L124.696 47.2441  Z\" fill=\"#ffffff\" fill-rule=\"evenodd\" fill-opacity=\"1\"/>\n",
       "<defs>\n",
       "  <clipPath id=\"clip692\">\n",
       "    <rect x=\"124\" y=\"47\" width=\"629\" height=\"631\"/>\n",
       "  </clipPath>\n",
       "</defs>\n",
       "<polyline clip-path=\"url(#clip692)\" style=\"stroke:#000000; stroke-linecap:round; stroke-linejoin:round; stroke-width:2; stroke-opacity:0.1; fill:none\" points=\"213.017,47.2441 213.017,677.168 \"/>\n",
       "<polyline clip-path=\"url(#clip692)\" style=\"stroke:#000000; stroke-linecap:round; stroke-linejoin:round; stroke-width:2; stroke-opacity:0.1; fill:none\" points=\"311.151,47.2441 311.151,677.168 \"/>\n",
       "<polyline clip-path=\"url(#clip692)\" style=\"stroke:#000000; stroke-linecap:round; stroke-linejoin:round; stroke-width:2; stroke-opacity:0.1; fill:none\" points=\"409.285,47.2441 409.285,677.168 \"/>\n",
       "<polyline clip-path=\"url(#clip692)\" style=\"stroke:#000000; stroke-linecap:round; stroke-linejoin:round; stroke-width:2; stroke-opacity:0.1; fill:none\" points=\"507.42,47.2441 507.42,677.168 \"/>\n",
       "<polyline clip-path=\"url(#clip692)\" style=\"stroke:#000000; stroke-linecap:round; stroke-linejoin:round; stroke-width:2; stroke-opacity:0.1; fill:none\" points=\"605.554,47.2441 605.554,677.168 \"/>\n",
       "<polyline clip-path=\"url(#clip692)\" style=\"stroke:#000000; stroke-linecap:round; stroke-linejoin:round; stroke-width:2; stroke-opacity:0.1; fill:none\" points=\"703.689,47.2441 703.689,677.168 \"/>\n",
       "<polyline clip-path=\"url(#clip690)\" style=\"stroke:#000000; stroke-linecap:round; stroke-linejoin:round; stroke-width:4; stroke-opacity:1; fill:none\" points=\"124.696,677.168 752.756,677.168 \"/>\n",
       "<polyline clip-path=\"url(#clip690)\" style=\"stroke:#000000; stroke-linecap:round; stroke-linejoin:round; stroke-width:4; stroke-opacity:1; fill:none\" points=\"213.017,677.168 213.017,658.27 \"/>\n",
       "<polyline clip-path=\"url(#clip690)\" style=\"stroke:#000000; stroke-linecap:round; stroke-linejoin:round; stroke-width:4; stroke-opacity:1; fill:none\" points=\"311.151,677.168 311.151,658.27 \"/>\n",
       "<polyline clip-path=\"url(#clip690)\" style=\"stroke:#000000; stroke-linecap:round; stroke-linejoin:round; stroke-width:4; stroke-opacity:1; fill:none\" points=\"409.285,677.168 409.285,658.27 \"/>\n",
       "<polyline clip-path=\"url(#clip690)\" style=\"stroke:#000000; stroke-linecap:round; stroke-linejoin:round; stroke-width:4; stroke-opacity:1; fill:none\" points=\"507.42,677.168 507.42,658.27 \"/>\n",
       "<polyline clip-path=\"url(#clip690)\" style=\"stroke:#000000; stroke-linecap:round; stroke-linejoin:round; stroke-width:4; stroke-opacity:1; fill:none\" points=\"605.554,677.168 605.554,658.27 \"/>\n",
       "<polyline clip-path=\"url(#clip690)\" style=\"stroke:#000000; stroke-linecap:round; stroke-linejoin:round; stroke-width:4; stroke-opacity:1; fill:none\" points=\"703.689,677.168 703.689,658.27 \"/>\n",
       "<path clip-path=\"url(#clip690)\" d=\"M203.294 692.208 L221.651 692.208 L221.651 696.143 L207.577 696.143 L207.577 704.615 Q208.595 704.268 209.614 704.106 Q210.632 703.921 211.651 703.921 Q217.438 703.921 220.817 707.092 Q224.197 710.263 224.197 715.68 Q224.197 721.259 220.725 724.36 Q217.253 727.439 210.933 727.439 Q208.757 727.439 206.489 727.069 Q204.243 726.698 201.836 725.958 L201.836 721.259 Q203.919 722.393 206.142 722.948 Q208.364 723.504 210.841 723.504 Q214.845 723.504 217.183 721.398 Q219.521 719.291 219.521 715.68 Q219.521 712.069 217.183 709.962 Q214.845 707.856 210.841 707.856 Q208.966 707.856 207.091 708.273 Q205.239 708.689 203.294 709.569 L203.294 692.208 Z\" fill=\"#000000\" fill-rule=\"nonzero\" fill-opacity=\"1\" /><path clip-path=\"url(#clip690)\" d=\"M285.839 722.833 L293.477 722.833 L293.477 696.467 L285.167 698.134 L285.167 693.875 L293.431 692.208 L298.107 692.208 L298.107 722.833 L305.746 722.833 L305.746 726.768 L285.839 726.768 L285.839 722.833 Z\" fill=\"#000000\" fill-rule=\"nonzero\" fill-opacity=\"1\" /><path clip-path=\"url(#clip690)\" d=\"M325.19 695.287 Q321.579 695.287 319.75 698.851 Q317.945 702.393 317.945 709.523 Q317.945 716.629 319.75 720.194 Q321.579 723.735 325.19 723.735 Q328.824 723.735 330.63 720.194 Q332.459 716.629 332.459 709.523 Q332.459 702.393 330.63 698.851 Q328.824 695.287 325.19 695.287 M325.19 691.583 Q331 691.583 334.056 696.189 Q337.135 700.773 337.135 709.523 Q337.135 718.249 334.056 722.856 Q331 727.439 325.19 727.439 Q319.38 727.439 316.301 722.856 Q313.246 718.249 313.246 709.523 Q313.246 700.773 316.301 696.189 Q319.38 691.583 325.19 691.583 Z\" fill=\"#000000\" fill-rule=\"nonzero\" fill-opacity=\"1\" /><path clip-path=\"url(#clip690)\" d=\"M384.471 722.833 L392.11 722.833 L392.11 696.467 L383.799 698.134 L383.799 693.875 L392.063 692.208 L396.739 692.208 L396.739 722.833 L404.378 722.833 L404.378 726.768 L384.471 726.768 L384.471 722.833 Z\" fill=\"#000000\" fill-rule=\"nonzero\" fill-opacity=\"1\" /><path clip-path=\"url(#clip690)\" d=\"M413.869 692.208 L432.225 692.208 L432.225 696.143 L418.151 696.143 L418.151 704.615 Q419.17 704.268 420.188 704.106 Q421.207 703.921 422.225 703.921 Q428.012 703.921 431.392 707.092 Q434.771 710.263 434.771 715.68 Q434.771 721.259 431.299 724.36 Q427.827 727.439 421.508 727.439 Q419.332 727.439 417.063 727.069 Q414.818 726.698 412.41 725.958 L412.41 721.259 Q414.494 722.393 416.716 722.948 Q418.938 723.504 421.415 723.504 Q425.42 723.504 427.758 721.398 Q430.095 719.291 430.095 715.68 Q430.095 712.069 427.758 709.962 Q425.42 707.856 421.415 707.856 Q419.54 707.856 417.665 708.273 Q415.813 708.689 413.869 709.569 L413.869 692.208 Z\" fill=\"#000000\" fill-rule=\"nonzero\" fill-opacity=\"1\" /><path clip-path=\"url(#clip690)\" d=\"M486.193 722.833 L502.512 722.833 L502.512 726.768 L480.568 726.768 L480.568 722.833 Q483.23 720.078 487.813 715.448 Q492.42 710.796 493.6 709.453 Q495.846 706.93 496.725 705.194 Q497.628 703.435 497.628 701.745 Q497.628 698.99 495.684 697.254 Q493.762 695.518 490.661 695.518 Q488.462 695.518 486.008 696.282 Q483.577 697.046 480.8 698.597 L480.8 693.875 Q483.624 692.74 486.077 692.162 Q488.531 691.583 490.568 691.583 Q495.938 691.583 499.133 694.268 Q502.327 696.953 502.327 701.444 Q502.327 703.574 501.517 705.495 Q500.73 707.393 498.624 709.986 Q498.045 710.657 494.943 713.874 Q491.841 717.069 486.193 722.833 Z\" fill=\"#000000\" fill-rule=\"nonzero\" fill-opacity=\"1\" /><path clip-path=\"url(#clip690)\" d=\"M522.327 695.287 Q518.716 695.287 516.887 698.851 Q515.082 702.393 515.082 709.523 Q515.082 716.629 516.887 720.194 Q518.716 723.735 522.327 723.735 Q525.961 723.735 527.767 720.194 Q529.596 716.629 529.596 709.523 Q529.596 702.393 527.767 698.851 Q525.961 695.287 522.327 695.287 M522.327 691.583 Q528.137 691.583 531.193 696.189 Q534.272 700.773 534.272 709.523 Q534.272 718.249 531.193 722.856 Q528.137 727.439 522.327 727.439 Q516.517 727.439 513.438 722.856 Q510.383 718.249 510.383 709.523 Q510.383 700.773 513.438 696.189 Q516.517 691.583 522.327 691.583 Z\" fill=\"#000000\" fill-rule=\"nonzero\" fill-opacity=\"1\" /><path clip-path=\"url(#clip690)\" d=\"M584.825 722.833 L601.145 722.833 L601.145 726.768 L579.2 726.768 L579.2 722.833 Q581.862 720.078 586.446 715.448 Q591.052 710.796 592.233 709.453 Q594.478 706.93 595.358 705.194 Q596.26 703.435 596.26 701.745 Q596.26 698.99 594.316 697.254 Q592.395 695.518 589.293 695.518 Q587.094 695.518 584.64 696.282 Q582.209 697.046 579.432 698.597 L579.432 693.875 Q582.256 692.74 584.709 692.162 Q587.163 691.583 589.2 691.583 Q594.571 691.583 597.765 694.268 Q600.959 696.953 600.959 701.444 Q600.959 703.574 600.149 705.495 Q599.362 707.393 597.256 709.986 Q596.677 710.657 593.575 713.874 Q590.473 717.069 584.825 722.833 Z\" fill=\"#000000\" fill-rule=\"nonzero\" fill-opacity=\"1\" /><path clip-path=\"url(#clip690)\" d=\"M611.006 692.208 L629.362 692.208 L629.362 696.143 L615.288 696.143 L615.288 704.615 Q616.307 704.268 617.325 704.106 Q618.344 703.921 619.362 703.921 Q625.149 703.921 628.529 707.092 Q631.908 710.263 631.908 715.68 Q631.908 721.259 628.436 724.36 Q624.964 727.439 618.644 727.439 Q616.469 727.439 614.2 727.069 Q611.955 726.698 609.547 725.958 L609.547 721.259 Q611.631 722.393 613.853 722.948 Q616.075 723.504 618.552 723.504 Q622.556 723.504 624.894 721.398 Q627.232 719.291 627.232 715.68 Q627.232 712.069 624.894 709.962 Q622.556 707.856 618.552 707.856 Q616.677 707.856 614.802 708.273 Q612.95 708.689 611.006 709.569 L611.006 692.208 Z\" fill=\"#000000\" fill-rule=\"nonzero\" fill-opacity=\"1\" /><path clip-path=\"url(#clip690)\" d=\"M692.531 708.134 Q695.888 708.851 697.763 711.12 Q699.661 713.388 699.661 716.722 Q699.661 721.837 696.142 724.638 Q692.624 727.439 686.142 727.439 Q683.967 727.439 681.652 726.999 Q679.36 726.583 676.906 725.726 L676.906 721.212 Q678.851 722.347 681.166 722.925 Q683.48 723.504 686.004 723.504 Q690.402 723.504 692.693 721.768 Q695.008 720.032 695.008 716.722 Q695.008 713.666 692.855 711.953 Q690.726 710.217 686.906 710.217 L682.879 710.217 L682.879 706.374 L687.092 706.374 Q690.541 706.374 692.369 705.009 Q694.198 703.62 694.198 701.027 Q694.198 698.365 692.3 696.953 Q690.425 695.518 686.906 695.518 Q684.985 695.518 682.786 695.935 Q680.587 696.351 677.948 697.231 L677.948 693.064 Q680.61 692.324 682.925 691.953 Q685.263 691.583 687.323 691.583 Q692.647 691.583 695.749 694.013 Q698.851 696.421 698.851 700.541 Q698.851 703.412 697.207 705.402 Q695.564 707.37 692.531 708.134 Z\" fill=\"#000000\" fill-rule=\"nonzero\" fill-opacity=\"1\" /><path clip-path=\"url(#clip690)\" d=\"M718.527 695.287 Q714.915 695.287 713.087 698.851 Q711.281 702.393 711.281 709.523 Q711.281 716.629 713.087 720.194 Q714.915 723.735 718.527 723.735 Q722.161 723.735 723.966 720.194 Q725.795 716.629 725.795 709.523 Q725.795 702.393 723.966 698.851 Q722.161 695.287 718.527 695.287 M718.527 691.583 Q724.337 691.583 727.392 696.189 Q730.471 700.773 730.471 709.523 Q730.471 718.249 727.392 722.856 Q724.337 727.439 718.527 727.439 Q712.716 727.439 709.638 722.856 Q706.582 718.249 706.582 709.523 Q706.582 700.773 709.638 696.189 Q712.716 691.583 718.527 691.583 Z\" fill=\"#000000\" fill-rule=\"nonzero\" fill-opacity=\"1\" /><polyline clip-path=\"url(#clip692)\" style=\"stroke:#000000; stroke-linecap:round; stroke-linejoin:round; stroke-width:2; stroke-opacity:0.1; fill:none\" points=\"124.696,136.497 752.756,136.497 \"/>\n",
       "<polyline clip-path=\"url(#clip692)\" style=\"stroke:#000000; stroke-linecap:round; stroke-linejoin:round; stroke-width:2; stroke-opacity:0.1; fill:none\" points=\"124.696,234.631 752.756,234.631 \"/>\n",
       "<polyline clip-path=\"url(#clip692)\" style=\"stroke:#000000; stroke-linecap:round; stroke-linejoin:round; stroke-width:2; stroke-opacity:0.1; fill:none\" points=\"124.696,332.766 752.756,332.766 \"/>\n",
       "<polyline clip-path=\"url(#clip692)\" style=\"stroke:#000000; stroke-linecap:round; stroke-linejoin:round; stroke-width:2; stroke-opacity:0.1; fill:none\" points=\"124.696,430.9 752.756,430.9 \"/>\n",
       "<polyline clip-path=\"url(#clip692)\" style=\"stroke:#000000; stroke-linecap:round; stroke-linejoin:round; stroke-width:2; stroke-opacity:0.1; fill:none\" points=\"124.696,529.035 752.756,529.035 \"/>\n",
       "<polyline clip-path=\"url(#clip692)\" style=\"stroke:#000000; stroke-linecap:round; stroke-linejoin:round; stroke-width:2; stroke-opacity:0.1; fill:none\" points=\"124.696,627.169 752.756,627.169 \"/>\n",
       "<polyline clip-path=\"url(#clip690)\" style=\"stroke:#000000; stroke-linecap:round; stroke-linejoin:round; stroke-width:4; stroke-opacity:1; fill:none\" points=\"124.696,47.2441 124.696,677.168 \"/>\n",
       "<polyline clip-path=\"url(#clip690)\" style=\"stroke:#000000; stroke-linecap:round; stroke-linejoin:round; stroke-width:4; stroke-opacity:1; fill:none\" points=\"124.696,136.497 143.593,136.497 \"/>\n",
       "<polyline clip-path=\"url(#clip690)\" style=\"stroke:#000000; stroke-linecap:round; stroke-linejoin:round; stroke-width:4; stroke-opacity:1; fill:none\" points=\"124.696,234.631 143.593,234.631 \"/>\n",
       "<polyline clip-path=\"url(#clip690)\" style=\"stroke:#000000; stroke-linecap:round; stroke-linejoin:round; stroke-width:4; stroke-opacity:1; fill:none\" points=\"124.696,332.766 143.593,332.766 \"/>\n",
       "<polyline clip-path=\"url(#clip690)\" style=\"stroke:#000000; stroke-linecap:round; stroke-linejoin:round; stroke-width:4; stroke-opacity:1; fill:none\" points=\"124.696,430.9 143.593,430.9 \"/>\n",
       "<polyline clip-path=\"url(#clip690)\" style=\"stroke:#000000; stroke-linecap:round; stroke-linejoin:round; stroke-width:4; stroke-opacity:1; fill:none\" points=\"124.696,529.035 143.593,529.035 \"/>\n",
       "<polyline clip-path=\"url(#clip690)\" style=\"stroke:#000000; stroke-linecap:round; stroke-linejoin:round; stroke-width:4; stroke-opacity:1; fill:none\" points=\"124.696,627.169 143.593,627.169 \"/>\n",
       "<path clip-path=\"url(#clip690)\" d=\"M91.7929 119.217 L110.149 119.217 L110.149 123.152 L96.0753 123.152 L96.0753 131.624 Q97.0938 131.277 98.1123 131.115 Q99.1308 130.93 100.149 130.93 Q105.936 130.93 109.316 134.101 Q112.696 137.272 112.696 142.689 Q112.696 148.268 109.223 151.369 Q105.751 154.448 99.4317 154.448 Q97.2558 154.448 94.9873 154.078 Q92.7419 153.707 90.3346 152.967 L90.3346 148.268 Q92.4179 149.402 94.6401 149.957 Q96.8623 150.513 99.3391 150.513 Q103.344 150.513 105.682 148.406 Q108.02 146.3 108.02 142.689 Q108.02 139.078 105.682 136.971 Q103.344 134.865 99.3391 134.865 Q97.4641 134.865 95.5892 135.282 Q93.7373 135.698 91.7929 136.578 L91.7929 119.217 Z\" fill=\"#000000\" fill-rule=\"nonzero\" fill-opacity=\"1\" /><path clip-path=\"url(#clip690)\" d=\"M61.3995 247.976 L69.0384 247.976 L69.0384 221.61 L60.7282 223.277 L60.7282 219.018 L68.9921 217.351 L73.668 217.351 L73.668 247.976 L81.3068 247.976 L81.3068 251.911 L61.3995 251.911 L61.3995 247.976 Z\" fill=\"#000000\" fill-rule=\"nonzero\" fill-opacity=\"1\" /><path clip-path=\"url(#clip690)\" d=\"M100.751 220.43 Q97.1401 220.43 95.3114 223.995 Q93.5058 227.536 93.5058 234.666 Q93.5058 241.772 95.3114 245.337 Q97.1401 248.879 100.751 248.879 Q104.385 248.879 106.191 245.337 Q108.02 241.772 108.02 234.666 Q108.02 227.536 106.191 223.995 Q104.385 220.43 100.751 220.43 M100.751 216.726 Q106.561 216.726 109.617 221.333 Q112.696 225.916 112.696 234.666 Q112.696 243.393 109.617 247.999 Q106.561 252.583 100.751 252.583 Q94.941 252.583 91.8623 247.999 Q88.8068 243.393 88.8068 234.666 Q88.8068 225.916 91.8623 221.333 Q94.941 216.726 100.751 216.726 Z\" fill=\"#000000\" fill-rule=\"nonzero\" fill-opacity=\"1\" /><path clip-path=\"url(#clip690)\" d=\"M62.3949 346.11 L70.0337 346.11 L70.0337 319.745 L61.7236 321.412 L61.7236 317.152 L69.9874 315.486 L74.6633 315.486 L74.6633 346.11 L82.3022 346.11 L82.3022 350.046 L62.3949 350.046 L62.3949 346.11 Z\" fill=\"#000000\" fill-rule=\"nonzero\" fill-opacity=\"1\" /><path clip-path=\"url(#clip690)\" d=\"M91.7929 315.486 L110.149 315.486 L110.149 319.421 L96.0753 319.421 L96.0753 327.893 Q97.0938 327.546 98.1123 327.384 Q99.1308 327.199 100.149 327.199 Q105.936 327.199 109.316 330.37 Q112.696 333.541 112.696 338.958 Q112.696 344.536 109.223 347.638 Q105.751 350.717 99.4317 350.717 Q97.2558 350.717 94.9873 350.347 Q92.7419 349.976 90.3346 349.235 L90.3346 344.536 Q92.4179 345.671 94.6401 346.226 Q96.8623 346.782 99.3391 346.782 Q103.344 346.782 105.682 344.675 Q108.02 342.569 108.02 338.958 Q108.02 335.347 105.682 333.24 Q103.344 331.134 99.3391 331.134 Q97.4641 331.134 95.5892 331.55 Q93.7373 331.967 91.7929 332.847 L91.7929 315.486 Z\" fill=\"#000000\" fill-rule=\"nonzero\" fill-opacity=\"1\" /><path clip-path=\"url(#clip690)\" d=\"M64.6171 444.245 L80.9365 444.245 L80.9365 448.18 L58.9921 448.18 L58.9921 444.245 Q61.6541 441.49 66.2375 436.861 Q70.8439 432.208 72.0245 430.865 Q74.2698 428.342 75.1494 426.606 Q76.0522 424.847 76.0522 423.157 Q76.0522 420.402 74.1078 418.666 Q72.1865 416.93 69.0847 416.93 Q66.8856 416.93 64.4319 417.694 Q62.0014 418.458 59.2236 420.009 L59.2236 415.287 Q62.0477 414.152 64.5014 413.574 Q66.955 412.995 68.9921 412.995 Q74.3624 412.995 77.5568 415.68 Q80.7513 418.365 80.7513 422.856 Q80.7513 424.986 79.9411 426.907 Q79.1541 428.805 77.0476 431.398 Q76.4689 432.069 73.367 435.287 Q70.2652 438.481 64.6171 444.245 Z\" fill=\"#000000\" fill-rule=\"nonzero\" fill-opacity=\"1\" /><path clip-path=\"url(#clip690)\" d=\"M100.751 416.699 Q97.1401 416.699 95.3114 420.264 Q93.5058 423.805 93.5058 430.935 Q93.5058 438.041 95.3114 441.606 Q97.1401 445.148 100.751 445.148 Q104.385 445.148 106.191 441.606 Q108.02 438.041 108.02 430.935 Q108.02 423.805 106.191 420.264 Q104.385 416.699 100.751 416.699 M100.751 412.995 Q106.561 412.995 109.617 417.602 Q112.696 422.185 112.696 430.935 Q112.696 439.662 109.617 444.268 Q106.561 448.851 100.751 448.851 Q94.941 448.851 91.8623 444.268 Q88.8068 439.662 88.8068 430.935 Q88.8068 422.185 91.8623 417.602 Q94.941 412.995 100.751 412.995 Z\" fill=\"#000000\" fill-rule=\"nonzero\" fill-opacity=\"1\" /><path clip-path=\"url(#clip690)\" d=\"M65.6125 542.379 L81.9318 542.379 L81.9318 546.315 L59.9875 546.315 L59.9875 542.379 Q62.6495 539.625 67.2328 534.995 Q71.8393 530.342 73.0198 529 Q75.2652 526.477 76.1448 524.741 Q77.0476 522.981 77.0476 521.292 Q77.0476 518.537 75.1032 516.801 Q73.1819 515.065 70.08 515.065 Q67.881 515.065 65.4273 515.829 Q62.9967 516.592 60.219 518.143 L60.219 513.421 Q63.043 512.287 65.4967 511.708 Q67.9504 511.13 69.9874 511.13 Q75.3578 511.13 78.5522 513.815 Q81.7466 516.5 81.7466 520.991 Q81.7466 523.12 80.9365 525.041 Q80.1494 526.94 78.0429 529.532 Q77.4642 530.203 74.3624 533.421 Q71.2606 536.615 65.6125 542.379 Z\" fill=\"#000000\" fill-rule=\"nonzero\" fill-opacity=\"1\" /><path clip-path=\"url(#clip690)\" d=\"M91.7929 511.755 L110.149 511.755 L110.149 515.69 L96.0753 515.69 L96.0753 524.162 Q97.0938 523.815 98.1123 523.653 Q99.1308 523.467 100.149 523.467 Q105.936 523.467 109.316 526.639 Q112.696 529.81 112.696 535.227 Q112.696 540.805 109.223 543.907 Q105.751 546.986 99.4317 546.986 Q97.2558 546.986 94.9873 546.615 Q92.7419 546.245 90.3346 545.504 L90.3346 540.805 Q92.4179 541.94 94.6401 542.495 Q96.8623 543.051 99.3391 543.051 Q103.344 543.051 105.682 540.944 Q108.02 538.838 108.02 535.227 Q108.02 531.616 105.682 529.509 Q103.344 527.403 99.3391 527.403 Q97.4641 527.403 95.5892 527.819 Q93.7373 528.236 91.7929 529.116 L91.7929 511.755 Z\" fill=\"#000000\" fill-rule=\"nonzero\" fill-opacity=\"1\" /><path clip-path=\"url(#clip690)\" d=\"M74.7559 625.815 Q78.1124 626.532 79.9874 628.801 Q81.8855 631.069 81.8855 634.403 Q81.8855 639.518 78.367 642.319 Q74.8485 645.12 68.3671 645.12 Q66.1912 645.12 63.8764 644.68 Q61.5847 644.264 59.131 643.407 L59.131 638.893 Q61.0754 640.028 63.3903 640.606 Q65.7051 641.185 68.2282 641.185 Q72.6263 641.185 74.918 639.449 Q77.2328 637.713 77.2328 634.403 Q77.2328 631.347 75.08 629.634 Q72.9504 627.898 69.131 627.898 L65.1032 627.898 L65.1032 624.056 L69.3161 624.056 Q72.7652 624.056 74.5939 622.69 Q76.4226 621.301 76.4226 618.708 Q76.4226 616.046 74.5245 614.634 Q72.6495 613.199 69.131 613.199 Q67.2097 613.199 65.0106 613.616 Q62.8115 614.032 60.1727 614.912 L60.1727 610.745 Q62.8347 610.005 65.1495 609.634 Q67.4875 609.264 69.5476 609.264 Q74.8717 609.264 77.9735 611.694 Q81.0753 614.102 81.0753 618.222 Q81.0753 621.093 79.4318 623.083 Q77.7883 625.051 74.7559 625.815 Z\" fill=\"#000000\" fill-rule=\"nonzero\" fill-opacity=\"1\" /><path clip-path=\"url(#clip690)\" d=\"M100.751 612.968 Q97.1401 612.968 95.3114 616.532 Q93.5058 620.074 93.5058 627.204 Q93.5058 634.31 95.3114 637.875 Q97.1401 641.417 100.751 641.417 Q104.385 641.417 106.191 637.875 Q108.02 634.31 108.02 627.204 Q108.02 620.074 106.191 616.532 Q104.385 612.968 100.751 612.968 M100.751 609.264 Q106.561 609.264 109.617 613.87 Q112.696 618.454 112.696 627.204 Q112.696 635.93 109.617 640.537 Q106.561 645.12 100.751 645.12 Q94.941 645.12 91.8623 640.537 Q88.8068 635.93 88.8068 627.204 Q88.8068 618.454 91.8623 613.87 Q94.941 609.264 100.751 609.264 Z\" fill=\"#000000\" fill-rule=\"nonzero\" fill-opacity=\"1\" /><g clip-path=\"url(#clip692)\">\n",
       "<image width=\"628\" height=\"628\" xlink:href=\"data:image/png;base64,\n",
       "iVBORw0KGgoAAAANSUhEUgAAAnQAAAJ0CAYAAACbab7PAAAc8klEQVR4nO3Yy85liX3W4Xftvb/v\n",
       "q0PXobvL7o6DYzuOrUQkipQJUQaBgBIkmCCY5AaYMM1FMOIuMmHGlBEghYMESAg7kvGJHOy4T2lX\n",
       "d3VVfYe91mLQXACDV9B/8TwX8GqtvQ77t/fyz//Vd/YUrc2xJFl6Uzd3va0k2aqfXJIcekvH3laS\n",
       "HA69C3E4dI8t5euwLMVzLV+H5rG199b287D1ptq3XPsebl7WY/keKV6GJMl57S2euqeah1fH2tb9\n",
       "i+7BHfbut+t6vq1tXVxc1LaS5FwOiebz+tEHf1bbSpL3P/xpbav8mgMA4P82QQcAMJygAwAYTtAB\n",
       "AAwn6AAAhhN0AADDCToAgOEEHQDAcIIOAGA4QQcAMJygAwAYTtABAAwn6AAAhhN0AADDCToAgOEE\n",
       "HQDAcIIOAGA4QQcAMJygAwAY7nS7dgdv1+7g8Xgsrp2KW8my7OW9Xl8fDkttK0mOx97evnePLe25\n",
       "4mfXvg5L+zdY8fAOe/d52IqP/l6+Sbby3mnp7S3H8j2ybd294nvurvwu+eSmdw+/LG4lyenU/C5M\n",
       "DnlQ2zqVr8PtudsRt+fiPXz/672tJE++8pXaln/oAACGE3QAAMMJOgCA4QQdAMBwgg4AYDhBBwAw\n",
       "nKADABhO0AEADCfoAACGE3QAAMMJOgCA4QQdAMBwgg4AYDhBBwAwnKADABhO0AEADCfoAACGE3QA\n",
       "AMMJOgCA4U4vr++6i4elOrcVt/b9XFxLluzVvcNybK4Vt5Lsveva/dSSpXvLda/D3ryDk31vf3o9\n",
       "7WPbixe2fs9V30zJ1nxey/fceet+emtxr/047MU75Vx8ZybJftf9/mpe1qV8zx0O3e+vtXijrN1T\n",
       "TfO72j90AADDCToAgOEEHQDAcIIOAGA4QQcAMJygAwAYTtABAAwn6AAAhhN0AADDCToAgOEEHQDA\n",
       "cIIOAGA4QQcAMJygAwAYTtABAAwn6AAAhhN0AADDCToAgOFO522vDh6X6lzuzufe2F4+1+Oxupes\n",
       "taVlq00lSc57r/0P5Z8Ry9K96fY0P7zuPVI+1Ryag3v34Lbm89p99HMqP/qHpXeAd2v3ZNfye/P/\n",
       "F9X7N/Wvr2zpPa/L0n0g6udaHex+uTYPzT90AADDCToAgOEEHQDAcIIOAGA4QQcAMJygAwAYTtAB\n",
       "AAwn6AAAhhN0AADDCToAgOEEHQDAcIIOAGA4QQcAMJygAwAYTtABAAwn6AAAhhN0AADDCToAgOEE\n",
       "HQDAcKdt26uD+75W947HU21r755q2p/dcujtHbLUtpKkeabHpXtsS/XokkN699xSvumW8mfXVX7A\n",
       "ivfwXj62m7utute9rO17pPvZNV+bX9w7Ltn38ju4fLLNe24vH9xW3mseX/tcm3exf+gAAIYTdAAA\n",
       "wwk6AIDhBB0AwHCCDgBgOEEHADCcoAMAGE7QAQAMJ+gAAIYTdAAAwwk6AIDhBB0AwHCCDgBgOEEH\n",
       "ADCcoAMAGE7QAQAMJ+gAAIYTdAAAwwk6AIDhTtu2VwcPh6W6t21bca17bPve/eyap7ofu8eWpXdw\n",
       "h+VY2/p8rzqXw1L87MqXIWk+D8le/E3XfpfsxQ+v/ay2fws3P7t9794jh/LP/ubhlW+5LEvzZdK9\n",
       "DtWvwqT/4ixqv0uaL+L+u6THP3QAAMMJOgCA4QQdAMBwgg4AYDhBBwAwnKADABhO0AEADCfoAACG\n",
       "E3QAAMMJOgCA4QQdAMBwgg4AYDhBBwAwnKADABhO0AEADCfoAACGE3QAAMMJOgCA4U77vlcH9606\n",
       "l+bcUs7XvX2yy1Kbul3X2laSHLbeh3conufng90LuxSv6/HQPde9/BvsvJ5rW9tevq7Fufajejp0\n",
       "B7fiuRYvaZJka7/Ti1857e+v5qtpT/fYtuYHV1d+9sv3XPNa1L/3i/xDBwAwnKADABhO0AEADCfo\n",
       "AACGE3QAAMMJOgCA4QQdAMBwgg4AYDhBBwAwnKADABhO0AEADCfoAACGE3QAAMMJOgCA4QQdAMBw\n",
       "gg4AYDhBBwAwnKADABhO0AEADHfat7U6uC9Lde907DXn4dA9tm3bu3t771yP3UPLsmy1rXXtXoe9\n",
       "fK6Hw6m3tXR/M63lc92LH15zq27v3nNr97WZ3tOVrOX3UvmjS3Oufc9Vr2v5u3BrP1/tl0nRofxf\n",
       "0773nrCtuJUkKV4G/9ABAAwn6AAAhhN0AADDCToAgOEEHQDAcIIOAGA4QQcAMJygAwAYTtABAAwn\n",
       "6AAAhhN0AADDCToAgOEEHQDAcIIOAGA4QQcAMJygAwAYTtABAAwn6AAAhjvt+14dXLtzuchW21pq\n",
       "S59bz+fq3vOf/VVt68mzZ7WtJHnw+HFt68XHH9S2kuT88kV173Qs3inr2ttKksOpOvfgrd59cu/x\n",
       "m7WtJNl6j362vfv0l1+b1eMrH1r9ZJtre/tsq3Nf7HtuKR5e+9jWvfvebHdO01Y8Nv/QAQAMJ+gA\n",
       "AIYTdAAAwwk6AIDhBB0AwHCCDgBgOEEHADCcoAMAGE7QAQAMJ+gAAIYTdAAAwwk6AIDhBB0AwHCC\n",
       "DgBgOEEHADCcoAMAGE7QAQAMJ+gAAIYTdAAAw522basOLtW15O7ca851rU0lSe5u76p7P/vBd2tb\n",
       "z/9n92Qfv/m0tvX+X/55bStJlvVc3Tsej7Wtdes+EceLq+regzef1bbe/vq3altJ8vQXvl7burj3\n",
       "oLaVJPvevef2c3HvdNnbSlL+ikiytwe/oLrnubc/tr33btrLB7e375Ev8C23Fx8w/9ABAAwn6AAA\n",
       "hhN0AADDCToAgOEEHQDAcIIOAGA4QQcAMJygAwAYTtABAAwn6AAAhhN0AADDCToAgOEEHQDAcIIO\n",
       "AGA4QQcAMJygAwAYTtABAAwn6AAAhhN0AADDnbZtrw4ue3dvP51qW59+/Ne1rST54X/9k+reBz/+\n",
       "Tm3r4nxd20qSq4te+19fv65tJcnx4l5173Ds3XPHq+6xXd57WN375NOf17Z+/vzj2laSPPmg97w+\n",
       "eONpbStJbl923yUvP/2ktvX0y1+tbSXJV779G9W9HItbW3EryZaltrUs5e/C7lx1r3xo9b3qP1f1\n",
       "k+0N+ocOAGA4QQcAMJygAwAYTtABAAwn6AAAhhN0AADDCToAgOEEHQDAcIIOAGA4QQcAMJygAwAY\n",
       "TtABAAwn6AAAhhN0AADDCToAgOEEHQDAcIIOAGA4QQcAMNxp37bu4r5397be3u3r69pWkvzVj79f\n",
       "3bv++OPa1rLd1baS5Jje3mHp/o7YjjfVvdPpWNu6uL5f20qStfy4XhYvxcsPP+qNJfnsZe/gbl8/\n",
       "r20lyfWnH1b3Xl2/rm39ytM3a1tJ8lvP3qruvfelv1Hb2va1tpUkORS/v5alt5VkK34XJkn25vF1\n",
       "z7WtmiXlxtn33kvdP3QAAMMJOgCA4QQdAMBwgg4AYDhBBwAwnKADABhO0AEADCfoAACGE3QAAMMJ\n",
       "OgCA4QQdAMBwgg4AYDhBBwAwnKADABhO0AEADCfoAACGE3QAAMMJOgCA4QQdAMBwp2x7d3Hpzq3r\n",
       "ubb16O1nta0k+Y3f/YPq3od/9qPa1uv3f1jbSpIPfvL92tarV3e1rSTJ8VSdu7w41rZul9vaVpLc\n",
       "bN29Rxf3alvr0v19+PK9v6htffb8g9pWkty/qs7l8Ztfqm199vyj2laSfPqd/1DdW/72Pyqu9Z7V\n",
       "JDkW7+HzttW2kmTful+ue/Grf1m6HbE3Dy7J0u6cLyj/0AEADCfoAACGE3QAAMMJOgCA4QQdAMBw\n",
       "gg4AYDhBBwAwnKADABhO0AEADCfoAACGE3QAAMMJOgCA4QQdAMBwgg4AYDhBBwAwnKADABhO0AEA\n",
       "DCfoAACGE3QAAMOdlmXtLu7dRlyy1bYOp2NtK0ne/cavVffe+eqv1LZOy9+pbSXJf/nXf1zb+t5/\n",
       "+pPaVpJcLPere7fXN7Wtw+VVbStJsj+uzl3f9Z6Ju7sXta0kef7+j2tbv/iNb9W2kuS3/v4/ru49\n",
       "efZObeu4vaptJUm2D6tzx/Xnta2b05drW0lyvut9Hx6WvbaVJMthqe5t5+7xNXXPNNn24rk2t5Lq\n",
       "yfqHDgBgOEEHADCcoAMAGE7QAQAMJ+gAAIYTdAAAwwk6AIDhBB0AwHCCDgBgOEEHADCcoAMAGE7Q\n",
       "AQAMJ+gAAIYTdAAAwwk6AIDhBB0AwHCCDgBgOEEHADDcaVmW6uDFxV7dO+xbbeu8do/tdDxW9y7v\n",
       "369tHQ8Pa1tJ8mu/+eu1rVefflLbSpIPf/SD6t6X3/3F2tabX/lmbStJPvjktrr3+vXr2ta2Xte2\n",
       "kuQ3f/cPalu/9ju/X9tKkquHT6p7h+Jr+P69R72xJK9u3qrundfe1rKee2NJil83yaH7fbOkeXDJ\n",
       "tvWO71D+a6h4aEmS4xf4r6vzuXgdaksAAPw/IegAAIYTdAAAwwk6AIDhBB0AwHCCDgBgOEEHADCc\n",
       "oAMAGE7QAQAMJ+gAAIYTdAAAwwk6AIDhBB0AwHCCDgBgOEEHADCcoAMAGE7QAQAMJ+gAAIYTdAAA\n",
       "w50ujlt18G7tNuK+9/bWvXuuDy+7ey8+e1nbevnhn9W2kuT86q629bf+yR/VtpLkB//2j6t7P/3+\n",
       "d2tbH33vT2tbSXLelurexeVVbes3f+8f1raS5Fd/+/dqW/uh+15azzfdveK76e72VNv6XPl3f/Na\n",
       "7L2pz629qfKxLTl2B9O757at+12YdN9za/Na7N0L2/zo/EMHADCcoAMAGE7QAQAMJ+gAAIYTdAAA\n",
       "wwk6AIDhBB0AwHCCDgBgOEEHADCcoAMAGE7QAQAMJ+gAAIYTdAAAwwk6AIDhBB0AwHCCDgBgOEEH\n",
       "ADCcoAMAGO70O299Uh38eH1S3btZ19rWi7tuv766vq3uXVw8qG2dL69qW5/vPaxtXV5c1LaS5Fu/\n",
       "+4fVveMb/6a29Rff+Xe1rSR5+2u/Xt375m//fm3r6btfq20lye2217b2811tK0mOx2N1b1l676Y9\n",
       "vc8tSQ6H7nvudFhqW8uh+07fel83SU7NsWQ5V+dOe+867Hv7OnTv4aV3qlnLx9Z8XP1DBwAwnKAD\n",
       "ABhO0AEADCfoAACGE3QAAMMJOgCA4QQdAMBwgg4AYDhBBwAwnKADABhO0AEADCfoAACGE3QAAMMJ\n",
       "OgCA4QQdAMBwgg4AYDhBBwAwnKADABhO0AEADHe6efHz6uCzq8+qe7/w+Ngbe/Cot5XkxflBde+c\n",
       "rbb112++UdtKku9+/2e1rf31D2pbSfL48ml175f+3u/Xtj789rPaVpLce9rdOz/8Sm9sP/e2kqzb\n",
       "3tvai++RJLfntbqXpffsL+Xf6Vf3u5/d/Ye963o61aaSJIel99k9f959HrbeLfK/B3v38HpealtJ\n",
       "sqe7txSfr5SPLXvvefAPHQDAcIIOAGA4QQcAMJygAwAYTtABAAwn6AAAhhN0AADDCToAgOEEHQDA\n",
       "cIIOAGA4QQcAMJygAwAYTtABAAwn6AAAhhN0AADDCToAgOEEHQDAcIIOAGA4QQcAMNzyT//ZH+3N\n",
       "wRff/Y/NuXz5wWVt6+rZu7WtJHn0pe7e6fGz3tj9U28ryc3NWts6nC5qW0mSZanOfeubX61tPXr0\n",
       "uLaVJD/+0X+v7r3IVW3r8bvfrm0lyXa71bbO59pUkmQ7PKjurYfe8/rZXfWVnvPafZfsxcf15q63\n",
       "lSQ59P7jOKf7Xrp3r7u3HHp7169rU0mSPb1nP0lOx965rmv3+dqLe/6hAwAYTtABAAwn6AAAhhN0\n",
       "AADDCToAgOEEHQDAcIIOAGA4QQcAMJygAwAYTtABAAwn6AAAhhN0AADDCToAgOEEHQDAcIIOAGA4\n",
       "QQcAMJygAwAYTtABAAx32n70n6uDn/7sx9W9bK9qU/f+fKltJcnHh2N1bz9c1ba2x+/UtpJk/ezT\n",
       "2tbx8rK2lSSHJ1+q7v303z+sbV0+frO2lSR35Xvu5fm6tnX5TvfZv3fsXYcvv/24tpUkf/Mb71b3\n",
       "vvrOW7Wt6/Ne20qS13fd92au3qhN7ad7ta0keXHbe76e33X/L7k+31X3btO7Tz47dO+Rm9uturel\n",
       "d3yvbmtTSZLlsNa2/EMHADCcoAMAGE7QAQAMJ+gAAIYTdAAAwwk6AIDhBB0AwHCCDgBgOEEHADCc\n",
       "oAMAGE7QAQAMJ+gAAIYTdAAAwwk6AIDhBB0AwHCCDgBgOEEHADCcoAMAGE7QAQAMdzq9fK86+Oiy\n",
       "Opf11am2dV5rU0mSbVuqe8vhtrZ1fP6z2laSHNa72tZpLf+OeP1hde5cvK6v1722lSTrXXfv8Php\n",
       "bev46hu1rST55Kc/rW3dPH5c20qSjx4/q+596Svv1rYeP32ztpUkT5727pEkefLkUW3r6dvlY3vY\n",
       "u0++9uiN2laSHE4X1b3jRe/L+nrpfU8nySevu1/W13vvnf6zT7rf+5/dHmtb/qEDABhO0AEADCfo\n",
       "AACGE3QAAMMJOgCA4QQdAMBwgg4AYDhBBwAwnKADABhO0AEADCfoAACGE3QAAMMJOgCA4QQdAMBw\n",
       "gg4AYDhBBwAwnKADABhO0AEADCfoAACGOz29d64Ovjru1b3na29rL+frKd1zzaF3gJdL8YNLsu7H\n",
       "2tZ56V6IQ/lc932pbR2K1zRJjpfdc132m9rW6fUnta0kOR4f1rZePu/dv0ny6fs/re69970f1Lb2\n",
       "3Na2kuSw9J6HJLm4uqptXT16UNtKktODp7Wti0dv1baS5MmzZ929d96tbf3yb/xWbStJnn35S9W9\n",
       "0/llbevrF9138N3FvdqWf+gAAIYTdAAAwwk6AIDhBB0AwHCCDgBgOEEHADCcoAMAGE7QAQAMJ+gA\n",
       "AIYTdAAAwwk6AIDhBB0AwHCCDgBgOEEHADCcoAMAGE7QAQAMJ+gAAIYTdAAAw51ubm+rg5cXp+re\n",
       "4XCubS3Za1tJsnbnctx7g1v5XLd9qW2diltJsqS7d24eX/GaJslS/g223my1re2jD2tbSfLe5T+o\n",
       "bb189+/WtpLkav2gundx+9e1re32eW0rSS62n1f3TuuL2tbLTz6qbSXJ/Q+/V9va97vaVpK8v1bn\n",
       "cnO4V9t69f57ta0k+cVf/tXq3l/+5Ce1rRc/+VFtK0neeOut2pZ/6AAAhhN0AADDCToAgOEEHQDA\n",
       "cIIOAGA4QQcAMJygAwAYTtABAAwn6AAAhhN0AADDCToAgOEEHQDAcIIOAGA4QQcAMJygAwAYTtAB\n",
       "AAwn6AAAhhN0AADDCToAgOFOx8OxOriUE/Fu3Wpbh32vbSXJ8dg92eXQO75tX2pbSZKlt7ecalOf\n",
       "28rnWvzsDsta20qSpXgdkqR5dOeXL4pryfXWe/Zfnr5W20qS09vfrO6d99675Pau97klSdbX1bll\n",
       "va1t3X34P2pbSfJLH/2L2tb948e1rSS527rf1Xc3N7WtFz/+b7WtJPng53/Z3Xvvo9rWxz/5YW0r\n",
       "Sa6KGeEfOgCA4QQdAMBwgg4AYDhBBwAwnKADABhO0AEADCfoAACGE3QAAMMJOgCA4QQdAMBwgg4A\n",
       "YDhBBwAwnKADABhO0AEADCfoAACGE3QAAMMJOgCA4QQdAMBwp4dX3aa7Oe/VveWw1Lb2bLWtzwe7\n",
       "57ptvXNN99CyFA/tfFe+DssX93fJ8dA9ti3FC5HkWLxRDsfuuT69+9Pa1u1f/MvaVpJsj55U9/aL\n",
       "N2tb5723lSQ5vlGd2+69Vdt6tXevw7ofa1t3a/dZfX3X3btee+/hD/7qJ7WtJHn94oPu3qvyd05R\n",
       "8zb54n4TAgDwf0TQAQAMJ+gAAIYTdAAAwwk6AIDhBB0AwHCCDgBgOEEHADCcoAMAGE7QAQAMJ+gA\n",
       "AIYTdAAAwwk6AIDhBB0AwHCCDgBgOEEHADCcoAMAGE7QAQAMJ+gAAIY7HY57dfDevW4jHo+9vcO+\n",
       "1baS5HhYqntNe7rXtXlVt717bNvevQ6nL+5lzXkrX9dtrW3dpvvB3d9/WNv6pds/r20lyX59r7p3\n",
       "Xh7Xtq7zpLaVJNvpYXXv9vRWbevh3bm2lSSXh1e1rX0r/19Sfi8d0vs+XNK9Dsu5/B1x7r3nbtZu\n",
       "R9wW7xP/0AEADCfoAACGE3QAAMMJOgCA4QQdAMBwgg4AYDhBBwAwnKADABhO0AEADCfoAACGE3QA\n",
       "AMMJOgCA4QQdAMBwgg4AYDhBBwAwnKADABhO0AEADCfoAACGE3QAAMOdtr07uCzH6t65eIDruTaV\n",
       "JNmP3Q9vT2+vfV3vnXrtf9i32laS7OXfJfuheM8Vr2mSrFv5XJfe1l33sua89QavluvaVpIc91fV\n",
       "vcP6UW3rtBYvapLttnvPrcXn9Xjsft8sh96XxF7+LtxTfsCK76a781rbSpLX191z3arPRPf5Wvbe\n",
       "dfAPHQDAcIIOAGA4QQcAMJygAwAYTtABAAwn6AAAhhN0AADDCToAgOEEHQDAcIIOAGA4QQcAMJyg\n",
       "AwAYTtABAAwn6AAAhhN0AADDCToAgOEEHQDAcIIOAGC40/XtXh1cD91GvFuLWzdbbyzJerFU945L\n",
       "81p0j+02vc/u2D20HA7de/h27d10+949tn25qO4txXtu37rnWn2THJtjSfmyZi2+mval+4Bt5XdJ\n",
       "8z5ZclPbSpJt651r+as1a/n5at7Dh/I7/eLUHTwX3ybr69pUkuRU/EL0Dx0AwHCCDgBgOEEHADCc\n",
       "oAMAGE7QAQAMJ+gAAIYTdAAAwwk6AIDhBB0AwHCCDgBgOEEHADCcoAMAGE7QAQAMJ+gAAIYTdAAA\n",
       "wwk6AIDhBB0AwHCCDgBgOEEHADDcKXt38LCs1b39cKxtnffb2laSrHv5wys6llN9K26dm2NJDlt3\n",
       "cClureVbZEn3+UrxBXBqPw9L70psS/eBuCg/X4e9d6770r0OS/XpT5r3XPVhTdI8trX88O9b+fkq\n",
       "zvW+pT93edFd3C4ua1vnT+5qW0lyKl4H/9ABAAwn6AAAhhN0AADDCToAgOEEHQDAcIIOAGA4QQcA\n",
       "MJygAwAYTtABAAwn6AAAhhN0AADDCToAgOEEHQDAcIIOAGA4QQcAMJygAwAYTtABAAwn6AAAhhN0\n",
       "AADDnbZtrQ4e96W6d7p3Vdvab+5qW0lyzlbd29P77PbydVjXvba1bd3P7ZDuPXwofnTn7qlmX7qD\n",
       "F9WfdL17JEkOxb3i7Zsk2bqvkup9shy6v9P39me3V0+2t5XuHVx+zWXtvuZyt/XOtvndlSRrdy6H\n",
       "5ku9ef8mORaPzT90AADDCToAgOEEHQDAcIIOAGA4QQcAMJygAwAYTtABAAwn6AAAhhN0AADDCToA\n",
       "gOEEHQDAcIIOAGA4QQcAMJygAwAYTtABAAwn6AAAhhN0AADDCToAgOFO19fn6uDVslT3Hjy8V9s6\n",
       "H65qW0ly71idy1L87Lbr17WtJLl78Wlt63Do3iOHh29U97bb29rW3aub2laSLMfyZ7f1tvbsvbEk\n",
       "F8Vzbd9z57V7rue9uFc+tnXr7m3Fcy1/3aR5qluKD1f6z9dSfCZO5ffSxan75boX/7taz91mOhc/\n",
       "Ov/QAQAMJ+gAAIYTdAAAwwk6AIDhBB0AwHCCDgBgOEEHADCcoAMAGE7QAQAMJ+gAAIYTdAAAwwk6\n",
       "AIDhBB0AwHCCDgBgOEEHADCcoAMAGE7QAQAMJ+gAAIYTdAAAw51e35UHL7uNeH1zW9t6uV3VtpLk\n",
       "8sG96t7x6rK2dSpuJcn55rq2te+1qSTJvbffqe6dr1/Xtq73j2tbSXJ5caruXSy9rfO69saS3G69\n",
       "vfNd7z2SJNu2Vfeqz8RSvKhJzlt3b9t7e4e1+zLZiheifGjpPl3JshxrW3v5pX4+V+dyLt7Ca7rv\n",
       "4OZ94h86AIDhBB0AwHCCDgBgOEEHADCcoAMAGE7QAQAMJ+gAAIYTdAAAwwk6AIDhBB0AwHCCDgBg\n",
       "OEEHADCcoAMAGE7QAQAMJ+gAAIYTdAAAwwk6AIDhBB0AwHD/C929jgjYQ11XAAAAAElFTkSuQmCC\n",
       "\" transform=\"translate(125, 48)\"/>\n",
       "</g>\n",
       "</svg>\n"
      ]
     },
     "metadata": {},
     "output_type": "display_data"
    }
   ],
   "source": [
    "index = rand(1:49000) \n",
    "image(x) = colorview(RGB, permutedims(x, (3, 2, 1)))\n",
    "\n",
    "classes = (\n",
    "    0 => \"airplane\",\n",
    "    1 => \"automobile\",\n",
    "    2 => \"bird\",\n",
    "    3 => \"cat\",\n",
    "    4 => \"deer\",\n",
    "    5 => \"dog\",\n",
    "    6 => \"frog\",\n",
    "    7 => \"horse\",\n",
    "    8 => \"ship\",\n",
    "    9 => \"truck\"\n",
    ")\n",
    "\n",
    "println(\"Labeled class: ($(classes[train_y[index] + 1]))\")\n",
    "\n",
    "plot(image(train_x[:,:,:,index]), size = (200,200))\n"
   ]
  },
  {
   "cell_type": "markdown",
   "metadata": {},
   "source": [
    "Here is our model. Now we use a few convolution layers before inputting it into a set of dense layers"
   ]
  },
  {
   "cell_type": "code",
   "execution_count": 49,
   "metadata": {},
   "outputs": [
    {
     "data": {
      "text/plain": [
       "Chain(\n",
       "  Conv((5, 5), 3 => 16, relu),          \u001b[90m# 1_216 parameters\u001b[39m\n",
       "  MaxPool((2, 2)),\n",
       "  Conv((5, 5), 16 => 8, relu),          \u001b[90m# 3_208 parameters\u001b[39m\n",
       "  MaxPool((2, 2)),\n",
       "  var\"#23#24\"(),\n",
       "  Dense(200 => 120),                    \u001b[90m# 24_120 parameters\u001b[39m\n",
       "  Dense(120 => 84),                     \u001b[90m# 10_164 parameters\u001b[39m\n",
       "  Dense(84 => 10),                      \u001b[90m# 850 parameters\u001b[39m\n",
       "  NNlib.softmax,\n",
       ") \u001b[90m                  # Total: 10 arrays, \u001b[39m39_558 parameters, 155.852 KiB."
      ]
     },
     "metadata": {},
     "output_type": "display_data"
    }
   ],
   "source": [
    "CNN_model = Chain(\n",
    "  Conv((5,5), 3=>16, relu),\n",
    "  MaxPool((2,2)),\n",
    "  Conv((5,5), 16=>8, relu),\n",
    "  MaxPool((2,2)),\n",
    "  x -> reshape(x, :, size(x, 4)),\n",
    "  Dense(200, 120),\n",
    "  Dense(120, 84),\n",
    "  Dense(84, 10),\n",
    "  softmax)"
   ]
  },
  {
   "cell_type": "markdown",
   "metadata": {},
   "source": [
    "Setting up the loss, the optimisation method we will use and an accuracy measure so we can log it during training."
   ]
  },
  {
   "cell_type": "code",
   "execution_count": 50,
   "metadata": {},
   "outputs": [
    {
     "data": {
      "text/plain": [
       "accuracy (generic function with 1 method)"
      ]
     },
     "metadata": {},
     "output_type": "display_data"
    }
   ],
   "source": [
    "loss(x, y, model) = sum(Flux.crossentropy(model(x), y))\n",
    "accuracy(x, y, model) = mean(Flux.onecold(model(x), 0:9) .== Flux.onecold(y, 0:9))"
   ]
  },
  {
   "cell_type": "code",
   "execution_count": 51,
   "metadata": {},
   "outputs": [
    {
     "name": "stdout",
     "output_type": "stream",
     "text": [
      "epoch 1 finished. acc.: 0.177\n",
      "epoch 2 finished. acc.: 0.317\n",
      "epoch 3 finished. acc.: 0.407\n",
      "epoch 4 finished. acc.: 0.427\n"
     ]
    }
   ],
   "source": [
    "using Flux: params, update!\n",
    "\n",
    "epochs = 15\n",
    "opt = Momentum(0.01)\n",
    "\n",
    "# This takes about 1 min per epoch on my 2019 Macbook pro M1\n",
    "for epoch = 1:epochs\n",
    "  for d in train_data\n",
    "    gs = gradient(params(CNN_model)) do # \"with respect to\"\n",
    "      l = loss(d..., CNN_model)\n",
    "    end\n",
    "    update!(opt, params(CNN_model), gs)\n",
    "  end\n",
    "  println(\"epoch $(epoch) finished. acc.: $(accuracy(validation_x, validation_y, CNN_model))\")\n",
    "end"
   ]
  },
  {
   "cell_type": "markdown",
   "metadata": {},
   "source": [
    "As this is an expensive task, we don't want to keep doing it. Here is one way we can store our trained model, using Binary JSON (BSON)"
   ]
  },
  {
   "cell_type": "code",
   "execution_count": null,
   "metadata": {},
   "outputs": [],
   "source": [
    "BSON.@save \"CNN_model.bson\" CNN_model"
   ]
  },
  {
   "cell_type": "code",
   "execution_count": 38,
   "metadata": {},
   "outputs": [],
   "source": [
    "BSON.@load \"CNN_model.bson\" CNN_model"
   ]
  },
  {
   "cell_type": "code",
   "execution_count": 39,
   "metadata": {},
   "outputs": [
    {
     "data": {
      "text/plain": [
       "10×10000 OneHotMatrix(::Vector{UInt32}) with eltype Bool:\n",
       " ⋅  ⋅  ⋅  1  ⋅  ⋅  ⋅  ⋅  ⋅  ⋅  1  ⋅  ⋅  …  ⋅  ⋅  ⋅  1  ⋅  ⋅  ⋅  ⋅  ⋅  ⋅  ⋅  ⋅\n",
       " ⋅  ⋅  ⋅  ⋅  ⋅  ⋅  1  ⋅  ⋅  1  ⋅  ⋅  ⋅     ⋅  ⋅  ⋅  ⋅  ⋅  ⋅  ⋅  ⋅  ⋅  ⋅  1  ⋅\n",
       " ⋅  ⋅  ⋅  ⋅  ⋅  ⋅  ⋅  ⋅  ⋅  ⋅  ⋅  ⋅  ⋅     ⋅  1  ⋅  ⋅  ⋅  ⋅  ⋅  ⋅  ⋅  ⋅  ⋅  ⋅\n",
       " 1  ⋅  ⋅  ⋅  ⋅  ⋅  ⋅  ⋅  1  ⋅  ⋅  ⋅  ⋅     ⋅  ⋅  ⋅  ⋅  1  ⋅  1  ⋅  1  ⋅  ⋅  ⋅\n",
       " ⋅  ⋅  ⋅  ⋅  ⋅  ⋅  ⋅  ⋅  ⋅  ⋅  ⋅  ⋅  ⋅     ⋅  ⋅  ⋅  ⋅  ⋅  ⋅  ⋅  ⋅  ⋅  ⋅  ⋅  ⋅\n",
       " ⋅  ⋅  ⋅  ⋅  ⋅  ⋅  ⋅  ⋅  ⋅  ⋅  ⋅  ⋅  1  …  ⋅  ⋅  ⋅  ⋅  ⋅  1  ⋅  ⋅  ⋅  1  ⋅  ⋅\n",
       " ⋅  ⋅  ⋅  ⋅  1  1  ⋅  1  ⋅  ⋅  ⋅  ⋅  ⋅     ⋅  ⋅  ⋅  ⋅  ⋅  ⋅  ⋅  ⋅  ⋅  ⋅  ⋅  ⋅\n",
       " ⋅  ⋅  ⋅  ⋅  ⋅  ⋅  ⋅  ⋅  ⋅  ⋅  ⋅  ⋅  ⋅     ⋅  ⋅  1  ⋅  ⋅  ⋅  ⋅  ⋅  ⋅  ⋅  ⋅  1\n",
       " ⋅  1  1  ⋅  ⋅  ⋅  ⋅  ⋅  ⋅  ⋅  ⋅  ⋅  ⋅     1  ⋅  ⋅  ⋅  ⋅  ⋅  ⋅  1  ⋅  ⋅  ⋅  ⋅\n",
       " ⋅  ⋅  ⋅  ⋅  ⋅  ⋅  ⋅  ⋅  ⋅  ⋅  ⋅  1  ⋅     ⋅  ⋅  ⋅  ⋅  ⋅  ⋅  ⋅  ⋅  ⋅  ⋅  ⋅  ⋅"
      ]
     },
     "metadata": {},
     "output_type": "display_data"
    }
   ],
   "source": [
    "test_x, test_y = CIFAR10(split=:test)[:]\n",
    "test_labels = Flux.onehotbatch(test_y, 0:9)"
   ]
  },
  {
   "cell_type": "code",
   "execution_count": 45,
   "metadata": {},
   "outputs": [
    {
     "name": "stdout",
     "output_type": "stream",
     "text": [
      "Predicted class: 0 (0 => \"airplane\")\n",
      "True class: 0 (0 => \"airplane\")\n"
     ]
    },
    {
     "data": {
      "image/png": "[encoded data removed]",
      "image/svg+xml": [
       "<?xml version=\"1.0\" encoding=\"utf-8\"?>\n",
       "<svg xmlns=\"http://www.w3.org/2000/svg\" xmlns:xlink=\"http://www.w3.org/1999/xlink\" width=\"150\" height=\"150\" viewBox=\"0 0 600 600\">\n",
       "<defs>\n",
       "  <clipPath id=\"clip180\">\n",
       "    <rect x=\"0\" y=\"0\" width=\"600\" height=\"600\"/>\n",
       "  </clipPath>\n",
       "</defs>\n",
       "<path clip-path=\"url(#clip180)\" d=\"M0 600 L600 600 L600 0 L0 0  Z\" fill=\"#ffffff\" fill-rule=\"evenodd\" fill-opacity=\"1\"/>\n",
       "<defs>\n",
       "  <clipPath id=\"clip181\">\n",
       "    <rect x=\"120\" y=\"59\" width=\"421\" height=\"421\"/>\n",
       "  </clipPath>\n",
       "</defs>\n",
       "<path clip-path=\"url(#clip180)\" d=\"M122.696 479.168 L552.756 479.168 L552.756 47.2441 L122.696 47.2441  Z\" fill=\"#ffffff\" fill-rule=\"evenodd\" fill-opacity=\"1\"/>\n",
       "<defs>\n",
       "  <clipPath id=\"clip182\">\n",
       "    <rect x=\"122\" y=\"47\" width=\"431\" height=\"433\"/>\n",
       "  </clipPath>\n",
       "</defs>\n",
       "<polyline clip-path=\"url(#clip182)\" style=\"stroke:#000000; stroke-linecap:round; stroke-linejoin:round; stroke-width:2; stroke-opacity:0.1; fill:none\" points=\"183.173,47.2441 183.173,479.168 \"/>\n",
       "<polyline clip-path=\"url(#clip182)\" style=\"stroke:#000000; stroke-linecap:round; stroke-linejoin:round; stroke-width:2; stroke-opacity:0.1; fill:none\" points=\"250.37,47.2441 250.37,479.168 \"/>\n",
       "<polyline clip-path=\"url(#clip182)\" style=\"stroke:#000000; stroke-linecap:round; stroke-linejoin:round; stroke-width:2; stroke-opacity:0.1; fill:none\" points=\"317.567,47.2441 317.567,479.168 \"/>\n",
       "<polyline clip-path=\"url(#clip182)\" style=\"stroke:#000000; stroke-linecap:round; stroke-linejoin:round; stroke-width:2; stroke-opacity:0.1; fill:none\" points=\"384.764,47.2441 384.764,479.168 \"/>\n",
       "<polyline clip-path=\"url(#clip182)\" style=\"stroke:#000000; stroke-linecap:round; stroke-linejoin:round; stroke-width:2; stroke-opacity:0.1; fill:none\" points=\"451.961,47.2441 451.961,479.168 \"/>\n",
       "<polyline clip-path=\"url(#clip182)\" style=\"stroke:#000000; stroke-linecap:round; stroke-linejoin:round; stroke-width:2; stroke-opacity:0.1; fill:none\" points=\"519.157,47.2441 519.157,479.168 \"/>\n",
       "<polyline clip-path=\"url(#clip180)\" style=\"stroke:#000000; stroke-linecap:round; stroke-linejoin:round; stroke-width:4; stroke-opacity:1; fill:none\" points=\"122.696,479.168 552.756,479.168 \"/>\n",
       "<polyline clip-path=\"url(#clip180)\" style=\"stroke:#000000; stroke-linecap:round; stroke-linejoin:round; stroke-width:4; stroke-opacity:1; fill:none\" points=\"183.173,479.168 183.173,460.27 \"/>\n",
       "<polyline clip-path=\"url(#clip180)\" style=\"stroke:#000000; stroke-linecap:round; stroke-linejoin:round; stroke-width:4; stroke-opacity:1; fill:none\" points=\"250.37,479.168 250.37,460.27 \"/>\n",
       "<polyline clip-path=\"url(#clip180)\" style=\"stroke:#000000; stroke-linecap:round; stroke-linejoin:round; stroke-width:4; stroke-opacity:1; fill:none\" points=\"317.567,479.168 317.567,460.27 \"/>\n",
       "<polyline clip-path=\"url(#clip180)\" style=\"stroke:#000000; stroke-linecap:round; stroke-linejoin:round; stroke-width:4; stroke-opacity:1; fill:none\" points=\"384.764,479.168 384.764,460.27 \"/>\n",
       "<polyline clip-path=\"url(#clip180)\" style=\"stroke:#000000; stroke-linecap:round; stroke-linejoin:round; stroke-width:4; stroke-opacity:1; fill:none\" points=\"451.961,479.168 451.961,460.27 \"/>\n",
       "<polyline clip-path=\"url(#clip180)\" style=\"stroke:#000000; stroke-linecap:round; stroke-linejoin:round; stroke-width:4; stroke-opacity:1; fill:none\" points=\"519.157,479.168 519.157,460.27 \"/>\n",
       "<path clip-path=\"url(#clip180)\" d=\"M173.451 492.608 L191.807 492.608 L191.807 496.543 L177.733 496.543 L177.733 505.015 Q178.752 504.668 179.77 504.506 Q180.789 504.321 181.807 504.321 Q187.594 504.321 190.974 507.492 Q194.353 510.663 194.353 516.08 Q194.353 521.659 190.881 524.76 Q187.409 527.839 181.089 527.839 Q178.914 527.839 176.645 527.469 Q174.4 527.098 171.992 526.358 L171.992 521.659 Q174.076 522.793 176.298 523.348 Q178.52 523.904 180.997 523.904 Q185.001 523.904 187.339 521.798 Q189.677 519.691 189.677 516.08 Q189.677 512.469 187.339 510.362 Q185.001 508.256 180.997 508.256 Q179.122 508.256 177.247 508.673 Q175.395 509.089 173.451 509.969 L173.451 492.608 Z\" fill=\"#000000\" fill-rule=\"nonzero\" fill-opacity=\"1\" /><path clip-path=\"url(#clip180)\" d=\"M225.057 523.233 L232.696 523.233 L232.696 496.867 L224.386 498.534 L224.386 494.275 L232.65 492.608 L237.326 492.608 L237.326 523.233 L244.965 523.233 L244.965 527.168 L225.057 527.168 L225.057 523.233 Z\" fill=\"#000000\" fill-rule=\"nonzero\" fill-opacity=\"1\" /><path clip-path=\"url(#clip180)\" d=\"M264.409 495.687 Q260.798 495.687 258.969 499.251 Q257.164 502.793 257.164 509.923 Q257.164 517.029 258.969 520.594 Q260.798 524.135 264.409 524.135 Q268.043 524.135 269.849 520.594 Q271.677 517.029 271.677 509.923 Q271.677 502.793 269.849 499.251 Q268.043 495.687 264.409 495.687 M264.409 491.983 Q270.219 491.983 273.275 496.589 Q276.353 501.173 276.353 509.923 Q276.353 518.649 273.275 523.256 Q270.219 527.839 264.409 527.839 Q258.599 527.839 255.52 523.256 Q252.465 518.649 252.465 509.923 Q252.465 501.173 255.52 496.589 Q258.599 491.983 264.409 491.983 Z\" fill=\"#000000\" fill-rule=\"nonzero\" fill-opacity=\"1\" /><path clip-path=\"url(#clip180)\" d=\"M292.752 523.233 L300.391 523.233 L300.391 496.867 L292.081 498.534 L292.081 494.275 L300.345 492.608 L305.02 492.608 L305.02 523.233 L312.659 523.233 L312.659 527.168 L292.752 527.168 L292.752 523.233 Z\" fill=\"#000000\" fill-rule=\"nonzero\" fill-opacity=\"1\" /><path clip-path=\"url(#clip180)\" d=\"M322.15 492.608 L340.506 492.608 L340.506 496.543 L326.432 496.543 L326.432 505.015 Q327.451 504.668 328.469 504.506 Q329.488 504.321 330.506 504.321 Q336.293 504.321 339.673 507.492 Q343.053 510.663 343.053 516.08 Q343.053 521.659 339.58 524.76 Q336.108 527.839 329.789 527.839 Q327.613 527.839 325.344 527.469 Q323.099 527.098 320.692 526.358 L320.692 521.659 Q322.775 522.793 324.997 523.348 Q327.219 523.904 329.696 523.904 Q333.701 523.904 336.039 521.798 Q338.377 519.691 338.377 516.08 Q338.377 512.469 336.039 510.362 Q333.701 508.256 329.696 508.256 Q327.821 508.256 325.946 508.673 Q324.094 509.089 322.15 509.969 L322.15 492.608 Z\" fill=\"#000000\" fill-rule=\"nonzero\" fill-opacity=\"1\" /><path clip-path=\"url(#clip180)\" d=\"M363.537 523.233 L379.856 523.233 L379.856 527.168 L357.912 527.168 L357.912 523.233 Q360.574 520.478 365.157 515.848 Q369.764 511.196 370.944 509.853 Q373.19 507.33 374.069 505.594 Q374.972 503.835 374.972 502.145 Q374.972 499.39 373.028 497.654 Q371.106 495.918 368.004 495.918 Q365.805 495.918 363.352 496.682 Q360.921 497.446 358.143 498.997 L358.143 494.275 Q360.967 493.14 363.421 492.562 Q365.875 491.983 367.912 491.983 Q373.282 491.983 376.477 494.668 Q379.671 497.353 379.671 501.844 Q379.671 503.974 378.861 505.895 Q378.074 507.793 375.967 510.386 Q375.389 511.057 372.287 514.274 Q369.185 517.469 363.537 523.233 Z\" fill=\"#000000\" fill-rule=\"nonzero\" fill-opacity=\"1\" /><path clip-path=\"url(#clip180)\" d=\"M399.671 495.687 Q396.06 495.687 394.231 499.251 Q392.426 502.793 392.426 509.923 Q392.426 517.029 394.231 520.594 Q396.06 524.135 399.671 524.135 Q403.305 524.135 405.111 520.594 Q406.939 517.029 406.939 509.923 Q406.939 502.793 405.111 499.251 Q403.305 495.687 399.671 495.687 M399.671 491.983 Q405.481 491.983 408.537 496.589 Q411.615 501.173 411.615 509.923 Q411.615 518.649 408.537 523.256 Q405.481 527.839 399.671 527.839 Q393.861 527.839 390.782 523.256 Q387.727 518.649 387.727 509.923 Q387.727 501.173 390.782 496.589 Q393.861 491.983 399.671 491.983 Z\" fill=\"#000000\" fill-rule=\"nonzero\" fill-opacity=\"1\" /><path clip-path=\"url(#clip180)\" d=\"M431.231 523.233 L447.551 523.233 L447.551 527.168 L425.606 527.168 L425.606 523.233 Q428.269 520.478 432.852 515.848 Q437.458 511.196 438.639 509.853 Q440.884 507.33 441.764 505.594 Q442.667 503.835 442.667 502.145 Q442.667 499.39 440.722 497.654 Q438.801 495.918 435.699 495.918 Q433.5 495.918 431.046 496.682 Q428.616 497.446 425.838 498.997 L425.838 494.275 Q428.662 493.14 431.116 492.562 Q433.569 491.983 435.606 491.983 Q440.977 491.983 444.171 494.668 Q447.366 497.353 447.366 501.844 Q447.366 503.974 446.555 505.895 Q445.768 507.793 443.662 510.386 Q443.083 511.057 439.981 514.274 Q436.88 517.469 431.231 523.233 Z\" fill=\"#000000\" fill-rule=\"nonzero\" fill-opacity=\"1\" /><path clip-path=\"url(#clip180)\" d=\"M457.412 492.608 L475.768 492.608 L475.768 496.543 L461.694 496.543 L461.694 505.015 Q462.713 504.668 463.731 504.506 Q464.75 504.321 465.768 504.321 Q471.555 504.321 474.935 507.492 Q478.315 510.663 478.315 516.08 Q478.315 521.659 474.842 524.76 Q471.37 527.839 465.051 527.839 Q462.875 527.839 460.606 527.469 Q458.361 527.098 455.954 526.358 L455.954 521.659 Q458.037 522.793 460.259 523.348 Q462.481 523.904 464.958 523.904 Q468.963 523.904 471.301 521.798 Q473.639 519.691 473.639 516.08 Q473.639 512.469 471.301 510.362 Q468.963 508.256 464.958 508.256 Q463.083 508.256 461.208 508.673 Q459.356 509.089 457.412 509.969 L457.412 492.608 Z\" fill=\"#000000\" fill-rule=\"nonzero\" fill-opacity=\"1\" /><path clip-path=\"url(#clip180)\" d=\"M508 508.534 Q511.357 509.251 513.232 511.52 Q515.13 513.788 515.13 517.122 Q515.13 522.237 511.611 525.038 Q508.093 527.839 501.611 527.839 Q499.435 527.839 497.121 527.399 Q494.829 526.983 492.375 526.126 L492.375 521.612 Q494.32 522.747 496.634 523.325 Q498.949 523.904 501.472 523.904 Q505.87 523.904 508.162 522.168 Q510.477 520.432 510.477 517.122 Q510.477 514.066 508.324 512.353 Q506.195 510.617 502.375 510.617 L498.347 510.617 L498.347 506.774 L502.56 506.774 Q506.009 506.774 507.838 505.409 Q509.667 504.02 509.667 501.427 Q509.667 498.765 507.769 497.353 Q505.894 495.918 502.375 495.918 Q500.454 495.918 498.255 496.335 Q496.056 496.751 493.417 497.631 L493.417 493.464 Q496.079 492.724 498.394 492.353 Q500.732 491.983 502.792 491.983 Q508.116 491.983 511.218 494.413 Q514.32 496.821 514.32 500.941 Q514.32 503.812 512.676 505.802 Q511.032 507.77 508 508.534 Z\" fill=\"#000000\" fill-rule=\"nonzero\" fill-opacity=\"1\" /><path clip-path=\"url(#clip180)\" d=\"M533.995 495.687 Q530.384 495.687 528.556 499.251 Q526.75 502.793 526.75 509.923 Q526.75 517.029 528.556 520.594 Q530.384 524.135 533.995 524.135 Q537.63 524.135 539.435 520.594 Q541.264 517.029 541.264 509.923 Q541.264 502.793 539.435 499.251 Q537.63 495.687 533.995 495.687 M533.995 491.983 Q539.805 491.983 542.861 496.589 Q545.94 501.173 545.94 509.923 Q545.94 518.649 542.861 523.256 Q539.805 527.839 533.995 527.839 Q528.185 527.839 525.106 523.256 Q522.051 518.649 522.051 509.923 Q522.051 501.173 525.106 496.589 Q528.185 491.983 533.995 491.983 Z\" fill=\"#000000\" fill-rule=\"nonzero\" fill-opacity=\"1\" /><polyline clip-path=\"url(#clip182)\" style=\"stroke:#000000; stroke-linecap:round; stroke-linejoin:round; stroke-width:2; stroke-opacity:0.1; fill:none\" points=\"122.696,108.653 552.756,108.653 \"/>\n",
       "<polyline clip-path=\"url(#clip182)\" style=\"stroke:#000000; stroke-linecap:round; stroke-linejoin:round; stroke-width:2; stroke-opacity:0.1; fill:none\" points=\"122.696,175.85 552.756,175.85 \"/>\n",
       "<polyline clip-path=\"url(#clip182)\" style=\"stroke:#000000; stroke-linecap:round; stroke-linejoin:round; stroke-width:2; stroke-opacity:0.1; fill:none\" points=\"122.696,243.047 552.756,243.047 \"/>\n",
       "<polyline clip-path=\"url(#clip182)\" style=\"stroke:#000000; stroke-linecap:round; stroke-linejoin:round; stroke-width:2; stroke-opacity:0.1; fill:none\" points=\"122.696,310.244 552.756,310.244 \"/>\n",
       "<polyline clip-path=\"url(#clip182)\" style=\"stroke:#000000; stroke-linecap:round; stroke-linejoin:round; stroke-width:2; stroke-opacity:0.1; fill:none\" points=\"122.696,377.441 552.756,377.441 \"/>\n",
       "<polyline clip-path=\"url(#clip182)\" style=\"stroke:#000000; stroke-linecap:round; stroke-linejoin:round; stroke-width:2; stroke-opacity:0.1; fill:none\" points=\"122.696,444.638 552.756,444.638 \"/>\n",
       "<polyline clip-path=\"url(#clip180)\" style=\"stroke:#000000; stroke-linecap:round; stroke-linejoin:round; stroke-width:4; stroke-opacity:1; fill:none\" points=\"122.696,47.2441 122.696,479.168 \"/>\n",
       "<polyline clip-path=\"url(#clip180)\" style=\"stroke:#000000; stroke-linecap:round; stroke-linejoin:round; stroke-width:4; stroke-opacity:1; fill:none\" points=\"122.696,108.653 141.593,108.653 \"/>\n",
       "<polyline clip-path=\"url(#clip180)\" style=\"stroke:#000000; stroke-linecap:round; stroke-linejoin:round; stroke-width:4; stroke-opacity:1; fill:none\" points=\"122.696,175.85 141.593,175.85 \"/>\n",
       "<polyline clip-path=\"url(#clip180)\" style=\"stroke:#000000; stroke-linecap:round; stroke-linejoin:round; stroke-width:4; stroke-opacity:1; fill:none\" points=\"122.696,243.047 141.593,243.047 \"/>\n",
       "<polyline clip-path=\"url(#clip180)\" style=\"stroke:#000000; stroke-linecap:round; stroke-linejoin:round; stroke-width:4; stroke-opacity:1; fill:none\" points=\"122.696,310.244 141.593,310.244 \"/>\n",
       "<polyline clip-path=\"url(#clip180)\" style=\"stroke:#000000; stroke-linecap:round; stroke-linejoin:round; stroke-width:4; stroke-opacity:1; fill:none\" points=\"122.696,377.441 141.593,377.441 \"/>\n",
       "<polyline clip-path=\"url(#clip180)\" style=\"stroke:#000000; stroke-linecap:round; stroke-linejoin:round; stroke-width:4; stroke-opacity:1; fill:none\" points=\"122.696,444.638 141.593,444.638 \"/>\n",
       "<path clip-path=\"url(#clip180)\" d=\"M92.7929 91.373 L111.149 91.373 L111.149 95.3082 L97.0753 95.3082 L97.0753 103.78 Q98.0938 103.433 99.1123 103.271 Q100.131 103.086 101.149 103.086 Q106.936 103.086 110.316 106.257 Q113.696 109.428 113.696 114.845 Q113.696 120.424 110.223 123.526 Q106.751 126.604 100.432 126.604 Q98.2558 126.604 95.9873 126.234 Q93.7419 125.864 91.3346 125.123 L91.3346 120.424 Q93.4179 121.558 95.6401 122.114 Q97.8623 122.669 100.339 122.669 Q104.344 122.669 106.682 120.563 Q109.02 118.456 109.02 114.845 Q109.02 111.234 106.682 109.128 Q104.344 107.021 100.339 107.021 Q98.4641 107.021 96.5892 107.438 Q94.7373 107.854 92.7929 108.734 L92.7929 91.373 Z\" fill=\"#000000\" fill-rule=\"nonzero\" fill-opacity=\"1\" /><path clip-path=\"url(#clip180)\" d=\"M62.3995 189.195 L70.0384 189.195 L70.0384 162.829 L61.7282 164.496 L61.7282 160.237 L69.9921 158.57 L74.668 158.57 L74.668 189.195 L82.3068 189.195 L82.3068 193.13 L62.3995 193.13 L62.3995 189.195 Z\" fill=\"#000000\" fill-rule=\"nonzero\" fill-opacity=\"1\" /><path clip-path=\"url(#clip180)\" d=\"M101.751 161.649 Q98.1401 161.649 96.3114 165.213 Q94.5058 168.755 94.5058 175.885 Q94.5058 182.991 96.3114 186.556 Q98.1401 190.098 101.751 190.098 Q105.385 190.098 107.191 186.556 Q109.02 182.991 109.02 175.885 Q109.02 168.755 107.191 165.213 Q105.385 161.649 101.751 161.649 M101.751 157.945 Q107.561 157.945 110.617 162.551 Q113.696 167.135 113.696 175.885 Q113.696 184.612 110.617 189.218 Q107.561 193.801 101.751 193.801 Q95.941 193.801 92.8623 189.218 Q89.8068 184.612 89.8068 175.885 Q89.8068 167.135 92.8623 162.551 Q95.941 157.945 101.751 157.945 Z\" fill=\"#000000\" fill-rule=\"nonzero\" fill-opacity=\"1\" /><path clip-path=\"url(#clip180)\" d=\"M63.3949 256.392 L71.0337 256.392 L71.0337 230.026 L62.7236 231.693 L62.7236 227.434 L70.9874 225.767 L75.6633 225.767 L75.6633 256.392 L83.3022 256.392 L83.3022 260.327 L63.3949 260.327 L63.3949 256.392 Z\" fill=\"#000000\" fill-rule=\"nonzero\" fill-opacity=\"1\" /><path clip-path=\"url(#clip180)\" d=\"M92.7929 225.767 L111.149 225.767 L111.149 229.702 L97.0753 229.702 L97.0753 238.174 Q98.0938 237.827 99.1123 237.665 Q100.131 237.48 101.149 237.48 Q106.936 237.48 110.316 240.651 Q113.696 243.822 113.696 249.239 Q113.696 254.818 110.223 257.92 Q106.751 260.998 100.432 260.998 Q98.2558 260.998 95.9873 260.628 Q93.7419 260.257 91.3346 259.517 L91.3346 254.818 Q93.4179 255.952 95.6401 256.507 Q97.8623 257.063 100.339 257.063 Q104.344 257.063 106.682 254.957 Q109.02 252.85 109.02 249.239 Q109.02 245.628 106.682 243.521 Q104.344 241.415 100.339 241.415 Q98.4641 241.415 96.5892 241.832 Q94.7373 242.248 92.7929 243.128 L92.7929 225.767 Z\" fill=\"#000000\" fill-rule=\"nonzero\" fill-opacity=\"1\" /><path clip-path=\"url(#clip180)\" d=\"M65.6171 323.589 L81.9365 323.589 L81.9365 327.524 L59.9921 327.524 L59.9921 323.589 Q62.6541 320.834 67.2375 316.204 Q71.8439 311.552 73.0245 310.209 Q75.2698 307.686 76.1494 305.95 Q77.0522 304.191 77.0522 302.501 Q77.0522 299.746 75.1078 298.01 Q73.1865 296.274 70.0847 296.274 Q67.8856 296.274 65.4319 297.038 Q63.0014 297.802 60.2236 299.353 L60.2236 294.63 Q63.0477 293.496 65.5014 292.918 Q67.955 292.339 69.9921 292.339 Q75.3624 292.339 78.5568 295.024 Q81.7513 297.709 81.7513 302.2 Q81.7513 304.33 80.9411 306.251 Q80.1541 308.149 78.0476 310.742 Q77.4689 311.413 74.367 314.63 Q71.2652 317.825 65.6171 323.589 Z\" fill=\"#000000\" fill-rule=\"nonzero\" fill-opacity=\"1\" /><path clip-path=\"url(#clip180)\" d=\"M101.751 296.043 Q98.1401 296.043 96.3114 299.607 Q94.5058 303.149 94.5058 310.279 Q94.5058 317.385 96.3114 320.95 Q98.1401 324.491 101.751 324.491 Q105.385 324.491 107.191 320.95 Q109.02 317.385 109.02 310.279 Q109.02 303.149 107.191 299.607 Q105.385 296.043 101.751 296.043 M101.751 292.339 Q107.561 292.339 110.617 296.945 Q113.696 301.529 113.696 310.279 Q113.696 319.005 110.617 323.612 Q107.561 328.195 101.751 328.195 Q95.941 328.195 92.8623 323.612 Q89.8068 319.005 89.8068 310.279 Q89.8068 301.529 92.8623 296.945 Q95.941 292.339 101.751 292.339 Z\" fill=\"#000000\" fill-rule=\"nonzero\" fill-opacity=\"1\" /><path clip-path=\"url(#clip180)\" d=\"M66.6125 390.786 L82.9318 390.786 L82.9318 394.721 L60.9875 394.721 L60.9875 390.786 Q63.6495 388.031 68.2328 383.401 Q72.8393 378.749 74.0198 377.406 Q76.2652 374.883 77.1448 373.147 Q78.0476 371.388 78.0476 369.698 Q78.0476 366.943 76.1032 365.207 Q74.1819 363.471 71.08 363.471 Q68.881 363.471 66.4273 364.235 Q63.9967 364.999 61.219 366.55 L61.219 361.827 Q64.043 360.693 66.4967 360.114 Q68.9504 359.536 70.9874 359.536 Q76.3578 359.536 79.5522 362.221 Q82.7466 364.906 82.7466 369.397 Q82.7466 371.526 81.9365 373.448 Q81.1494 375.346 79.0429 377.938 Q78.4642 378.61 75.3624 381.827 Q72.2606 385.022 66.6125 390.786 Z\" fill=\"#000000\" fill-rule=\"nonzero\" fill-opacity=\"1\" /><path clip-path=\"url(#clip180)\" d=\"M92.7929 360.161 L111.149 360.161 L111.149 364.096 L97.0753 364.096 L97.0753 372.568 Q98.0938 372.221 99.1123 372.059 Q100.131 371.874 101.149 371.874 Q106.936 371.874 110.316 375.045 Q113.696 378.216 113.696 383.633 Q113.696 389.212 110.223 392.313 Q106.751 395.392 100.432 395.392 Q98.2558 395.392 95.9873 395.022 Q93.7419 394.651 91.3346 393.911 L91.3346 389.212 Q93.4179 390.346 95.6401 390.901 Q97.8623 391.457 100.339 391.457 Q104.344 391.457 106.682 389.35 Q109.02 387.244 109.02 383.633 Q109.02 380.022 106.682 377.915 Q104.344 375.809 100.339 375.809 Q98.4641 375.809 96.5892 376.225 Q94.7373 376.642 92.7929 377.522 L92.7929 360.161 Z\" fill=\"#000000\" fill-rule=\"nonzero\" fill-opacity=\"1\" /><path clip-path=\"url(#clip180)\" d=\"M75.7559 443.284 Q79.1124 444.001 80.9874 446.27 Q82.8855 448.538 82.8855 451.871 Q82.8855 456.987 79.367 459.788 Q75.8485 462.589 69.3671 462.589 Q67.1912 462.589 64.8764 462.149 Q62.5847 461.733 60.131 460.876 L60.131 456.362 Q62.0754 457.496 64.3903 458.075 Q66.7051 458.654 69.2282 458.654 Q73.6263 458.654 75.918 456.918 Q78.2328 455.182 78.2328 451.871 Q78.2328 448.816 76.08 447.103 Q73.9504 445.367 70.131 445.367 L66.1032 445.367 L66.1032 441.524 L70.3161 441.524 Q73.7652 441.524 75.5939 440.159 Q77.4226 438.77 77.4226 436.177 Q77.4226 433.515 75.5245 432.103 Q73.6495 430.668 70.131 430.668 Q68.2097 430.668 66.0106 431.085 Q63.8115 431.501 61.1727 432.381 L61.1727 428.214 Q63.8347 427.473 66.1495 427.103 Q68.4875 426.733 70.5476 426.733 Q75.8717 426.733 78.9735 429.163 Q82.0753 431.571 82.0753 435.691 Q82.0753 438.561 80.4318 440.552 Q78.7883 442.52 75.7559 443.284 Z\" fill=\"#000000\" fill-rule=\"nonzero\" fill-opacity=\"1\" /><path clip-path=\"url(#clip180)\" d=\"M101.751 430.436 Q98.1401 430.436 96.3114 434.001 Q94.5058 437.543 94.5058 444.672 Q94.5058 451.779 96.3114 455.344 Q98.1401 458.885 101.751 458.885 Q105.385 458.885 107.191 455.344 Q109.02 451.779 109.02 444.672 Q109.02 437.543 107.191 434.001 Q105.385 430.436 101.751 430.436 M101.751 426.733 Q107.561 426.733 110.617 431.339 Q113.696 435.922 113.696 444.672 Q113.696 453.399 110.617 458.006 Q107.561 462.589 101.751 462.589 Q95.941 462.589 92.8623 458.006 Q89.8068 453.399 89.8068 444.672 Q89.8068 435.922 92.8623 431.339 Q95.941 426.733 101.751 426.733 Z\" fill=\"#000000\" fill-rule=\"nonzero\" fill-opacity=\"1\" /><g clip-path=\"url(#clip182)\">\n",
       "<image width=\"430\" height=\"430\" xlink:href=\"data:image/png;base64,\n",
       "iVBORw0KGgoAAAANSUhEUgAAAa4AAAGuCAYAAADI9eKaAAAV60lEQVR4nO3dya4k93If4Mg8deah\n",
       "J3ZzaJK6hAVJkGQDsmADhuGdvPAD6KH8CH4EL/QaXso2DA3k5aUINrub3ezpzOfUqcr0gja8dYRx\n",
       "694wvm8fiKp/ZtWvcvOr4T/+p/88R8E0rStTlVUxxJCeGQszm1d5jfnLNRTPvfb6ipsKq4bCWURE\n",
       "jEPhDAsvcJ5rr6+ya5pq17g6tzm1M1zPhe+nyj1YuXHLivfT+Ht+jQtnOP4WXgYA/NYILgBaEVwA\n",
       "tCK4AGhFcAHQiuACoBXBBUArgguAVgQXAK0ILgBaEVwAtCK4AGhFcAHQymIct4qjtabiiko7fGUm\n",
       "Ijb5tkrK72tDNtmWXWl5r87V2uHTI/97Mj0xjpv7DbrJ1vv6rso1Lq3anN/31xe1a1yZ8cQFQCuC\n",
       "C4BWBBcArQguAFoRXAC0IrgAaEVwAdCK4AKgFcEFQCuCC4BWBBcArQguAFpZ/K5fwP+NuVA6OswN\n",
       "GikLSmfxW3gdvw+qBaylMyyVh6ZHIqJWzls9i02qvMbKtfpfywq78jZZKl0+ig3d7xGbuw89cQHQ\n",
       "iuACoBXBBUArgguAVgQXAK0ILgBaEVwAtCK4AGhFcAHQiuACoBXBBUArgguAVgQXAK20aIeH37VK\n",
       "6/VGm8P5/161Kb9075Y2Rf0vEZI8cQHQiuACoBXBBUArgguAVgQXAK0ILgBaEVwAtCK4AGhFcAHQ\n",
       "iuACoBXBBUArgguAVhbV4kaA3zY1xf/HRotvN1kQXdjliQuAVgQXAK0ILgBaEVwAtCK4AGhFcAHQ\n",
       "iuACoBXBBUArgguAVgQXAK0ILgBaEVwAtCK4AGhlMRTb4ed5KkxVZmrmufa+aqXItSblUmlzZVHp\n",
       "WtUMm+zzHmrvq3Jn1M69+s8L+bnq57gyt9l/lCjuGtaFmfzIuMEW9eq5T4XPf/VzPNc+KOkJT1wA\n",
       "tCK4AGhFcAHQiuACoBXBBUArgguAVgQXAK0ILgBaEVwAtCK4AGhFcAHQiuACoJXFMBfKKCMiYlWY\n",
       "KZa9FrolyyW7hSwfxmrJbn6usmnYYLlxVeUs5qFYEF2YmwsnXy0qHQtva6wMRbVkt2iD3bxT4Z4f\n",
       "Cz/jt7a28kMRUfkkVzub79b5wcr5/TKXN2zlD94TFwCtCC4AWhFcALQiuABoRXAB0IrgAqAVwQVA\n",
       "K4ILgFYEFwCtCC4AWhFcALQiuABoRXAB0MoiotoOX+kBLraUl1rAN9ccXm0BL3W9l1Ztrh2+0vIe\n",
       "UTvDofizay7cG8NcaBsvvsDKEW4Vz32stPJvsOW9aop8a3vlXx6q7fCVf6+YC/dgRMQ45+/D6q7q\n",
       "N2GWJy4AWhFcALQiuABoRXAB0IrgAqAVwQVAK4ILgFYEFwCtCC4AWhFcALQiuABoRXAB0MoihlrJ\n",
       "7jCs0jNzuey1UnxbMwyF11gsOK20xNZWba5kt3wWpStWa3stdKnW3la1qLTwtqq9t+tC2Wu5SLlS\n",
       "6Ft8Z1OhPLz0vorXeJryc9NUPIvSayyWlJfm8ufuiQuAVgQXAK0ILgBaEVwAtCK4AGhFcAHQiuAC\n",
       "oBXBBUArgguAVgQXAK0ILgBaEVwAtLIYxlrJbsyFEstNluxusAi0vqtajZozVoqDq6odu6XBzb2v\n",
       "yjUey5c3P1grUq2p3rZDod240AEcERHryr1R2DWOtd/+c+GNVWYiasW3m9w1FJ6fPHEB0IrgAqAV\n",
       "wQVAK4ILgFYEFwCtCC4AWhFcALQiuABoRXAB0IrgAqAVwQVAK4ILgFYEFwCtLGKotcMPlblyG3ql\n",
       "cbhmHCpZXn1flSb6yp7NtNBH/L805ReGqtXhlftpc0dYvMa1dvhKm/dUbYffTGF7RERMpTMsDJVb\n",
       "1Dc3VfvfheL9VDmPSit/fgQAfncEFwCtCC4AWhFcALQiuABoRXAB0IrgAqAVwQVAK4ILgFYEFwCt\n",
       "CC4AWhFcALSyKDVfRsRcmBuKu4ZSyW4xkwuvsdz1WmhurayqnF9drWS39L6KzbfDXLnGlXuwWPVc\n",
       "adktvKdfVD7HxVUVxVt3ngsF1pU9xWs8FZqKP/v0s9Ku7cV2euaHZz+UdsWcL1+vXGJPXAC0IrgA\n",
       "aEVwAdCK4AKgFcEFQCuCC4BWBBcArQguAFoRXAC0IrgAaEVwAdCK4AKgFcEFQCuL1bQqDa6G/NxW\n",
       "YSYiYmsqNF/PtUxex1Z+1VDbVWkPr7WU1wyFGvDK66uq/ttAxGYarKdqjXrlfiq0cv8yV7ifNlgP\n",
       "Pxfr4cfSWOFfA9a1cz85fJCe+aOv/rC06827d+mZuXo/FT5blXvQExcArQguAFoRXAC0IrgAaEVw\n",
       "AdCK4AKgFcEFQCuCC4BWBBcArQguAFoRXAC0IrgAaGUxra9Kg5Uy1bla9zpVGjNvS6sq/aHDmC/m\n",
       "/WVXYW7OF4GuC+WhERHjmP9dUy1gLZXzzrVdY2Gu1B08Vkt288umYrlxpcR2qO6qXOLC/R4RxWbp\n",
       "QslusWD7o48/T89s7x6Vdp2efZ+eWa/vSrumoVCyO+W/Bz1xAdCK4AKgFcEFQCuCC4BWBBcArQgu\n",
       "AFoRXAC0IrgAaEVwAdCK4AKgFcEFQCuCC4BWBBcArSxitSwNDpXG9nlR2jVV2rzHWoN1DPmG6EKZ\n",
       "d0REzIUm9Uqb9xiFxuaIGIqt8iWF6vCtqLXyLwq/1yrt9dUW9UrD/lS8CYu3bm1X5R8lymeYv3en\n",
       "wsfk+ORxfigi9o8fpGdevz8r7To9+5CeWU2r0q650A4/F+5dT1wAtCK4AGhFcAHQiuACoBXBBUAr\n",
       "gguAVgQXAK0ILgBaEVwAtCK4AGhFcAHQiuACoJXFvNoujt6kJ6a4LW1ajTvpmdvxpLRrqNSOFotA\n",
       "1+NeemaIfAHrfrFkd5OlqJVj3xprBdFbQ2FurpQv10qKS9XBhSLqX+YqI5ur5i19HiNiLjTmjkP+\n",
       "u/BXX3yVnomI2F3kd71+/aq060OhZHddLNldR35uLhQie+ICoBXBBUArgguAVgQXAK0ILgBaEVwA\n",
       "tCK4AGhFcAHQiuACoBXBBUArgguAVgQXAK0sVutaEeiqUH652qrl5Hmlm3f/YWnX/eOj/FCxkHIZ\n",
       "+fLgoVDBur8o1bbGvM4Xla7WtbOodPPexkVp1xBX+aH1XXpkLN4X45A/jLH2MY552lypdAz5IuDC\n",
       "SERETKv89fro0ZP0zJNP/1l6JiJify9fsL0q3IMREb/+Lv8FulzVCqznyo1YiAVPXAC0IrgAaEVw\n",
       "AdCK4AKgFcEFQCuCC4BWBBcArQguAFoRXAC0IrgAaEVwAdCK4AKgFcEFQCuLy7t3pcHLZaG2+fDT\n",
       "0q7b7Y/SMwe7+ZmIiCeffpae2duuta8/f3+ZnrkulDavFrXfJ1uFVvnp5qa0axzzr3Gea5XoU2Fu\n",
       "nPLN3NO61rAdc6GVfyrWww/5c682ts+FVvnKTETEPOXP8HrvfnrmH57X7vft8TQ9c3X6trTrZpl/\n",
       "jRdX56Vd05A/98oflHjiAqAVwQVAK4ILgFYEFwCtCC4AWhFcALQiuABoRXAB0IrgAqAVwQVAK4IL\n",
       "gFYEFwCtLF5++Kk0eH6TL6Q8jv3Srk8+/Tw9c/+4tmt9mi+kXG5fl3bdvnmfnjm/3snPLBbpmYiI\n",
       "sVCmWi1gXYz5Qt+Ly9vSrnHYTs9sFX7iDbV+2Ig5f4hD5WJFxDgWCoeLb2yr0EV9e1crKh7n/LLl\n",
       "1Yf0zLtXL9MzEREf3n6Xnrk4+7G0a2e4Ss8sV/kC8IiI5V2hdLhQ9OyJC4BWBBcArQguAFoRXAC0\n",
       "IrgAaEVwAdCK4AKgFcEFQCuCC4BWBBcArQguAFoRXAC0IrgAaGXx9izfUB4RcfLwi/TMk3tHpV2f\n",
       "7N+lZxarWmP79ft84/jl9Ky2613+7C/P8me4d3SYnomI2D/MN+zvbufb6yMi9nd30zP3d1e1Xfv5\n",
       "97Wze5CemaPWyn93t07PTHOtRX17zO/aW9Sa6BeLfBP9zSr/+iIiplX+O+NumW9Rv7x6k56JiJiv\n",
       "n6dnxum8tCu2K/dToeU9IrZ38v8csLOT/5x44gKgFcEFQCuCC4BWBBcArQguAFoRXAC0IrgAaEVw\n",
       "AdCK4AKgFcEFQCuCC4BWBBcArSyOd2pltH/8Rb5M9csn+QLGiIiPTvLll9u7tbLXYZ0vYP3m21rR\n",
       "5vXuu/TMapEv5n18+CA9ExHxL/75n6VntoZaAeu9k3wR8BT50taIiA9nZ+mZq5vT9MzFZb6wOSLi\n",
       "/VX+9W2Ne6VdTx4+Ss8MU+0742//9r+kZ26ny9Kuw+Ot9Mz1Tb5Y9tnzn9MzERFPPv4yPfMf/urf\n",
       "l3Z9+/V/T898//1Fadf9k5P0zPYi/13tiQuAVgQXAK0ILgBaEVwAtCK4AGhFcAHQiuACoBXBBUAr\n",
       "gguAVgQXAK0ILgBaEVwAtCK4AGhl8WhvtzR4+uM/pme+++mfSrte722nZ8b9g9KurVikZ168yJ9F\n",
       "RMTZZb5le3fv4/TMyx9+TM9ERCymfOv9x0/ybeMRETfn+ev1j99+U9r1919/nZ75+W2+lf/8otYO\n",
       "f3qWb0T/d//2r0q7/vKv/zo98/LZ89Kut2/z12s7/2cNERHx6OR+euboXn7Z9UXtXyh+8+u/S8/8\n",
       "m3/1F6VdHx3k/3khPs5/z0REHBzkz2MY8k3+nrgAaEVwAdCK4AKgFcEFQCuCC4BWBBcArQguAFoR\n",
       "XAC0IrgAaEVwAdCK4AKgFcEFQCuLz598WRqc11N+ZlkrHb2+OkvPvHrxQ2nX7VX+NR4e1IqKhzlf\n",
       "Lrm8W6Znbla13yf/9e/yZbTj369Ku3Z38q/x+jZfUhwR8fW336VnDo5O0jOreUjPRES8OztPz/z8\n",
       "/lVp14+vvk/PPHv+m9Kurb38NT442ivtGqd8Ye5iyu/6+NFH6ZmIiOXyLj3zm2/+W2nX0Zh/X3vb\n",
       "+e+miIhF4ZYfYk7PeOICoBXBBUArgguAVgQXAK0ILgBaEVwAtCK4AGhFcAHQiuACoBXBBUArgguA\n",
       "VgQXAK0ILgBaWVxf59vGIyLuCi3l07Qu7ZoK+boqZvLtOt9uvrM+Ku26urlJz0yLfHv99t7D9ExE\n",
       "xGLOX68ff/i2tOv8/H16ZjHWrvH1Zf4MhyF/rZbL2v0eU75i++tv/kdp1d/8zYf0zP2jg9KuRaE6\n",
       "fCqcRUTEzTLfOH67zP/bwGrKt7xHRHz6JP+ZnFe1f9e4W+Q/J3fL2r88XN7kz2Nra5Ge8cQFQCuC\n",
       "C4BWBBcArQguAFoRXAC0IrgAaEVwAdCK4AKgFcEFQCuCC4BWBBcArQguAFpZvHz1ojS4XOXLFK9X\n",
       "teLG5WpKz9xeX5R2rZf5IsvT81rR5jxupWdOHmynZ/b2akWlW2N+7sHD/dKuBw/z72u3WLL79F//\n",
       "RXpmmvNncXp2mZ6JiLi7K3xOhlpZ9v2jvfTMo3sPSrsWi/w1novX+GaZL0W+vM7P3N3WPvvbi530\n",
       "zOFB/vsiIuLiLn8fXt+elXZtb+ev1/5+vrTZExcArQguAFoRXAC0IrgAaEVwAdCK4AKgFcEFQCuC\n",
       "C4BWBBcArQguAFoRXAC0IrgAaGXx5dMvSoM/vXuTH7qqlY5+8vgkPXNznZ+JiFgW+k0PD2qlo/dP\n",
       "7qVnbm6v0zOnZ7XCzNVNfu7eQb60NaJWprq/Vyv0PXrwMD2zvbWbnnn0qFbAOkZ+bnso/gYtnPtq\n",
       "WpdWzetC2XNlJiL2tvNz6yF/jYfd2rmf7OaLZavX+PTqND3zza9/U9r15HH+s/X0s/y5e+ICoBXB\n",
       "BUArgguAVgQXAK0ILgBaEVwAtCK4AGhFcAHQiuACoBXBBUArgguAVgQXAK0ILgBaWYxbW6XBFy+f\n",
       "p2fevHld2nX/ON/0/vKnQnt9RKymRXrm6RdflXZ99WV+Znc7//p28iMREXH/UaH1fq41h796+y49\n",
       "c7ucSrvevc837N87yrfeVxrlIyKmwttarW9Lu2LML5tqXxkxzPnfycOq9tt6GvM3/fOfXqVnXr7J\n",
       "N69HRPzLP/3z9MzTx49Lu86Xc3rm6qZ2kf/h62fpmZcv82foiQuAVgQXAK0ILgBaEVwAtCK4AGhF\n",
       "cAHQiuACoBXBBUArgguAVgQXAK0ILgBaEVwAtLK4uLkqDV7f3qRn5siXPUZE3N7mC0Tff/hQ2nV9\n",
       "l5+Zx+3SrjFW6Zl7xwfpmauL2ll88enH6Zl5rhXfnn3Il+yeXi1Lu55+li8Q/ezJ5+mZasnu5dVl\n",
       "eub8On8vRUSspvxna3e/9nt3b3cnPbOzs1/adVP4ID97/nN65seXxTLv6/x34eOH+WLziIiTh/my\n",
       "7M+/+uPSrhfPv0/PvD87T8944gKgFcEFQCuCC4BWBBcArQguAFoRXAC0IrgAaEVwAdCK4AKgFcEF\n",
       "QCuCC4BWBBcArQguAFpZ/NOzZ6XBd6en6ZkH905Ku371NN/M/f601np/dp1vHL/3oPa+9g/30jPD\n",
       "Vr5V+m5Va1F//TrffD1NtX8AWC7X6Znq+7pdFtqox3zb+N261pR/XvjnhXerWhP9z+/fp2eOj4bS\n",
       "ri+ffpTf9fCT0q7bt/l/RHjz9iw98/JFrR3+zU+Vf2yo/QPAH/xh/vvzT/7kV6VdTwrX+OPPHqdn\n",
       "PHEB0IrgAqAVwQVAK4ILgFYEFwCtCC4AWhFcALQiuABoRXAB0IrgAqAVwQVAK4ILgFYWz1/VSiLf\n",
       "fbhMz9w/eVjatbt7lJ7ZOzgs7VptbadnHjy6V9r16PGD9MzWkC9uPT6uvb6ffniVnjk8yF+riIiP\n",
       "jh6lZ25e1QqiV6t8Ye56lS++vV7WCoffnl+kZ+52n5R2xU7+3piG29Kq9+f54utXb74r7bp5ny+x\n",
       "vTjLf6fdXtXOYtjNFxUPi2Jp82W+SPnsolYcfu/kID1zfJT/rvbEBUArgguAVgQXAK0ILgBaEVwA\n",
       "tCK4AGhFcAHQiuACoBXBBUArgguAVgQXAK0ILgBaEVwAtLI4PM63ckdEfDLupGf292vN4S9e/Jye\n",
       "ubldlnZdXuUbol+/yb++iIgH9/bTM8ubSht1vrE5IuKP/vQv0zPHR7Um+lWs0zOHD2qN6Bcf3qZn\n",
       "bq7zzdwHR/fTMxERN8vz9MyHs9q/PBzu5hvsV+f5tvGIiMubs/TMu/fXpV1vX+Wv8bzK34P72/nv\n",
       "wYiIeZ3ftZ5XpV3TKt9Ev7yu7Vrt5j8nw/5WesYTFwCtCC4AWhFcALQiuABoRXAB0IrgAqAVwQVA\n",
       "K4ILgFYEFwCtCC4AWhFcALQiuABoZfHFZ09Lg9M6X8K4Xt6Udm0P+RLGYXe3tOvF6xfpmeOTWont\n",
       "zm6+oPPnn/Nlqu9OX6dnIiKW+R7Q+OLpH5R2HR/nC5jvnZyUdu0sCqWjc76M9rB4Dx4e5O+ny+sP\n",
       "pV27sZ2eubqoFd8+/5Avo3756rS06+w0/xq3d/Kl14+ePEjPRESMQ/5+muKutOvgIH8fzvmu3IiI\n",
       "uPyQz4W763yptCcuAFoRXAC0IrgAaEVwAdCK4AKgFcEFQCuCC4BWBBcArQguAFoRXAC0IrgAaEVw\n",
       "AdDK/wRxiPdZhmbJBwAAAABJRU5ErkJggg==\n",
       "\" transform=\"translate(123, 48)\"/>\n",
       "</g>\n",
       "</svg>\n"
      ],
      "text/html": [
       "<?xml version=\"1.0\" encoding=\"utf-8\"?>\n",
       "<svg xmlns=\"http://www.w3.org/2000/svg\" xmlns:xlink=\"http://www.w3.org/1999/xlink\" width=\"150\" height=\"150\" viewBox=\"0 0 600 600\">\n",
       "<defs>\n",
       "  <clipPath id=\"clip230\">\n",
       "    <rect x=\"0\" y=\"0\" width=\"600\" height=\"600\"/>\n",
       "  </clipPath>\n",
       "</defs>\n",
       "<path clip-path=\"url(#clip230)\" d=\"M0 600 L600 600 L600 0 L0 0  Z\" fill=\"#ffffff\" fill-rule=\"evenodd\" fill-opacity=\"1\"/>\n",
       "<defs>\n",
       "  <clipPath id=\"clip231\">\n",
       "    <rect x=\"120\" y=\"59\" width=\"421\" height=\"421\"/>\n",
       "  </clipPath>\n",
       "</defs>\n",
       "<path clip-path=\"url(#clip230)\" d=\"M122.696 479.168 L552.756 479.168 L552.756 47.2441 L122.696 47.2441  Z\" fill=\"#ffffff\" fill-rule=\"evenodd\" fill-opacity=\"1\"/>\n",
       "<defs>\n",
       "  <clipPath id=\"clip232\">\n",
       "    <rect x=\"122\" y=\"47\" width=\"431\" height=\"433\"/>\n",
       "  </clipPath>\n",
       "</defs>\n",
       "<polyline clip-path=\"url(#clip232)\" style=\"stroke:#000000; stroke-linecap:round; stroke-linejoin:round; stroke-width:2; stroke-opacity:0.1; fill:none\" points=\"183.173,47.2441 183.173,479.168 \"/>\n",
       "<polyline clip-path=\"url(#clip232)\" style=\"stroke:#000000; stroke-linecap:round; stroke-linejoin:round; stroke-width:2; stroke-opacity:0.1; fill:none\" points=\"250.37,47.2441 250.37,479.168 \"/>\n",
       "<polyline clip-path=\"url(#clip232)\" style=\"stroke:#000000; stroke-linecap:round; stroke-linejoin:round; stroke-width:2; stroke-opacity:0.1; fill:none\" points=\"317.567,47.2441 317.567,479.168 \"/>\n",
       "<polyline clip-path=\"url(#clip232)\" style=\"stroke:#000000; stroke-linecap:round; stroke-linejoin:round; stroke-width:2; stroke-opacity:0.1; fill:none\" points=\"384.764,47.2441 384.764,479.168 \"/>\n",
       "<polyline clip-path=\"url(#clip232)\" style=\"stroke:#000000; stroke-linecap:round; stroke-linejoin:round; stroke-width:2; stroke-opacity:0.1; fill:none\" points=\"451.961,47.2441 451.961,479.168 \"/>\n",
       "<polyline clip-path=\"url(#clip232)\" style=\"stroke:#000000; stroke-linecap:round; stroke-linejoin:round; stroke-width:2; stroke-opacity:0.1; fill:none\" points=\"519.157,47.2441 519.157,479.168 \"/>\n",
       "<polyline clip-path=\"url(#clip230)\" style=\"stroke:#000000; stroke-linecap:round; stroke-linejoin:round; stroke-width:4; stroke-opacity:1; fill:none\" points=\"122.696,479.168 552.756,479.168 \"/>\n",
       "<polyline clip-path=\"url(#clip230)\" style=\"stroke:#000000; stroke-linecap:round; stroke-linejoin:round; stroke-width:4; stroke-opacity:1; fill:none\" points=\"183.173,479.168 183.173,460.27 \"/>\n",
       "<polyline clip-path=\"url(#clip230)\" style=\"stroke:#000000; stroke-linecap:round; stroke-linejoin:round; stroke-width:4; stroke-opacity:1; fill:none\" points=\"250.37,479.168 250.37,460.27 \"/>\n",
       "<polyline clip-path=\"url(#clip230)\" style=\"stroke:#000000; stroke-linecap:round; stroke-linejoin:round; stroke-width:4; stroke-opacity:1; fill:none\" points=\"317.567,479.168 317.567,460.27 \"/>\n",
       "<polyline clip-path=\"url(#clip230)\" style=\"stroke:#000000; stroke-linecap:round; stroke-linejoin:round; stroke-width:4; stroke-opacity:1; fill:none\" points=\"384.764,479.168 384.764,460.27 \"/>\n",
       "<polyline clip-path=\"url(#clip230)\" style=\"stroke:#000000; stroke-linecap:round; stroke-linejoin:round; stroke-width:4; stroke-opacity:1; fill:none\" points=\"451.961,479.168 451.961,460.27 \"/>\n",
       "<polyline clip-path=\"url(#clip230)\" style=\"stroke:#000000; stroke-linecap:round; stroke-linejoin:round; stroke-width:4; stroke-opacity:1; fill:none\" points=\"519.157,479.168 519.157,460.27 \"/>\n",
       "<path clip-path=\"url(#clip230)\" d=\"M173.451 492.608 L191.807 492.608 L191.807 496.543 L177.733 496.543 L177.733 505.015 Q178.752 504.668 179.77 504.506 Q180.789 504.321 181.807 504.321 Q187.594 504.321 190.974 507.492 Q194.353 510.663 194.353 516.08 Q194.353 521.659 190.881 524.76 Q187.409 527.839 181.089 527.839 Q178.914 527.839 176.645 527.469 Q174.4 527.098 171.992 526.358 L171.992 521.659 Q174.076 522.793 176.298 523.348 Q178.52 523.904 180.997 523.904 Q185.001 523.904 187.339 521.798 Q189.677 519.691 189.677 516.08 Q189.677 512.469 187.339 510.362 Q185.001 508.256 180.997 508.256 Q179.122 508.256 177.247 508.673 Q175.395 509.089 173.451 509.969 L173.451 492.608 Z\" fill=\"#000000\" fill-rule=\"nonzero\" fill-opacity=\"1\" /><path clip-path=\"url(#clip230)\" d=\"M225.057 523.233 L232.696 523.233 L232.696 496.867 L224.386 498.534 L224.386 494.275 L232.65 492.608 L237.326 492.608 L237.326 523.233 L244.965 523.233 L244.965 527.168 L225.057 527.168 L225.057 523.233 Z\" fill=\"#000000\" fill-rule=\"nonzero\" fill-opacity=\"1\" /><path clip-path=\"url(#clip230)\" d=\"M264.409 495.687 Q260.798 495.687 258.969 499.251 Q257.164 502.793 257.164 509.923 Q257.164 517.029 258.969 520.594 Q260.798 524.135 264.409 524.135 Q268.043 524.135 269.849 520.594 Q271.677 517.029 271.677 509.923 Q271.677 502.793 269.849 499.251 Q268.043 495.687 264.409 495.687 M264.409 491.983 Q270.219 491.983 273.275 496.589 Q276.353 501.173 276.353 509.923 Q276.353 518.649 273.275 523.256 Q270.219 527.839 264.409 527.839 Q258.599 527.839 255.52 523.256 Q252.465 518.649 252.465 509.923 Q252.465 501.173 255.52 496.589 Q258.599 491.983 264.409 491.983 Z\" fill=\"#000000\" fill-rule=\"nonzero\" fill-opacity=\"1\" /><path clip-path=\"url(#clip230)\" d=\"M292.752 523.233 L300.391 523.233 L300.391 496.867 L292.081 498.534 L292.081 494.275 L300.345 492.608 L305.02 492.608 L305.02 523.233 L312.659 523.233 L312.659 527.168 L292.752 527.168 L292.752 523.233 Z\" fill=\"#000000\" fill-rule=\"nonzero\" fill-opacity=\"1\" /><path clip-path=\"url(#clip230)\" d=\"M322.15 492.608 L340.506 492.608 L340.506 496.543 L326.432 496.543 L326.432 505.015 Q327.451 504.668 328.469 504.506 Q329.488 504.321 330.506 504.321 Q336.293 504.321 339.673 507.492 Q343.053 510.663 343.053 516.08 Q343.053 521.659 339.58 524.76 Q336.108 527.839 329.789 527.839 Q327.613 527.839 325.344 527.469 Q323.099 527.098 320.692 526.358 L320.692 521.659 Q322.775 522.793 324.997 523.348 Q327.219 523.904 329.696 523.904 Q333.701 523.904 336.039 521.798 Q338.377 519.691 338.377 516.08 Q338.377 512.469 336.039 510.362 Q333.701 508.256 329.696 508.256 Q327.821 508.256 325.946 508.673 Q324.094 509.089 322.15 509.969 L322.15 492.608 Z\" fill=\"#000000\" fill-rule=\"nonzero\" fill-opacity=\"1\" /><path clip-path=\"url(#clip230)\" d=\"M363.537 523.233 L379.856 523.233 L379.856 527.168 L357.912 527.168 L357.912 523.233 Q360.574 520.478 365.157 515.848 Q369.764 511.196 370.944 509.853 Q373.19 507.33 374.069 505.594 Q374.972 503.835 374.972 502.145 Q374.972 499.39 373.028 497.654 Q371.106 495.918 368.004 495.918 Q365.805 495.918 363.352 496.682 Q360.921 497.446 358.143 498.997 L358.143 494.275 Q360.967 493.14 363.421 492.562 Q365.875 491.983 367.912 491.983 Q373.282 491.983 376.477 494.668 Q379.671 497.353 379.671 501.844 Q379.671 503.974 378.861 505.895 Q378.074 507.793 375.967 510.386 Q375.389 511.057 372.287 514.274 Q369.185 517.469 363.537 523.233 Z\" fill=\"#000000\" fill-rule=\"nonzero\" fill-opacity=\"1\" /><path clip-path=\"url(#clip230)\" d=\"M399.671 495.687 Q396.06 495.687 394.231 499.251 Q392.426 502.793 392.426 509.923 Q392.426 517.029 394.231 520.594 Q396.06 524.135 399.671 524.135 Q403.305 524.135 405.111 520.594 Q406.939 517.029 406.939 509.923 Q406.939 502.793 405.111 499.251 Q403.305 495.687 399.671 495.687 M399.671 491.983 Q405.481 491.983 408.537 496.589 Q411.615 501.173 411.615 509.923 Q411.615 518.649 408.537 523.256 Q405.481 527.839 399.671 527.839 Q393.861 527.839 390.782 523.256 Q387.727 518.649 387.727 509.923 Q387.727 501.173 390.782 496.589 Q393.861 491.983 399.671 491.983 Z\" fill=\"#000000\" fill-rule=\"nonzero\" fill-opacity=\"1\" /><path clip-path=\"url(#clip230)\" d=\"M431.231 523.233 L447.551 523.233 L447.551 527.168 L425.606 527.168 L425.606 523.233 Q428.269 520.478 432.852 515.848 Q437.458 511.196 438.639 509.853 Q440.884 507.33 441.764 505.594 Q442.667 503.835 442.667 502.145 Q442.667 499.39 440.722 497.654 Q438.801 495.918 435.699 495.918 Q433.5 495.918 431.046 496.682 Q428.616 497.446 425.838 498.997 L425.838 494.275 Q428.662 493.14 431.116 492.562 Q433.569 491.983 435.606 491.983 Q440.977 491.983 444.171 494.668 Q447.366 497.353 447.366 501.844 Q447.366 503.974 446.555 505.895 Q445.768 507.793 443.662 510.386 Q443.083 511.057 439.981 514.274 Q436.88 517.469 431.231 523.233 Z\" fill=\"#000000\" fill-rule=\"nonzero\" fill-opacity=\"1\" /><path clip-path=\"url(#clip230)\" d=\"M457.412 492.608 L475.768 492.608 L475.768 496.543 L461.694 496.543 L461.694 505.015 Q462.713 504.668 463.731 504.506 Q464.75 504.321 465.768 504.321 Q471.555 504.321 474.935 507.492 Q478.315 510.663 478.315 516.08 Q478.315 521.659 474.842 524.76 Q471.37 527.839 465.051 527.839 Q462.875 527.839 460.606 527.469 Q458.361 527.098 455.954 526.358 L455.954 521.659 Q458.037 522.793 460.259 523.348 Q462.481 523.904 464.958 523.904 Q468.963 523.904 471.301 521.798 Q473.639 519.691 473.639 516.08 Q473.639 512.469 471.301 510.362 Q468.963 508.256 464.958 508.256 Q463.083 508.256 461.208 508.673 Q459.356 509.089 457.412 509.969 L457.412 492.608 Z\" fill=\"#000000\" fill-rule=\"nonzero\" fill-opacity=\"1\" /><path clip-path=\"url(#clip230)\" d=\"M508 508.534 Q511.357 509.251 513.232 511.52 Q515.13 513.788 515.13 517.122 Q515.13 522.237 511.611 525.038 Q508.093 527.839 501.611 527.839 Q499.435 527.839 497.121 527.399 Q494.829 526.983 492.375 526.126 L492.375 521.612 Q494.32 522.747 496.634 523.325 Q498.949 523.904 501.472 523.904 Q505.87 523.904 508.162 522.168 Q510.477 520.432 510.477 517.122 Q510.477 514.066 508.324 512.353 Q506.195 510.617 502.375 510.617 L498.347 510.617 L498.347 506.774 L502.56 506.774 Q506.009 506.774 507.838 505.409 Q509.667 504.02 509.667 501.427 Q509.667 498.765 507.769 497.353 Q505.894 495.918 502.375 495.918 Q500.454 495.918 498.255 496.335 Q496.056 496.751 493.417 497.631 L493.417 493.464 Q496.079 492.724 498.394 492.353 Q500.732 491.983 502.792 491.983 Q508.116 491.983 511.218 494.413 Q514.32 496.821 514.32 500.941 Q514.32 503.812 512.676 505.802 Q511.032 507.77 508 508.534 Z\" fill=\"#000000\" fill-rule=\"nonzero\" fill-opacity=\"1\" /><path clip-path=\"url(#clip230)\" d=\"M533.995 495.687 Q530.384 495.687 528.556 499.251 Q526.75 502.793 526.75 509.923 Q526.75 517.029 528.556 520.594 Q530.384 524.135 533.995 524.135 Q537.63 524.135 539.435 520.594 Q541.264 517.029 541.264 509.923 Q541.264 502.793 539.435 499.251 Q537.63 495.687 533.995 495.687 M533.995 491.983 Q539.805 491.983 542.861 496.589 Q545.94 501.173 545.94 509.923 Q545.94 518.649 542.861 523.256 Q539.805 527.839 533.995 527.839 Q528.185 527.839 525.106 523.256 Q522.051 518.649 522.051 509.923 Q522.051 501.173 525.106 496.589 Q528.185 491.983 533.995 491.983 Z\" fill=\"#000000\" fill-rule=\"nonzero\" fill-opacity=\"1\" /><polyline clip-path=\"url(#clip232)\" style=\"stroke:#000000; stroke-linecap:round; stroke-linejoin:round; stroke-width:2; stroke-opacity:0.1; fill:none\" points=\"122.696,108.653 552.756,108.653 \"/>\n",
       "<polyline clip-path=\"url(#clip232)\" style=\"stroke:#000000; stroke-linecap:round; stroke-linejoin:round; stroke-width:2; stroke-opacity:0.1; fill:none\" points=\"122.696,175.85 552.756,175.85 \"/>\n",
       "<polyline clip-path=\"url(#clip232)\" style=\"stroke:#000000; stroke-linecap:round; stroke-linejoin:round; stroke-width:2; stroke-opacity:0.1; fill:none\" points=\"122.696,243.047 552.756,243.047 \"/>\n",
       "<polyline clip-path=\"url(#clip232)\" style=\"stroke:#000000; stroke-linecap:round; stroke-linejoin:round; stroke-width:2; stroke-opacity:0.1; fill:none\" points=\"122.696,310.244 552.756,310.244 \"/>\n",
       "<polyline clip-path=\"url(#clip232)\" style=\"stroke:#000000; stroke-linecap:round; stroke-linejoin:round; stroke-width:2; stroke-opacity:0.1; fill:none\" points=\"122.696,377.441 552.756,377.441 \"/>\n",
       "<polyline clip-path=\"url(#clip232)\" style=\"stroke:#000000; stroke-linecap:round; stroke-linejoin:round; stroke-width:2; stroke-opacity:0.1; fill:none\" points=\"122.696,444.638 552.756,444.638 \"/>\n",
       "<polyline clip-path=\"url(#clip230)\" style=\"stroke:#000000; stroke-linecap:round; stroke-linejoin:round; stroke-width:4; stroke-opacity:1; fill:none\" points=\"122.696,47.2441 122.696,479.168 \"/>\n",
       "<polyline clip-path=\"url(#clip230)\" style=\"stroke:#000000; stroke-linecap:round; stroke-linejoin:round; stroke-width:4; stroke-opacity:1; fill:none\" points=\"122.696,108.653 141.593,108.653 \"/>\n",
       "<polyline clip-path=\"url(#clip230)\" style=\"stroke:#000000; stroke-linecap:round; stroke-linejoin:round; stroke-width:4; stroke-opacity:1; fill:none\" points=\"122.696,175.85 141.593,175.85 \"/>\n",
       "<polyline clip-path=\"url(#clip230)\" style=\"stroke:#000000; stroke-linecap:round; stroke-linejoin:round; stroke-width:4; stroke-opacity:1; fill:none\" points=\"122.696,243.047 141.593,243.047 \"/>\n",
       "<polyline clip-path=\"url(#clip230)\" style=\"stroke:#000000; stroke-linecap:round; stroke-linejoin:round; stroke-width:4; stroke-opacity:1; fill:none\" points=\"122.696,310.244 141.593,310.244 \"/>\n",
       "<polyline clip-path=\"url(#clip230)\" style=\"stroke:#000000; stroke-linecap:round; stroke-linejoin:round; stroke-width:4; stroke-opacity:1; fill:none\" points=\"122.696,377.441 141.593,377.441 \"/>\n",
       "<polyline clip-path=\"url(#clip230)\" style=\"stroke:#000000; stroke-linecap:round; stroke-linejoin:round; stroke-width:4; stroke-opacity:1; fill:none\" points=\"122.696,444.638 141.593,444.638 \"/>\n",
       "<path clip-path=\"url(#clip230)\" d=\"M92.7929 91.373 L111.149 91.373 L111.149 95.3082 L97.0753 95.3082 L97.0753 103.78 Q98.0938 103.433 99.1123 103.271 Q100.131 103.086 101.149 103.086 Q106.936 103.086 110.316 106.257 Q113.696 109.428 113.696 114.845 Q113.696 120.424 110.223 123.526 Q106.751 126.604 100.432 126.604 Q98.2558 126.604 95.9873 126.234 Q93.7419 125.864 91.3346 125.123 L91.3346 120.424 Q93.4179 121.558 95.6401 122.114 Q97.8623 122.669 100.339 122.669 Q104.344 122.669 106.682 120.563 Q109.02 118.456 109.02 114.845 Q109.02 111.234 106.682 109.128 Q104.344 107.021 100.339 107.021 Q98.4641 107.021 96.5892 107.438 Q94.7373 107.854 92.7929 108.734 L92.7929 91.373 Z\" fill=\"#000000\" fill-rule=\"nonzero\" fill-opacity=\"1\" /><path clip-path=\"url(#clip230)\" d=\"M62.3995 189.195 L70.0384 189.195 L70.0384 162.829 L61.7282 164.496 L61.7282 160.237 L69.9921 158.57 L74.668 158.57 L74.668 189.195 L82.3068 189.195 L82.3068 193.13 L62.3995 193.13 L62.3995 189.195 Z\" fill=\"#000000\" fill-rule=\"nonzero\" fill-opacity=\"1\" /><path clip-path=\"url(#clip230)\" d=\"M101.751 161.649 Q98.1401 161.649 96.3114 165.213 Q94.5058 168.755 94.5058 175.885 Q94.5058 182.991 96.3114 186.556 Q98.1401 190.098 101.751 190.098 Q105.385 190.098 107.191 186.556 Q109.02 182.991 109.02 175.885 Q109.02 168.755 107.191 165.213 Q105.385 161.649 101.751 161.649 M101.751 157.945 Q107.561 157.945 110.617 162.551 Q113.696 167.135 113.696 175.885 Q113.696 184.612 110.617 189.218 Q107.561 193.801 101.751 193.801 Q95.941 193.801 92.8623 189.218 Q89.8068 184.612 89.8068 175.885 Q89.8068 167.135 92.8623 162.551 Q95.941 157.945 101.751 157.945 Z\" fill=\"#000000\" fill-rule=\"nonzero\" fill-opacity=\"1\" /><path clip-path=\"url(#clip230)\" d=\"M63.3949 256.392 L71.0337 256.392 L71.0337 230.026 L62.7236 231.693 L62.7236 227.434 L70.9874 225.767 L75.6633 225.767 L75.6633 256.392 L83.3022 256.392 L83.3022 260.327 L63.3949 260.327 L63.3949 256.392 Z\" fill=\"#000000\" fill-rule=\"nonzero\" fill-opacity=\"1\" /><path clip-path=\"url(#clip230)\" d=\"M92.7929 225.767 L111.149 225.767 L111.149 229.702 L97.0753 229.702 L97.0753 238.174 Q98.0938 237.827 99.1123 237.665 Q100.131 237.48 101.149 237.48 Q106.936 237.48 110.316 240.651 Q113.696 243.822 113.696 249.239 Q113.696 254.818 110.223 257.92 Q106.751 260.998 100.432 260.998 Q98.2558 260.998 95.9873 260.628 Q93.7419 260.257 91.3346 259.517 L91.3346 254.818 Q93.4179 255.952 95.6401 256.507 Q97.8623 257.063 100.339 257.063 Q104.344 257.063 106.682 254.957 Q109.02 252.85 109.02 249.239 Q109.02 245.628 106.682 243.521 Q104.344 241.415 100.339 241.415 Q98.4641 241.415 96.5892 241.832 Q94.7373 242.248 92.7929 243.128 L92.7929 225.767 Z\" fill=\"#000000\" fill-rule=\"nonzero\" fill-opacity=\"1\" /><path clip-path=\"url(#clip230)\" d=\"M65.6171 323.589 L81.9365 323.589 L81.9365 327.524 L59.9921 327.524 L59.9921 323.589 Q62.6541 320.834 67.2375 316.204 Q71.8439 311.552 73.0245 310.209 Q75.2698 307.686 76.1494 305.95 Q77.0522 304.191 77.0522 302.501 Q77.0522 299.746 75.1078 298.01 Q73.1865 296.274 70.0847 296.274 Q67.8856 296.274 65.4319 297.038 Q63.0014 297.802 60.2236 299.353 L60.2236 294.63 Q63.0477 293.496 65.5014 292.918 Q67.955 292.339 69.9921 292.339 Q75.3624 292.339 78.5568 295.024 Q81.7513 297.709 81.7513 302.2 Q81.7513 304.33 80.9411 306.251 Q80.1541 308.149 78.0476 310.742 Q77.4689 311.413 74.367 314.63 Q71.2652 317.825 65.6171 323.589 Z\" fill=\"#000000\" fill-rule=\"nonzero\" fill-opacity=\"1\" /><path clip-path=\"url(#clip230)\" d=\"M101.751 296.043 Q98.1401 296.043 96.3114 299.607 Q94.5058 303.149 94.5058 310.279 Q94.5058 317.385 96.3114 320.95 Q98.1401 324.491 101.751 324.491 Q105.385 324.491 107.191 320.95 Q109.02 317.385 109.02 310.279 Q109.02 303.149 107.191 299.607 Q105.385 296.043 101.751 296.043 M101.751 292.339 Q107.561 292.339 110.617 296.945 Q113.696 301.529 113.696 310.279 Q113.696 319.005 110.617 323.612 Q107.561 328.195 101.751 328.195 Q95.941 328.195 92.8623 323.612 Q89.8068 319.005 89.8068 310.279 Q89.8068 301.529 92.8623 296.945 Q95.941 292.339 101.751 292.339 Z\" fill=\"#000000\" fill-rule=\"nonzero\" fill-opacity=\"1\" /><path clip-path=\"url(#clip230)\" d=\"M66.6125 390.786 L82.9318 390.786 L82.9318 394.721 L60.9875 394.721 L60.9875 390.786 Q63.6495 388.031 68.2328 383.401 Q72.8393 378.749 74.0198 377.406 Q76.2652 374.883 77.1448 373.147 Q78.0476 371.388 78.0476 369.698 Q78.0476 366.943 76.1032 365.207 Q74.1819 363.471 71.08 363.471 Q68.881 363.471 66.4273 364.235 Q63.9967 364.999 61.219 366.55 L61.219 361.827 Q64.043 360.693 66.4967 360.114 Q68.9504 359.536 70.9874 359.536 Q76.3578 359.536 79.5522 362.221 Q82.7466 364.906 82.7466 369.397 Q82.7466 371.526 81.9365 373.448 Q81.1494 375.346 79.0429 377.938 Q78.4642 378.61 75.3624 381.827 Q72.2606 385.022 66.6125 390.786 Z\" fill=\"#000000\" fill-rule=\"nonzero\" fill-opacity=\"1\" /><path clip-path=\"url(#clip230)\" d=\"M92.7929 360.161 L111.149 360.161 L111.149 364.096 L97.0753 364.096 L97.0753 372.568 Q98.0938 372.221 99.1123 372.059 Q100.131 371.874 101.149 371.874 Q106.936 371.874 110.316 375.045 Q113.696 378.216 113.696 383.633 Q113.696 389.212 110.223 392.313 Q106.751 395.392 100.432 395.392 Q98.2558 395.392 95.9873 395.022 Q93.7419 394.651 91.3346 393.911 L91.3346 389.212 Q93.4179 390.346 95.6401 390.901 Q97.8623 391.457 100.339 391.457 Q104.344 391.457 106.682 389.35 Q109.02 387.244 109.02 383.633 Q109.02 380.022 106.682 377.915 Q104.344 375.809 100.339 375.809 Q98.4641 375.809 96.5892 376.225 Q94.7373 376.642 92.7929 377.522 L92.7929 360.161 Z\" fill=\"#000000\" fill-rule=\"nonzero\" fill-opacity=\"1\" /><path clip-path=\"url(#clip230)\" d=\"M75.7559 443.284 Q79.1124 444.001 80.9874 446.27 Q82.8855 448.538 82.8855 451.871 Q82.8855 456.987 79.367 459.788 Q75.8485 462.589 69.3671 462.589 Q67.1912 462.589 64.8764 462.149 Q62.5847 461.733 60.131 460.876 L60.131 456.362 Q62.0754 457.496 64.3903 458.075 Q66.7051 458.654 69.2282 458.654 Q73.6263 458.654 75.918 456.918 Q78.2328 455.182 78.2328 451.871 Q78.2328 448.816 76.08 447.103 Q73.9504 445.367 70.131 445.367 L66.1032 445.367 L66.1032 441.524 L70.3161 441.524 Q73.7652 441.524 75.5939 440.159 Q77.4226 438.77 77.4226 436.177 Q77.4226 433.515 75.5245 432.103 Q73.6495 430.668 70.131 430.668 Q68.2097 430.668 66.0106 431.085 Q63.8115 431.501 61.1727 432.381 L61.1727 428.214 Q63.8347 427.473 66.1495 427.103 Q68.4875 426.733 70.5476 426.733 Q75.8717 426.733 78.9735 429.163 Q82.0753 431.571 82.0753 435.691 Q82.0753 438.561 80.4318 440.552 Q78.7883 442.52 75.7559 443.284 Z\" fill=\"#000000\" fill-rule=\"nonzero\" fill-opacity=\"1\" /><path clip-path=\"url(#clip230)\" d=\"M101.751 430.436 Q98.1401 430.436 96.3114 434.001 Q94.5058 437.543 94.5058 444.672 Q94.5058 451.779 96.3114 455.344 Q98.1401 458.885 101.751 458.885 Q105.385 458.885 107.191 455.344 Q109.02 451.779 109.02 444.672 Q109.02 437.543 107.191 434.001 Q105.385 430.436 101.751 430.436 M101.751 426.733 Q107.561 426.733 110.617 431.339 Q113.696 435.922 113.696 444.672 Q113.696 453.399 110.617 458.006 Q107.561 462.589 101.751 462.589 Q95.941 462.589 92.8623 458.006 Q89.8068 453.399 89.8068 444.672 Q89.8068 435.922 92.8623 431.339 Q95.941 426.733 101.751 426.733 Z\" fill=\"#000000\" fill-rule=\"nonzero\" fill-opacity=\"1\" /><g clip-path=\"url(#clip232)\">\n",
       "<image width=\"430\" height=\"430\" xlink:href=\"data:image/png;base64,\n",
       "iVBORw0KGgoAAAANSUhEUgAAAa4AAAGuCAYAAADI9eKaAAAV60lEQVR4nO3dya4k93If4Mg8deah\n",
       "J3ZzaJK6hAVJkGQDsmADhuGdvPAD6KH8CH4EL/QaXso2DA3k5aUINrub3ezpzOfUqcr0gja8dYRx\n",
       "694wvm8fiKp/ZtWvcvOr4T/+p/88R8E0rStTlVUxxJCeGQszm1d5jfnLNRTPvfb6ipsKq4bCWURE\n",
       "jEPhDAsvcJ5rr6+ya5pq17g6tzm1M1zPhe+nyj1YuXHLivfT+Ht+jQtnOP4WXgYA/NYILgBaEVwA\n",
       "tCK4AGhFcAHQiuACoBXBBUArgguAVgQXAK0ILgBaEVwAtCK4AGhFcAHQymIct4qjtabiiko7fGUm\n",
       "Ijb5tkrK72tDNtmWXWl5r87V2uHTI/97Mj0xjpv7DbrJ1vv6rso1Lq3anN/31xe1a1yZ8cQFQCuC\n",
       "C4BWBBcArQguAFoRXAC0IrgAaEVwAdCK4AKgFcEFQCuCC4BWBBcArQguAFpZ/K5fwP+NuVA6OswN\n",
       "GikLSmfxW3gdvw+qBaylMyyVh6ZHIqJWzls9i02qvMbKtfpfywq78jZZKl0+ig3d7xGbuw89cQHQ\n",
       "iuACoBXBBUArgguAVgQXAK0ILgBaEVwAtCK4AGhFcAHQiuACoBXBBUArgguAVgQXAK20aIeH37VK\n",
       "6/VGm8P5/161Kb9075Y2Rf0vEZI8cQHQiuACoBXBBUArgguAVgQXAK0ILgBaEVwAtCK4AGhFcAHQ\n",
       "iuACoBXBBUArgguAVhbV4kaA3zY1xf/HRotvN1kQXdjliQuAVgQXAK0ILgBaEVwAtCK4AGhFcAHQ\n",
       "iuACoBXBBUArgguAVgQXAK0ILgBaEVwAtCK4AGhlMRTb4ed5KkxVZmrmufa+aqXItSblUmlzZVHp\n",
       "WtUMm+zzHmrvq3Jn1M69+s8L+bnq57gyt9l/lCjuGtaFmfzIuMEW9eq5T4XPf/VzPNc+KOkJT1wA\n",
       "tCK4AGhFcAHQiuACoBXBBUArgguAVgQXAK0ILgBaEVwAtCK4AGhFcAHQiuACoJXFMBfKKCMiYlWY\n",
       "KZa9FrolyyW7hSwfxmrJbn6usmnYYLlxVeUs5qFYEF2YmwsnXy0qHQtva6wMRbVkt2iD3bxT4Z4f\n",
       "Cz/jt7a28kMRUfkkVzub79b5wcr5/TKXN2zlD94TFwCtCC4AWhFcALQiuABoRXAB0IrgAqAVwQVA\n",
       "K4ILgFYEFwCtCC4AWhFcALQiuABoRXAB0MoiotoOX+kBLraUl1rAN9ccXm0BL3W9l1Ztrh2+0vIe\n",
       "UTvDofizay7cG8NcaBsvvsDKEW4Vz32stPJvsOW9aop8a3vlXx6q7fCVf6+YC/dgRMQ45+/D6q7q\n",
       "N2GWJy4AWhFcALQiuABoRXAB0IrgAqAVwQVAK4ILgFYEFwCtCC4AWhFcALQiuABoRXAB0MoihlrJ\n",
       "7jCs0jNzuey1UnxbMwyF11gsOK20xNZWba5kt3wWpStWa3stdKnW3la1qLTwtqq9t+tC2Wu5SLlS\n",
       "6Ft8Z1OhPLz0vorXeJryc9NUPIvSayyWlJfm8ufuiQuAVgQXAK0ILgBaEVwAtCK4AGhFcAHQiuAC\n",
       "oBXBBUArgguAVgQXAK0ILgBaEVwAtLIYxlrJbsyFEstNluxusAi0vqtajZozVoqDq6odu6XBzb2v\n",
       "yjUey5c3P1grUq2p3rZDod240AEcERHryr1R2DWOtd/+c+GNVWYiasW3m9w1FJ6fPHEB0IrgAqAV\n",
       "wQVAK4ILgFYEFwCtCC4AWhFcALQiuABoRXAB0IrgAqAVwQVAK4ILgFYEFwCtLGKotcMPlblyG3ql\n",
       "cbhmHCpZXn1flSb6yp7NtNBH/L805ReGqtXhlftpc0dYvMa1dvhKm/dUbYffTGF7RERMpTMsDJVb\n",
       "1Dc3VfvfheL9VDmPSit/fgQAfncEFwCtCC4AWhFcALQiuABoRXAB0IrgAqAVwQVAK4ILgFYEFwCt\n",
       "CC4AWhFcALSyKDVfRsRcmBuKu4ZSyW4xkwuvsdz1WmhurayqnF9drWS39L6KzbfDXLnGlXuwWPVc\n",
       "adktvKdfVD7HxVUVxVt3ngsF1pU9xWs8FZqKP/v0s9Ku7cV2euaHZz+UdsWcL1+vXGJPXAC0IrgA\n",
       "aEVwAdCK4AKgFcEFQCuCC4BWBBcArQguAFoRXAC0IrgAaEVwAdCK4AKgFcEFQCuL1bQqDa6G/NxW\n",
       "YSYiYmsqNF/PtUxex1Z+1VDbVWkPr7WU1wyFGvDK66uq/ttAxGYarKdqjXrlfiq0cv8yV7ifNlgP\n",
       "Pxfr4cfSWOFfA9a1cz85fJCe+aOv/rC06827d+mZuXo/FT5blXvQExcArQguAFoRXAC0IrgAaEVw\n",
       "AdCK4AKgFcEFQCuCC4BWBBcArQguAFoRXAC0IrgAaGUxra9Kg5Uy1bla9zpVGjNvS6sq/aHDmC/m\n",
       "/WVXYW7OF4GuC+WhERHjmP9dUy1gLZXzzrVdY2Gu1B08Vkt288umYrlxpcR2qO6qXOLC/R4RxWbp\n",
       "QslusWD7o48/T89s7x6Vdp2efZ+eWa/vSrumoVCyO+W/Bz1xAdCK4AKgFcEFQCuCC4BWBBcArQgu\n",
       "AFoRXAC0IrgAaEVwAdCK4AKgFcEFQCuCC4BWBBcArSxitSwNDpXG9nlR2jVV2rzHWoN1DPmG6EKZ\n",
       "d0REzIUm9Uqb9xiFxuaIGIqt8iWF6vCtqLXyLwq/1yrt9dUW9UrD/lS8CYu3bm1X5R8lymeYv3en\n",
       "wsfk+ORxfigi9o8fpGdevz8r7To9+5CeWU2r0q650A4/F+5dT1wAtCK4AGhFcAHQiuACoBXBBUAr\n",
       "gguAVgQXAK0ILgBaEVwAtCK4AGhFcAHQiuACoJXFvNoujt6kJ6a4LW1ajTvpmdvxpLRrqNSOFotA\n",
       "1+NeemaIfAHrfrFkd5OlqJVj3xprBdFbQ2FurpQv10qKS9XBhSLqX+YqI5ur5i19HiNiLjTmjkP+\n",
       "u/BXX3yVnomI2F3kd71+/aq060OhZHddLNldR35uLhQie+ICoBXBBUArgguAVgQXAK0ILgBaEVwA\n",
       "tCK4AGhFcAHQiuACoBXBBUArgguAVgQXAK0sVutaEeiqUH652qrl5Hmlm3f/YWnX/eOj/FCxkHIZ\n",
       "+fLgoVDBur8o1bbGvM4Xla7WtbOodPPexkVp1xBX+aH1XXpkLN4X45A/jLH2MY552lypdAz5IuDC\n",
       "SERETKv89fro0ZP0zJNP/1l6JiJify9fsL0q3IMREb/+Lv8FulzVCqznyo1YiAVPXAC0IrgAaEVw\n",
       "AdCK4AKgFcEFQCuCC4BWBBcArQguAFoRXAC0IrgAaEVwAdCK4AKgFcEFQCuLy7t3pcHLZaG2+fDT\n",
       "0q7b7Y/SMwe7+ZmIiCeffpae2duuta8/f3+ZnrkulDavFrXfJ1uFVvnp5qa0axzzr3Gea5XoU2Fu\n",
       "nPLN3NO61rAdc6GVfyrWww/5c682ts+FVvnKTETEPOXP8HrvfnrmH57X7vft8TQ9c3X6trTrZpl/\n",
       "jRdX56Vd05A/98oflHjiAqAVwQVAK4ILgFYEFwCtCC4AWhFcALQiuABoRXAB0IrgAqAVwQVAK4IL\n",
       "gFYEFwCtLF5++Kk0eH6TL6Q8jv3Srk8+/Tw9c/+4tmt9mi+kXG5fl3bdvnmfnjm/3snPLBbpmYiI\n",
       "sVCmWi1gXYz5Qt+Ly9vSrnHYTs9sFX7iDbV+2Ig5f4hD5WJFxDgWCoeLb2yr0EV9e1crKh7n/LLl\n",
       "1Yf0zLtXL9MzEREf3n6Xnrk4+7G0a2e4Ss8sV/kC8IiI5V2hdLhQ9OyJC4BWBBcArQguAFoRXAC0\n",
       "IrgAaEVwAdCK4AKgFcEFQCuCC4BWBBcArQguAFoRXAC0IrgAaGXx9izfUB4RcfLwi/TMk3tHpV2f\n",
       "7N+lZxarWmP79ft84/jl9Ky2613+7C/P8me4d3SYnomI2D/MN+zvbufb6yMi9nd30zP3d1e1Xfv5\n",
       "97Wze5CemaPWyn93t07PTHOtRX17zO/aW9Sa6BeLfBP9zSr/+iIiplX+O+NumW9Rv7x6k56JiJiv\n",
       "n6dnxum8tCu2K/dToeU9IrZ38v8csLOT/5x44gKgFcEFQCuCC4BWBBcArQguAFoRXAC0IrgAaEVw\n",
       "AdCK4AKgFcEFQCuCC4BWBBcArSyOd2pltH/8Rb5M9csn+QLGiIiPTvLll9u7tbLXYZ0vYP3m21rR\n",
       "5vXuu/TMapEv5n18+CA9ExHxL/75n6VntoZaAeu9k3wR8BT50taIiA9nZ+mZq5vT9MzFZb6wOSLi\n",
       "/VX+9W2Ne6VdTx4+Ss8MU+0742//9r+kZ26ny9Kuw+Ot9Mz1Tb5Y9tnzn9MzERFPPv4yPfMf/urf\n",
       "l3Z9+/V/T898//1Fadf9k5P0zPYi/13tiQuAVgQXAK0ILgBaEVwAtCK4AGhFcAHQiuACoBXBBUAr\n",
       "gguAVgQXAK0ILgBaEVwAtCK4AGhl8WhvtzR4+uM/pme+++mfSrte722nZ8b9g9KurVikZ168yJ9F\n",
       "RMTZZb5le3fv4/TMyx9+TM9ERCymfOv9x0/ybeMRETfn+ev1j99+U9r1919/nZ75+W2+lf/8otYO\n",
       "f3qWb0T/d//2r0q7/vKv/zo98/LZ89Kut2/z12s7/2cNERHx6OR+euboXn7Z9UXtXyh+8+u/S8/8\n",
       "m3/1F6VdHx3k/3khPs5/z0REHBzkz2MY8k3+nrgAaEVwAdCK4AKgFcEFQCuCC4BWBBcArQguAFoR\n",
       "XAC0IrgAaEVwAdCK4AKgFcEFQCuLz598WRqc11N+ZlkrHb2+OkvPvHrxQ2nX7VX+NR4e1IqKhzlf\n",
       "Lrm8W6Znbla13yf/9e/yZbTj369Ku3Z38q/x+jZfUhwR8fW336VnDo5O0jOreUjPRES8OztPz/z8\n",
       "/lVp14+vvk/PPHv+m9Kurb38NT442ivtGqd8Ye5iyu/6+NFH6ZmIiOXyLj3zm2/+W2nX0Zh/X3vb\n",
       "+e+miIhF4ZYfYk7PeOICoBXBBUArgguAVgQXAK0ILgBaEVwAtCK4AGhFcAHQiuACoBXBBUArgguA\n",
       "VgQXAK0ILgBaWVxf59vGIyLuCi3l07Qu7ZoK+boqZvLtOt9uvrM+Ku26urlJz0yLfHv99t7D9ExE\n",
       "xGLOX68ff/i2tOv8/H16ZjHWrvH1Zf4MhyF/rZbL2v0eU75i++tv/kdp1d/8zYf0zP2jg9KuRaE6\n",
       "fCqcRUTEzTLfOH67zP/bwGrKt7xHRHz6JP+ZnFe1f9e4W+Q/J3fL2r88XN7kz2Nra5Ge8cQFQCuC\n",
       "C4BWBBcArQguAFoRXAC0IrgAaEVwAdCK4AKgFcEFQCuCC4BWBBcArQguAFpZvHz1ojS4XOXLFK9X\n",
       "teLG5WpKz9xeX5R2rZf5IsvT81rR5jxupWdOHmynZ/b2akWlW2N+7sHD/dKuBw/z72u3WLL79F//\n",
       "RXpmmvNncXp2mZ6JiLi7K3xOhlpZ9v2jvfTMo3sPSrsWi/w1novX+GaZL0W+vM7P3N3WPvvbi530\n",
       "zOFB/vsiIuLiLn8fXt+elXZtb+ev1/5+vrTZExcArQguAFoRXAC0IrgAaEVwAdCK4AKgFcEFQCuC\n",
       "C4BWBBcArQguAFoRXAC0IrgAaGXx5dMvSoM/vXuTH7qqlY5+8vgkPXNznZ+JiFgW+k0PD2qlo/dP\n",
       "7qVnbm6v0zOnZ7XCzNVNfu7eQb60NaJWprq/Vyv0PXrwMD2zvbWbnnn0qFbAOkZ+bnso/gYtnPtq\n",
       "WpdWzetC2XNlJiL2tvNz6yF/jYfd2rmf7OaLZavX+PTqND3zza9/U9r15HH+s/X0s/y5e+ICoBXB\n",
       "BUArgguAVgQXAK0ILgBaEVwAtCK4AGhFcAHQiuACoBXBBUArgguAVgQXAK0ILgBaWYxbW6XBFy+f\n",
       "p2fevHld2nX/ON/0/vKnQnt9RKymRXrm6RdflXZ99WV+Znc7//p28iMREXH/UaH1fq41h796+y49\n",
       "c7ucSrvevc837N87yrfeVxrlIyKmwttarW9Lu2LML5tqXxkxzPnfycOq9tt6GvM3/fOfXqVnXr7J\n",
       "N69HRPzLP/3z9MzTx49Lu86Xc3rm6qZ2kf/h62fpmZcv82foiQuAVgQXAK0ILgBaEVwAtCK4AGhF\n",
       "cAHQiuACoBXBBUArgguAVgQXAK0ILgBaEVwAtLK4uLkqDV7f3qRn5siXPUZE3N7mC0Tff/hQ2nV9\n",
       "l5+Zx+3SrjFW6Zl7xwfpmauL2ll88enH6Zl5rhXfnn3Il+yeXi1Lu55+li8Q/ezJ5+mZasnu5dVl\n",
       "eub8On8vRUSspvxna3e/9nt3b3cnPbOzs1/adVP4ID97/nN65seXxTLv6/x34eOH+WLziIiTh/my\n",
       "7M+/+uPSrhfPv0/PvD87T8944gKgFcEFQCuCC4BWBBcArQguAFoRXAC0IrgAaEVwAdCK4AKgFcEF\n",
       "QCuCC4BWBBcArQguAFpZ/NOzZ6XBd6en6ZkH905Ku371NN/M/f601np/dp1vHL/3oPa+9g/30jPD\n",
       "Vr5V+m5Va1F//TrffD1NtX8AWC7X6Znq+7pdFtqox3zb+N261pR/XvjnhXerWhP9z+/fp2eOj4bS\n",
       "ri+ffpTf9fCT0q7bt/l/RHjz9iw98/JFrR3+zU+Vf2yo/QPAH/xh/vvzT/7kV6VdTwrX+OPPHqdn\n",
       "PHEB0IrgAqAVwQVAK4ILgFYEFwCtCC4AWhFcALQiuABoRXAB0IrgAqAVwQVAK4ILgFYWz1/VSiLf\n",
       "fbhMz9w/eVjatbt7lJ7ZOzgs7VptbadnHjy6V9r16PGD9MzWkC9uPT6uvb6ffniVnjk8yF+riIiP\n",
       "jh6lZ25e1QqiV6t8Ye56lS++vV7WCoffnl+kZ+52n5R2xU7+3piG29Kq9+f54utXb74r7bp5ny+x\n",
       "vTjLf6fdXtXOYtjNFxUPi2Jp82W+SPnsolYcfu/kID1zfJT/rvbEBUArgguAVgQXAK0ILgBaEVwA\n",
       "tCK4AGhFcAHQiuACoBXBBUArgguAVgQXAK0ILgBaEVwAtLI4PM63ckdEfDLupGf292vN4S9e/Jye\n",
       "ubldlnZdXuUbol+/yb++iIgH9/bTM8ubSht1vrE5IuKP/vQv0zPHR7Um+lWs0zOHD2qN6Bcf3qZn\n",
       "bq7zzdwHR/fTMxERN8vz9MyHs9q/PBzu5hvsV+f5tvGIiMubs/TMu/fXpV1vX+Wv8bzK34P72/nv\n",
       "wYiIeZ3ftZ5XpV3TKt9Ev7yu7Vrt5j8nw/5WesYTFwCtCC4AWhFcALQiuABoRXAB0IrgAqAVwQVA\n",
       "K4ILgFYEFwCtCC4AWhFcALQiuABoZfHFZ09Lg9M6X8K4Xt6Udm0P+RLGYXe3tOvF6xfpmeOTWont\n",
       "zm6+oPPnn/Nlqu9OX6dnIiKW+R7Q+OLpH5R2HR/nC5jvnZyUdu0sCqWjc76M9rB4Dx4e5O+ny+sP\n",
       "pV27sZ2eubqoFd8+/5Avo3756rS06+w0/xq3d/Kl14+ePEjPRESMQ/5+muKutOvgIH8fzvmu3IiI\n",
       "uPyQz4W763yptCcuAFoRXAC0IrgAaEVwAdCK4AKgFcEFQCuCC4BWBBcArQguAFoRXAC0IrgAaEVw\n",
       "AdDK/wRxiPdZhmbJBwAAAABJRU5ErkJggg==\n",
       "\" transform=\"translate(123, 48)\"/>\n",
       "</g>\n",
       "</svg>\n"
      ]
     },
     "metadata": {},
     "output_type": "display_data"
    }
   ],
   "source": [
    "classes = (\n",
    "    0 => \"airplane\",\n",
    "    1 => \"automobile\",\n",
    "    2 => \"bird\",\n",
    "    3 => \"cat\",\n",
    "    4 => \"deer\",\n",
    "    5 => \"dog\",\n",
    "    6 => \"frog\",\n",
    "    7 => \"horse\",\n",
    "    8 => \"ship\",\n",
    "    9 => \"truck\"\n",
    ")\n",
    "\n",
    "index = rand(1:10000)\n",
    "\n",
    "rand_test = test_x[:,:,:,[index]] \n",
    "rand_truth = test_y[index]\n",
    "prediction = Flux.onecold(CNN_model(rand_test), 0:9)[1]\n",
    "\n",
    "println(\"Predicted class: $(prediction) ($(classes[(prediction) + 1]))\")\n",
    "println(\"True class: $(rand_truth) ($(classes[(rand_truth) + 1]))\")\n",
    "\n",
    "img = test_x[:,:,:,index]\n",
    "plot(image(img), size = (150,150))"
   ]
  },
  {
   "cell_type": "code",
   "execution_count": 46,
   "metadata": {},
   "outputs": [
    {
     "data": {
      "text/plain": [
       "0.5183"
      ]
     },
     "metadata": {},
     "output_type": "display_data"
    }
   ],
   "source": [
    "accuracy(test_x, test_labels, CNN_model)"
   ]
  },
  {
   "cell_type": "markdown",
   "metadata": {},
   "source": [
    "# Example 3 - Inverse optimisation\n",
    "\n",
    "Let's do something a bit more sophisticated now. Because of Julia's natural function oriented paradigm, we can treat trained NN as functions, and do things such as calculate *gradients*, which we can use in our favour!"
   ]
  },
  {
   "cell_type": "markdown",
   "metadata": {},
   "source": [
    "Our task will be to try to train a NN that can learn the \"shape\" of an unknown function. We assume that all we have are inputs and evatuations of this function. "
   ]
  },
  {
   "cell_type": "code",
   "execution_count": null,
   "metadata": {},
   "outputs": [],
   "source": [
    "# Styblinski–Tang function\n",
    "f(x::Tuple) = 0.5 * sum([xi^4 - 16*xi^2 + 5*xi for xi in x])\n",
    "\n",
    "num_samples = 1000\n",
    "lb = Float32[-4.0, -4.0]\n",
    "ub = Float32[0.0, 0.0]\n",
    "\n",
    "T2M(x::Vector) = Float32.(reshape(collect(Iterators.flatten(x)), length(x[1]), length(x)))\n",
    "\n",
    "x_tuple = Surrogates.sample(num_samples, [lb, ub]..., SobolSample())\n",
    "x = T2M(x_tuple)\n",
    "y = T2M(f.(x_tuple))\n",
    "\n",
    "train_data, test_data = splitobs((x, y), at = 0.8) # from MLUtils.jl\n",
    "\n",
    "# assign the data\n",
    "x_train, y_train = train_data[1], train_data[2]\n",
    "x_test, y_test = test_data[1], test_data[2];"
   ]
  },
  {
   "cell_type": "markdown",
   "metadata": {},
   "source": [
    "Now that our data is in the format we need, let's set p and train a NN that learns the underlying relationship (i.e., function) between the inputs $x$ and outputs $y$. \n",
    "\n",
    "We start by building our model and setting its parameterisation"
   ]
  },
  {
   "cell_type": "code",
   "execution_count": null,
   "metadata": {},
   "outputs": [],
   "source": [
    "# build the model\n",
    "model = Chain(\n",
    "    Dense(2, 512, relu),\n",
    "    Dense(512, 256, relu),\n",
    "    Dense(256, 1)\n",
    ")\n",
    "\n",
    "opt = ADAM()                        # our optimiser\n",
    "loss(model, x, y) = Flux.mse(model(x), y)  # our loss"
   ]
  },
  {
   "cell_type": "code",
   "execution_count": null,
   "metadata": {},
   "outputs": [],
   "source": [
    "loss_progression = []\n",
    "epochs = 2000\n",
    "\n",
    "for epoch in 1:epochs\n",
    "    Flux.train!(loss, Flux.params(model), [(x_train, y_train)], opt)\n",
    "    # Logging\n",
    "    l = loss(x_train, y_train)\n",
    "    push!(loss_progression, l)\n",
    "    if mod(epoch, 10) == 1 || epoch == epochs\n",
    "        println(\"epoch=$epoch : train_loss=$l\")\n",
    "    end\n",
    "end"
   ]
  },
  {
   "cell_type": "markdown",
   "metadata": {},
   "source": [
    "Let's have a look at our training loss"
   ]
  },
  {
   "cell_type": "code",
   "execution_count": null,
   "metadata": {},
   "outputs": [],
   "source": [
    "plot(1:epochs, loss_progression,\n",
    "    xlabel = \"Epochs\",\n",
    "    ylabel = \"Loss\",\n",
    "    legend = false,\n",
    ")"
   ]
  },
  {
   "cell_type": "markdown",
   "metadata": {},
   "source": [
    "And make sure we check for overfitting"
   ]
  },
  {
   "cell_type": "code",
   "execution_count": null,
   "metadata": {},
   "outputs": [],
   "source": [
    "test_loss = loss(x_test, y_test)\n",
    "println(\"Test Loss = $test_loss\")"
   ]
  },
  {
   "cell_type": "markdown",
   "metadata": {},
   "source": [
    "Now we are ready to optimise our trained surrogate. Because `model()` can essentially be seen as a function, it also means that we can calculate gradients from it with respect to its inputs!\n",
    "\n",
    "Let's implement a very simple gradient descent method for the task"
   ]
  },
  {
   "cell_type": "code",
   "execution_count": null,
   "metadata": {},
   "outputs": [],
   "source": [
    "x₀ = Float32.([0,0])  \n",
    "max_iter = 100\n",
    "θ = 0.01\n",
    "trajectory = zeros(3, max_iter)\n",
    "\n",
    "xₖ = x₀\n",
    "for k =1:max_iter\n",
    "    ∇ₖ = Flux.jacobian(x -> model(x), xₖ)[1] # calculate gradient\n",
    "    xₖ = xₖ .- θ .* ∇ₖ'\n",
    "    trajectory[1:2,k] = xₖ\n",
    "    trajectory[3,k] = model(xₖ)[1]\n",
    "    println(\"Iteration $k: f(xₖ)=$(model(xₖ)[1])\")\n",
    "end"
   ]
  },
  {
   "cell_type": "markdown",
   "metadata": {},
   "source": [
    "We can see what was the final optimal point and compare against the ground truth, for validation"
   ]
  },
  {
   "cell_type": "code",
   "execution_count": null,
   "metadata": {},
   "outputs": [],
   "source": [
    "println(\"Final optimised position: [$(round(xₖ[1], digits=4)), $(round(xₖ[2], digits=4))]\")\n",
    "println(\"            Model Output: $(round(model(xₖ)[1], digits=4))\")\n",
    "println(\"  Actual Function Output: $(round(f(Tuple(xₖ)), digits=4))\")"
   ]
  },
  {
   "cell_type": "code",
   "execution_count": null,
   "metadata": {},
   "outputs": [],
   "source": [
    "x, y = Float32.(-4.0:0.02:0.0), Float32.(-4.0:0.02:0.0) # To use model() we need Float32\n",
    "z_true = [f((x1,x2)) for x1 in x, x2 in y]\n",
    "z_surrogate = [model([x1, x2])[1] for x1 in x, x2 in y] \n",
    "\n",
    "p1 = surface(x, y, z_true, clims = (-80, -20), colorbar = false)\n",
    "scatter!(p1, [xₖ[1]], [xₖ[2]], [f(Tuple(xₖ))], legend = false)\n",
    "annotate!(p1, [(xₖ[1], xₖ[2], f(Tuple(xₖ))-6, text(\"x-opt\", 10))])\n",
    "\n",
    "p2 = surface(x, y, z_surrogate, clims = (-80, -20), colorbar = false)\n",
    "scatter!(p2, trajectory[1,:], trajectory[2,:], trajectory[3,:], legend = false)\n",
    "scatter!(p2, [xₖ[1]], [xₖ[2]], [model(xₖ)[1]], legend = false)\n",
    "annotate!(p2, [(xₖ[1], xₖ[2], model(xₖ)[1]-6, text(\"x-opt\", :10))])\n",
    "\n",
    "plot(p1, p2, \n",
    "    title=[\"True function\" \"Surrogate model\"], \n",
    "    titlefontsize = 12,\n",
    "    zlims = (-80, -20),\n",
    "    xlabel = [\"x₁\" \"x₁\"], ylabel = [\"x₂\" \"x₂\"],\n",
    "    zlabel = [\"y\" \"y\"],\n",
    "    layout=(1,2), \n",
    "    size=(900, 400)\n",
    ")"
   ]
  },
  {
   "cell_type": "code",
   "execution_count": null,
   "metadata": {},
   "outputs": [],
   "source": [
    "p1 = contour(x, y, z_true, clims = (-80, -10))\n",
    "scatter!(p1, [xₖ[1]], [xₖ[2]], legend = false)\n",
    "annotate!(p1, [(xₖ[1], xₖ[2]-0.15, text(\"x-opt\", 10))])\n",
    "\n",
    "p2 = contour(x, y, z_surrogate, clims = (-80, -10))\n",
    "scatter!(p2, trajectory[1,:], trajectory[2,:], legend = false)\n",
    "scatter!(p2, [xₖ[1]], [xₖ[2]], legend = false)\n",
    "annotate!(p2, [(xₖ[1], xₖ[2]-0.15, text(\"x-opt\", 10))])\n",
    "\n",
    "plot(p1, p2, \n",
    "    title=[\"True function\" \"Surrogate model\"],\n",
    "    titlefontsize = 12, \n",
    "    xlabel = [\"x₁\" \"x₁\"], ylabel = [\"x₂\" \"x₂\"],\n",
    "    layout=(1,2), \n",
    "    size=(900, 400),\n",
    ")"
   ]
  }
 ],
 "metadata": {
  "kernelspec": {
   "display_name": "Julia 1.10.3",
   "language": "julia",
   "name": "julia-1.10"
  },
  "language_info": {
   "file_extension": ".jl",
   "mimetype": "application/julia",
   "name": "julia",
   "version": "1.10.3"
  }
 },
 "nbformat": 4,
 "nbformat_minor": 2
}
